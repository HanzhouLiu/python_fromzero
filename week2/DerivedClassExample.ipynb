{
  "nbformat": 4,
  "nbformat_minor": 0,
  "metadata": {
    "colab": {
      "name": "DerivedClassExample.ipynb",
      "provenance": [],
      "collapsed_sections": [],
      "authorship_tag": "ABX9TyMBzFPr7Qggb194n8JrfvLE",
      "include_colab_link": true
    },
    "kernelspec": {
      "name": "python3",
      "display_name": "Python 3"
    },
    "language_info": {
      "name": "python"
    },
    "accelerator": "GPU"
  },
  "cells": [
    {
      "cell_type": "markdown",
      "metadata": {
        "id": "view-in-github",
        "colab_type": "text"
      },
      "source": [
        "<a href=\"https://colab.research.google.com/github/HanzhouLiu/python_fromzero/blob/main/DerivedClassExample.ipynb\" target=\"_parent\"><img src=\"https://colab.research.google.com/assets/colab-badge.svg\" alt=\"Open In Colab\"/></a>"
      ]
    },
    {
      "cell_type": "code",
      "metadata": {
        "id": "hVnPvzkEoXkW"
      },
      "source": [
        "import torch\n",
        "import torch.nn as nn\n",
        "import torch.optim as optim\n",
        "import torch.nn.functional as F\n",
        "from torch.utils.data import DataLoader\n",
        "import torchvision.datasets as datasets\n",
        "import torchvision.transforms as transforms"
      ],
      "execution_count": null,
      "outputs": []
    },
    {
      "cell_type": "code",
      "metadata": {
        "colab": {
          "base_uri": "https://localhost:8080/"
        },
        "id": "2dG-FbD1tkV7",
        "outputId": "83c2df68-6956-4523-edb4-a60b997a38d7"
      },
      "source": [
        "# A simple example about how to inherite from a class\n",
        "class Person:\n",
        "  def __init__(self, fname, lname):\n",
        "    self.firstname = fname\n",
        "    self.lastname = lname\n",
        "\n",
        "  def printname(self):\n",
        "    print(self.firstname, self.lastname)\n",
        "\n",
        "# Use the Person class to create an object, and then execute the printname method:\n",
        "x = Person(\"John\", \"Doe\")\n",
        "x.printname()"
      ],
      "execution_count": null,
      "outputs": [
        {
          "output_type": "stream",
          "name": "stdout",
          "text": [
            "John Doe\n"
          ]
        }
      ]
    },
    {
      "cell_type": "code",
      "metadata": {
        "colab": {
          "base_uri": "https://localhost:8080/"
        },
        "id": "Tk_7Y5ymt2Bt",
        "outputId": "b200f204-a263-42ef-8699-690941ef4394"
      },
      "source": [
        "# Create a child class\n",
        "class Student(Person):\n",
        "  pass\n",
        "\n",
        "y = Student(\"John\", \"Doe\")\n",
        "y.printname()"
      ],
      "execution_count": null,
      "outputs": [
        {
          "output_type": "stream",
          "name": "stdout",
          "text": [
            "John Doe\n"
          ]
        }
      ]
    },
    {
      "cell_type": "code",
      "metadata": {
        "colab": {
          "base_uri": "https://localhost:8080/"
        },
        "id": "tuCGjWG5vD1J",
        "outputId": "6df69c38-814f-47f7-96c4-cf669b52bd6f"
      },
      "source": [
        "# When you add the __init__() function, \n",
        "# the child class will no longer inherit the parent's __init__() function.\n",
        "# Note: The child's __init__() function overrides the inheritance of the parent's __init__() function.\n",
        "class Student(Person):\n",
        "  def __init__(self, fname, lname, year):\n",
        "    # either way works\n",
        "    # super().__init__(fname, lname)\n",
        "    super(Student, self).__init__(fname, lname)\n",
        "    self.graduationyear = year\n",
        "\n",
        "# Overriding is the property of a class to change the implementation of a method provided by one of its base classes.\n",
        "  def welcome(self):\n",
        "    print(\"Welcome\", self.firstname, self.lastname, \"to the class of\", self.graduationyear)\n",
        "\n",
        "z = Student(\"John\", \"Doe\", 2019)\n",
        "z.welcome()"
      ],
      "execution_count": null,
      "outputs": [
        {
          "output_type": "stream",
          "name": "stdout",
          "text": [
            "Welcome John Doe to the class of 2019\n"
          ]
        }
      ]
    },
    {
      "cell_type": "code",
      "metadata": {
        "colab": {
          "base_uri": "https://localhost:8080/",
          "height": 130
        },
        "id": "8LYEbHYbo_qq",
        "outputId": "3a0f5f8b-f850-4585-c25e-358abd0f3994"
      },
      "source": [
        "# Inherite from a class named nn.Module\n",
        "class NN(nn.Module):\n",
        "  def __init__(self, input_size, num_classes):\n",
        "    super(NN,self).__init()\n",
        "    self.fc1 = nn.Linear(input_size, 50)\n",
        "    self.fc2 = nn.Linear(50, num_classes)\n",
        "\n",
        "  def forward(self, x):\n",
        "    x = F.relu(self.fc1(x))\n",
        "    "
      ],
      "execution_count": null,
      "outputs": [
        {
          "output_type": "error",
          "ename": "SyntaxError",
          "evalue": "ignored",
          "traceback": [
            "\u001b[0;36m  File \u001b[0;32m\"<ipython-input-11-fc4eeadac46c>\"\u001b[0;36m, line \u001b[0;32m8\u001b[0m\n\u001b[0;31m    def forward(self, x):\u001b[0m\n\u001b[0m                         ^\u001b[0m\n\u001b[0;31mSyntaxError\u001b[0m\u001b[0;31m:\u001b[0m unexpected EOF while parsing\n"
          ]
        }
      ]
    },
    {
      "cell_type": "code",
      "metadata": {
        "id": "lJylPqwL11bz"
      },
      "source": [
        ""
      ],
      "execution_count": null,
      "outputs": []
    }
  ]
}
