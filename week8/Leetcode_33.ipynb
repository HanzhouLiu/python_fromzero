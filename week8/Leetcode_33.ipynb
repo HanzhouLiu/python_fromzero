{
  "nbformat": 4,
  "nbformat_minor": 0,
  "metadata": {
    "colab": {
      "name": "Leetcode #33.ipynb",
      "provenance": [],
      "authorship_tag": "ABX9TyOaWM8ua4tkvRs8TQNDuamf",
      "include_colab_link": true
    },
    "kernelspec": {
      "name": "python3",
      "display_name": "Python 3"
    },
    "language_info": {
      "name": "python"
    }
  },
  "cells": [
    {
      "cell_type": "markdown",
      "metadata": {
        "id": "view-in-github",
        "colab_type": "text"
      },
      "source": [
        "<a href=\"https://colab.research.google.com/github/HanzhouLiu/python_fromzero/blob/main/Leetcode_33.ipynb\" target=\"_parent\"><img src=\"https://colab.research.google.com/assets/colab-badge.svg\" alt=\"Open In Colab\"/></a>"
      ]
    },
    {
      "cell_type": "markdown",
      "source": [
        "\n",
        "\n",
        "```\n",
        "Search in rotated sorted array\n",
        "```\n",
        "[Reference link](https://www.youtube.com/watch?v=U8XENwh8Oy8)\n",
        "\n"
      ],
      "metadata": {
        "id": "81028Jr4g-AP"
      }
    },
    {
      "cell_type": "code",
      "execution_count": null,
      "metadata": {
        "id": "b45Cwwl1g53r"
      },
      "outputs": [],
      "source": [
        "class Solution(object):\n",
        "    def search(self, nums, target):\n",
        "        \"\"\"\n",
        "        :type nums: List[int]\n",
        "        :type target: int\n",
        "        :rtype: int\n",
        "        \"\"\"\n",
        "        l, r = 0, len(nums) - 1\n",
        "        while l <= r:\n",
        "            mid = (l + r) // 2\n",
        "            \n",
        "            if nums[mid] == target:\n",
        "                return mid\n",
        "            \n",
        "            # mid is in the left portion:\n",
        "            if nums[mid] >= nums[l]:\n",
        "                if target >= nums[l] and target <= nums[mid]:\n",
        "                    r = mid - 1\n",
        "                else:\n",
        "                    l = mid + 1\n",
        "                \n",
        "            # mid is in the right portion:\n",
        "            elif nums[mid] < nums[r]:\n",
        "                if target >= nums[mid] and target <= nums[r]:\n",
        "                    l = mid + 1\n",
        "                else:\n",
        "                    r = mid - 1\n",
        "        return -1"
      ]
    }
  ]
}
