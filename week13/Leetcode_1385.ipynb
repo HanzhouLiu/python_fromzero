{
  "nbformat": 4,
  "nbformat_minor": 0,
  "metadata": {
    "colab": {
      "provenance": [],
      "collapsed_sections": [],
      "authorship_tag": "ABX9TyN1dUv1k7j20eUhLQFXCFxZ",
      "include_colab_link": true
    },
    "kernelspec": {
      "name": "python3",
      "display_name": "Python 3"
    },
    "language_info": {
      "name": "python"
    }
  },
  "cells": [
    {
      "cell_type": "markdown",
      "metadata": {
        "id": "view-in-github",
        "colab_type": "text"
      },
      "source": [
        "<a href=\"https://colab.research.google.com/github/HanzhouLiu/python_fromzero/blob/main/Leetcode_1385.ipynb\" target=\"_parent\"><img src=\"https://colab.research.google.com/assets/colab-badge.svg\" alt=\"Open In Colab\"/></a>"
      ]
    },
    {
      "cell_type": "markdown",
      "source": [
        "\n",
        "# 1385. Find the Distance Value Between Two Arrays\n",
        "Given two integer arrays arr1 and arr2, and the integer d, return the distance value between the two arrays.\n",
        "\n",
        "The distance value is defined as the number of elements arr1[i] such that there is not any element arr2[j] where |arr1[i]-arr2[j]| <= d.\n",
        "\n",
        "\n",
        "---\n",
        "\n",
        "\n",
        "\n",
        "```\n",
        "Input: arr1 = [4,5,8], arr2 = [10,9,1,8], d = 2\n",
        "Output: 2\n",
        "Explanation: \n",
        "For arr1[0]=4 we have: \n",
        "|4-10|=6 > d=2 \n",
        "|4-9|=5 > d=2 \n",
        "|4-1|=3 > d=2 \n",
        "|4-8|=4 > d=2 \n",
        "For arr1[1]=5 we have: \n",
        "|5-10|=5 > d=2 \n",
        "|5-9|=4 > d=2 \n",
        "|5-1|=4 > d=2 \n",
        "|5-8|=3 > d=2\n",
        "For arr1[2]=8 we have:\n",
        "|8-10|=2 <= d=2\n",
        "|8-9|=1 <= d=2\n",
        "|8-1|=7 > d=2\n",
        "|8-8|=0 <= d=2\n",
        "```\n",
        "\n",
        "\n",
        "---\n",
        "\n",
        "This problem is labled as easy. However, it's not easy to propose a method with time complexity less than O(nlog_n). \n",
        "\n",
        "---\n",
        "\n",
        "\n",
        "\n"
      ],
      "metadata": {
        "id": "5pxBK2vmsYkd"
      }
    },
    {
      "cell_type": "markdown",
      "source": [
        "Solution1: Brute Force\n",
        "\n",
        "Time complexity: O(LEN(ARR1) * LEN(ARR2))"
      ],
      "metadata": {
        "id": "AFCC43_Nx6eW"
      }
    },
    {
      "cell_type": "code",
      "execution_count": null,
      "metadata": {
        "id": "uf_aZTdDsW5p"
      },
      "outputs": [],
      "source": [
        "class Solution(object):\n",
        "    def findTheDistanceValue(self, arr1, arr2, d):\n",
        "        \"\"\"\n",
        "        :type arr1: List[int]\n",
        "        :type arr2: List[int]\n",
        "        :type d: int\n",
        "        :rtype: int\n",
        "        \"\"\"\n",
        "        # brute force\n",
        "        count  = 0\n",
        "        for i in range(len(arr1)):\n",
        "            for j in range(len(arr2)):\n",
        "                if abs(arr1[i]-arr2[j]) <= d:\n",
        "                    break\n",
        "                if j == len(arr2) - 1:\n",
        "                    count += 1\n",
        "        return count"
      ]
    },
    {
      "cell_type": "markdown",
      "source": [
        "Solution2: Two Pointers \n",
        "\n",
        "Many optimal solutions utilized this method. However, sort() functions are called first, leading to a time complexity larger than O(nlog_n), which is really weird."
      ],
      "metadata": {
        "id": "dFfk80pEyKfs"
      }
    },
    {
      "cell_type": "markdown",
      "source": [
        "Optimal Solution: (Incorrect, need to be fixed)\n",
        "\n",
        "Inspired by [link text](https://leetcode.com/problems/find-the-distance-value-between-two-arrays/discuss/547037/Python-binary-search-nlog(n))"
      ],
      "metadata": {
        "id": "AkR87NLdFvEj"
      }
    },
    {
      "cell_type": "code",
      "source": [
        "class Solution(object):\n",
        "    def findTheDistanceValue(self, arr1, arr2, d):\n",
        "        \"\"\"\n",
        "        :type arr1: List[int]\n",
        "        :type arr2: List[int]\n",
        "        :type d: int\n",
        "        :rtype: int\n",
        "        \"\"\"\n",
        "        arr2.sort()\n",
        "        count = 0\n",
        "        print(arr2)\n",
        "        for i in range(len(arr1)):\n",
        "            print(\"i=\", i)\n",
        "            l, r = 0, len(arr2) - 1\n",
        "            while l <= r:\n",
        "                m = (l + r) // 2\n",
        "                print(\"mid = \", m)\n",
        "                if abs(arr2[m] - arr1[i]) < d: break\n",
        "                if arr2[m] < arr1[i] - d: l = m + 1\n",
        "                if arr2[m] > arr1[i] + d : r = m - 1\n",
        "            print(\"l and r = \", l, r)\n",
        "            if l == r + 1: count += 1\n",
        "            print(\"count = \", count)\n",
        "        #print(\"count = \", count)\n",
        "        return count"
      ],
      "metadata": {
        "id": "e49yOPRWzcgu"
      },
      "execution_count": 42,
      "outputs": []
    },
    {
      "cell_type": "code",
      "source": [
        "Solution().findTheDistanceValue([1,4,2,3], [-4,-3,6,10,20,30], 3)\n",
        "# never end..."
      ],
      "metadata": {
        "id": "dzpbw1YUGU8Y"
      },
      "execution_count": null,
      "outputs": []
    },
    {
      "cell_type": "markdown",
      "source": [
        "My \"Optimal\" Solution:\n",
        "\n",
        "Based on the idea that the arr could be sorted first, I proposed this method, which is sort of time consuming."
      ],
      "metadata": {
        "id": "dIJNYYAxTVoJ"
      }
    },
    {
      "cell_type": "code",
      "source": [
        "class Solution(object):\n",
        "    def findTheDistanceValue(self, arr1, arr2, d):\n",
        "        \"\"\"\n",
        "        :type arr1: List[int]\n",
        "        :type arr2: List[int]\n",
        "        :type d: int\n",
        "        :rtype: int\n",
        "        \"\"\"\n",
        "        arr2.sort()\n",
        "        count = 0\n",
        "        print(arr2)\n",
        "        for i in range(len(arr1)):\n",
        "            l, r = 0, len(arr2) - 1\n",
        "            while l <= r:\n",
        "                m = (l + r) // 2\n",
        "                print(\"mid = \", m)\n",
        "                # two cases when the while loop breaks\n",
        "                if arr2[l] > arr1[i] + d or arr2[r] < arr1[i] - d: \n",
        "                    count += 1\n",
        "                    break \n",
        "                if abs(arr2[m] - arr1[i]) <= d: break\n",
        "                # when to shift the pointers\n",
        "                if arr2[m] < arr1[i] - d: l = m + 1\n",
        "                if arr2[m] > arr1[i] + d : r = m - 1\n",
        "            print(\"l and r = \", l, r)\n",
        "            print(\"count = \", count)\n",
        "        #print(\"count = \", count)\n",
        "        return count"
      ],
      "metadata": {
        "id": "-dyCLdl8F2Al"
      },
      "execution_count": 46,
      "outputs": []
    },
    {
      "cell_type": "code",
      "source": [
        "Solution().findTheDistanceValue([1,4,2,3], [-4,-3,6,10,20,30], 3)\n"
      ],
      "metadata": {
        "colab": {
          "base_uri": "https://localhost:8080/"
        },
        "id": "pJ7ZmB5yTNoO",
        "outputId": "55d98aad-8826-49d9-d584-3070789f91aa"
      },
      "execution_count": 47,
      "outputs": [
        {
          "output_type": "stream",
          "name": "stdout",
          "text": [
            "[-4, -3, 6, 10, 20, 30]\n",
            "mid =  2\n",
            "mid =  0\n",
            "l and r =  0 1\n",
            "count =  1\n",
            "mid =  2\n",
            "l and r =  0 5\n",
            "count =  1\n",
            "mid =  2\n",
            "mid =  0\n",
            "l and r =  0 1\n",
            "count =  2\n",
            "mid =  2\n",
            "l and r =  0 5\n",
            "count =  2\n"
          ]
        },
        {
          "output_type": "execute_result",
          "data": {
            "text/plain": [
              "2"
            ]
          },
          "metadata": {},
          "execution_count": 47
        }
      ]
    }
  ]
}
