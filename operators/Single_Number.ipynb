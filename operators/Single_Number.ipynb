{
  "nbformat": 4,
  "nbformat_minor": 0,
  "metadata": {
    "colab": {
      "provenance": [],
      "authorship_tag": "ABX9TyN7VDAU83i7ynbMmsdVU0QG",
      "include_colab_link": true
    },
    "kernelspec": {
      "name": "python3",
      "display_name": "Python 3"
    },
    "language_info": {
      "name": "python"
    }
  },
  "cells": [
    {
      "cell_type": "markdown",
      "metadata": {
        "id": "view-in-github",
        "colab_type": "text"
      },
      "source": [
        "<a href=\"https://colab.research.google.com/github/HanzhouLiu/python_fromzero/blob/main/Single_Number.ipynb\" target=\"_parent\"><img src=\"https://colab.research.google.com/assets/colab-badge.svg\" alt=\"Open In Colab\"/></a>"
      ]
    },
    {
      "cell_type": "code",
      "execution_count": 14,
      "metadata": {
        "colab": {
          "base_uri": "https://localhost:8080/"
        },
        "id": "keSffELMJ3ty",
        "outputId": "5319f3c3-49a0-4296-9a4d-4adb79fb0403"
      },
      "outputs": [
        {
          "output_type": "stream",
          "name": "stdout",
          "text": [
            "2\n"
          ]
        }
      ],
      "source": [
        "a, b = 3, 1\n",
        "# a = 2'b10, b = 2'b01\n",
        "# res = 2'b11\n",
        "print(a^b)"
      ]
    },
    {
      "cell_type": "code",
      "source": [
        "nums = [1, 2, 1, 3, 2, 5]\n",
        "a = 0\n",
        "for n in nums:\n",
        "  a ^= n\n",
        "  print(a)\n",
        "print(a)"
      ],
      "metadata": {
        "colab": {
          "base_uri": "https://localhost:8080/"
        },
        "id": "H4HVTXQAQYhT",
        "outputId": "69150b0c-47ad-432e-b3ba-43c2862dff81"
      },
      "execution_count": 4,
      "outputs": [
        {
          "output_type": "stream",
          "name": "stdout",
          "text": [
            "1\n",
            "3\n",
            "2\n",
            "1\n",
            "3\n",
            "6\n",
            "6\n"
          ]
        }
      ]
    },
    {
      "cell_type": "markdown",
      "source": [
        "Single Number I"
      ],
      "metadata": {
        "id": "w9bactcuSUkp"
      }
    },
    {
      "cell_type": "code",
      "source": [
        "class Solution(object):\n",
        "    def singleNumber(self, nums):\n",
        "        \"\"\"\n",
        "        :type nums: List[int]\n",
        "        :rtype: int\n",
        "        \"\"\"\n",
        "        mask = 0\n",
        "        for n in nums:\n",
        "            mask ^= n\n",
        "        return mask"
      ],
      "metadata": {
        "id": "ekQiw6ekR5wq"
      },
      "execution_count": null,
      "outputs": []
    },
    {
      "cell_type": "markdown",
      "source": [
        "Single Number II"
      ],
      "metadata": {
        "id": "f-o28TydSWtR"
      }
    },
    {
      "cell_type": "code",
      "source": [
        "class Solution(object):\n",
        "    def singleNumber(self, nums):\n",
        "        \"\"\"\n",
        "        :type nums: List[int]\n",
        "        :rtype: int\n",
        "        \"\"\"\n",
        "        ones, twos = 0, 0\n",
        "        for n in nums:\n",
        "            ones = (ones ^ n) & ~twos\n",
        "            twos = (twos ^ n) & ~ones\n",
        "\n",
        "        return ones"
      ],
      "metadata": {
        "id": "Ck4K6hEoWAPF"
      },
      "execution_count": null,
      "outputs": []
    }
  ]
}
