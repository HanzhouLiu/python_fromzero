{
  "nbformat": 4,
  "nbformat_minor": 0,
  "metadata": {
    "colab": {
      "name": "Leetcode #20.ipynb",
      "provenance": [],
      "authorship_tag": "ABX9TyMrJQr04c7C1nmb8HY1HYes",
      "include_colab_link": true
    },
    "kernelspec": {
      "name": "python3",
      "display_name": "Python 3"
    },
    "language_info": {
      "name": "python"
    }
  },
  "cells": [
    {
      "cell_type": "markdown",
      "metadata": {
        "id": "view-in-github",
        "colab_type": "text"
      },
      "source": [
        "<a href=\"https://colab.research.google.com/github/HanzhouLiu/python_fromzero/blob/main/Leetcode_20.ipynb\" target=\"_parent\"><img src=\"https://colab.research.google.com/assets/colab-badge.svg\" alt=\"Open In Colab\"/></a>"
      ]
    },
    {
      "cell_type": "markdown",
      "source": [
        "Valid Parentheses"
      ],
      "metadata": {
        "id": "ZL8Ycp2lHYCR"
      }
    },
    {
      "cell_type": "markdown",
      "source": [
        "REF: https://redquark.org/leetcode/0020-valid-parentheses/"
      ],
      "metadata": {
        "id": "rk0Hike0HazX"
      }
    },
    {
      "cell_type": "code",
      "execution_count": null,
      "metadata": {
        "id": "v-JIp7LVHT8u"
      },
      "outputs": [],
      "source": [
        "class Solution(object):\n",
        "    def isValid(self, s):\n",
        "        \"\"\"\n",
        "        :type s: str\n",
        "        :rtype: bool\n",
        "        \"\"\"\n",
        "        # Stack for left symbols\n",
        "        leftSymbols = []\n",
        "        # Loop for each character of the string\n",
        "        for c in s:\n",
        "            # If left symbol is encountered\n",
        "            if c in ['(', '{', '[']:\n",
        "                leftSymbols.append(c)\n",
        "            # If right symbol is encountered\n",
        "            elif c == ')' and len(leftSymbols) != 0 and leftSymbols[-1] == '(':\n",
        "                leftSymbols.pop()\n",
        "            elif c == '}' and len(leftSymbols) != 0 and leftSymbols[-1] == '{':\n",
        "                leftSymbols.pop()\n",
        "            elif c == ']' and len(leftSymbols) != 0 and leftSymbols[-1] == '[':\n",
        "                leftSymbols.pop()\n",
        "            # If none of the valid symbols is encountered\n",
        "            else:\n",
        "                return False\n",
        "        return leftSymbols == []"
      ]
    }
  ]
}