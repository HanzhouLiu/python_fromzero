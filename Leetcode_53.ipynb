{
  "nbformat": 4,
  "nbformat_minor": 0,
  "metadata": {
    "colab": {
      "name": "Leetcode #53.ipynb",
      "provenance": [],
      "authorship_tag": "ABX9TyPFRFDstWyy15oz47if7UGR",
      "include_colab_link": true
    },
    "kernelspec": {
      "name": "python3",
      "display_name": "Python 3"
    },
    "language_info": {
      "name": "python"
    }
  },
  "cells": [
    {
      "cell_type": "markdown",
      "metadata": {
        "id": "view-in-github",
        "colab_type": "text"
      },
      "source": [
        "<a href=\"https://colab.research.google.com/github/HanzhouLiu/python_fromzero/blob/main/Leetcode_53.ipynb\" target=\"_parent\"><img src=\"https://colab.research.google.com/assets/colab-badge.svg\" alt=\"Open In Colab\"/></a>"
      ]
    },
    {
      "cell_type": "markdown",
      "source": [
        "# Maximum Subarray"
      ],
      "metadata": {
        "id": "z9VScsJ1BWGi"
      }
    },
    {
      "cell_type": "markdown",
      "source": [
        "Solution 1: O(n)"
      ],
      "metadata": {
        "id": "RpKBvrHJBbSy"
      }
    },
    {
      "cell_type": "code",
      "execution_count": null,
      "metadata": {
        "id": "UgitRYfHBRM-"
      },
      "outputs": [],
      "source": [
        "class Solution(object):\n",
        "    def maxSubArray(self, nums):\n",
        "        \"\"\"\n",
        "        :type nums: List[int]\n",
        "        :rtype: int\n",
        "        \"\"\"\n",
        "        curSum = 0\n",
        "        maxSub = nums[0]\n",
        "        for n in nums:\n",
        "            if curSum < 0:\n",
        "                curSum = 0\n",
        "            curSum += n\n",
        "            maxSub = max(maxSub, curSum)\n",
        "        return maxSub"
      ]
    },
    {
      "cell_type": "markdown",
      "source": [
        "Solution 2: DAC O(nlog_n)"
      ],
      "metadata": {
        "id": "qs-5Ls2FBfm6"
      }
    },
    {
      "cell_type": "code",
      "source": [
        ""
      ],
      "metadata": {
        "id": "PkS2kyYCBjtJ"
      },
      "execution_count": null,
      "outputs": []
    }
  ]
}