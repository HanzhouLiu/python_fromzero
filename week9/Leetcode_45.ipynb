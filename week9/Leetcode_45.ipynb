{
  "nbformat": 4,
  "nbformat_minor": 0,
  "metadata": {
    "colab": {
      "name": "Leetcode #45.ipynb",
      "provenance": [],
      "authorship_tag": "ABX9TyNFRoK4yLSnEscHbZnebl+W",
      "include_colab_link": true
    },
    "kernelspec": {
      "name": "python3",
      "display_name": "Python 3"
    },
    "language_info": {
      "name": "python"
    }
  },
  "cells": [
    {
      "cell_type": "markdown",
      "metadata": {
        "id": "view-in-github",
        "colab_type": "text"
      },
      "source": [
        "<a href=\"https://colab.research.google.com/github/HanzhouLiu/python_fromzero/blob/main/Leetcode_45.ipynb\" target=\"_parent\"><img src=\"https://colab.research.google.com/assets/colab-badge.svg\" alt=\"Open In Colab\"/></a>"
      ]
    },
    {
      "cell_type": "markdown",
      "source": [
        "# Jump Game II\n",
        "Given an array of non-negative integers nums, you are initially positioned at the first index of the array.\n",
        "\n",
        "Each element in the array represents your maximum jump length at that position.\n",
        "\n",
        "Your goal is to reach the last index in the minimum number of jumps.\n",
        "\n",
        "You can assume that you can always reach the last index."
      ],
      "metadata": {
        "id": "ZnI_g3oUSZjR"
      }
    },
    {
      "cell_type": "code",
      "execution_count": null,
      "metadata": {
        "id": "KmpmvgeKSY43"
      },
      "outputs": [],
      "source": [
        "class Solution(object):\n",
        "    def jump(self, nums):\n",
        "        \"\"\"\n",
        "        :type nums: List[int]\n",
        "        :rtype: int\n",
        "        \"\"\"\n",
        "        # initialize the two pointers\n",
        "        l = r = 0\n",
        "        count = 0   \n",
        "        \n",
        "        while r < len(nums) - 1:\n",
        "            count += 1\n",
        "            maxReach = 0\n",
        "            for idx in range(l, r + 1):\n",
        "                maxReach = max(maxReach, idx + nums[idx])\n",
        "            l = r + 1\n",
        "            r = maxReach\n",
        "            \n",
        "        return count"
      ]
    }
  ]
}
