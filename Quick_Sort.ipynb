{
  "nbformat": 4,
  "nbformat_minor": 0,
  "metadata": {
    "colab": {
      "name": "Quick Sort.ipynb",
      "provenance": [],
      "authorship_tag": "ABX9TyPYSnZ2fy+/6adHUO6x/J9a",
      "include_colab_link": true
    },
    "kernelspec": {
      "name": "python3",
      "display_name": "Python 3"
    },
    "language_info": {
      "name": "python"
    }
  },
  "cells": [
    {
      "cell_type": "markdown",
      "metadata": {
        "id": "view-in-github",
        "colab_type": "text"
      },
      "source": [
        "<a href=\"https://colab.research.google.com/github/HanzhouLiu/python_fromzero/blob/main/Quick_Sort.ipynb\" target=\"_parent\"><img src=\"https://colab.research.google.com/assets/colab-badge.svg\" alt=\"Open In Colab\"/></a>"
      ]
    },
    {
      "cell_type": "markdown",
      "source": [
        "# 75. Sort Colors\n",
        "Given an array nums with n objects colored red, white, or blue, sort them in-place so that objects of the same color are adjacent, with the colors in the order red, white, and blue.\n",
        "\n",
        "We will use the integers 0, 1, and 2 to represent the color red, white, and blue, respectively.\n",
        "\n",
        "You must solve this problem without using the library's sort function."
      ],
      "metadata": {
        "id": "y1Dfe52oclV5"
      }
    },
    {
      "cell_type": "code",
      "execution_count": null,
      "metadata": {
        "id": "V5XDYgA9choG"
      },
      "outputs": [],
      "source": [
        "class Solution(object):\n",
        "    def sortColors(self, nums):\n",
        "        \"\"\"\n",
        "        :type nums: List[int]\n",
        "        :rtype: None Do not return anything, modify nums in-place instead.\n",
        "        \"\"\"\n",
        "        # quick sort algorithm\n",
        "        \n",
        "        \n",
        "        print(nums[0])\n",
        "        m, n = 0, 0\n",
        "        for j in range(0, len(nums)):\n",
        "            if nums[j] == 0:\n",
        "                nums[m], nums[j] = nums[j], nums[m]\n",
        "                m += 1\n",
        "        print(nums)\n",
        "        for j in range(0, len(nums)):\n",
        "            if nums[j] < 2:\n",
        "                nums[n], nums[j] = nums[j], nums[n]\n",
        "                n += 1\n",
        "        print(nums)"
      ]
    },
    {
      "cell_type": "markdown",
      "source": [
        "# 215. Kth Largest Element in an Array\n",
        "Given an integer array nums and an integer k, return the kth largest element in the array.\n",
        "\n",
        "Note that it is the kth largest element in the sorted order, not the kth distinct element.\n",
        "\n",
        "You must solve it in O(n) time complexity.\n",
        "\n",
        "\n",
        "[Ref Link](https://www.youtube.com/watch?v=XEmy13g1Qxc)\n",
        "\n"
      ],
      "metadata": {
        "id": "xtO23tm7cqen"
      }
    },
    {
      "cell_type": "code",
      "source": [
        "class Solution(object):\n",
        "    def findKthLargest(self, nums, k):\n",
        "        \"\"\"\n",
        "        :type nums: List[int]\n",
        "        :type k: int\n",
        "        :rtype: int\n",
        "        \"\"\"\n",
        "        k_small = len(nums) - k\n",
        "        \n",
        "        def quickSelect(l, r):\n",
        "            pivotValue, pivotIdx = nums[r], r\n",
        "            \n",
        "            p = l\n",
        "            for i in range(l, r):\n",
        "                if nums[i] <= pivotValue:\n",
        "                    nums[i], nums[p] = nums[p], nums[i]\n",
        "                    p += 1\n",
        "            nums[p], nums[r] = nums[r], nums[p]\n",
        "            if p == k_small: return nums[p] \n",
        "            if p < k_small: return quickSelect(p + 1, r) \n",
        "            if p > k_small: return quickSelect(l, p - 1) \n",
        "        \n",
        "        \n",
        "        return quickSelect(0, len(nums) - 1)"
      ],
      "metadata": {
        "id": "sAuWbaGmdHXI"
      },
      "execution_count": null,
      "outputs": []
    }
  ]
}