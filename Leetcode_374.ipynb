{
  "nbformat": 4,
  "nbformat_minor": 0,
  "metadata": {
    "colab": {
      "provenance": [],
      "authorship_tag": "ABX9TyMYwY2j9Kp6NHct8xC75CzO",
      "include_colab_link": true
    },
    "kernelspec": {
      "name": "python3",
      "display_name": "Python 3"
    },
    "language_info": {
      "name": "python"
    }
  },
  "cells": [
    {
      "cell_type": "markdown",
      "metadata": {
        "id": "view-in-github",
        "colab_type": "text"
      },
      "source": [
        "<a href=\"https://colab.research.google.com/github/HanzhouLiu/python_fromzero/blob/main/Leetcode_374.ipynb\" target=\"_parent\"><img src=\"https://colab.research.google.com/assets/colab-badge.svg\" alt=\"Open In Colab\"/></a>"
      ]
    },
    {
      "cell_type": "markdown",
      "source": [
        "# 374. Guess Number Higher or Lower\n",
        "Easy\n",
        "\n",
        "\n",
        "---\n",
        "\n",
        "\n",
        "We are playing the Guess Game. The game is as follows:\n",
        "\n",
        "I pick a number from 1 to n. You have to guess which number I picked.\n",
        "\n",
        "Every time you guess wrong, I will tell you whether the number I picked is higher or lower than your guess.\n",
        "\n",
        "You call a pre-defined API int guess(int num), which returns three possible results:\n",
        "\n",
        "-1: Your guess is higher than the number I picked (i.e. num > pick).\n",
        "1: Your guess is lower than the number I picked (i.e. num < pick).\n",
        "0: your guess is equal to the number I picked (i.e. num == pick).\n",
        "Return the number that I picked.\n",
        "\n",
        "---\n",
        "\n",
        "An easy question. Simply use the binary search."
      ],
      "metadata": {
        "id": "m9583Q7N66Ei"
      }
    },
    {
      "cell_type": "code",
      "execution_count": null,
      "metadata": {
        "id": "04DTKZk92g93"
      },
      "outputs": [],
      "source": [
        "# The guess API is already defined for you.\n",
        "# @param num, your guess\n",
        "# @return -1 if num is higher than the picked number\n",
        "#          1 if num is lower than the picked number\n",
        "#          otherwise return 0\n",
        "# def guess(num):\n",
        "\n",
        "class Solution(object):\n",
        "    def guessNumber(self, n):\n",
        "        \"\"\"\n",
        "        :type n: int\n",
        "        :rtype: int\n",
        "        \"\"\"\n",
        "        l, r = 1, n\n",
        "        while l <= r:\n",
        "            n = (l + r) / 2\n",
        "            res = guess(n)\n",
        "            if res == 0: return n\n",
        "            if res < 0: r = n - 1\n",
        "            if res > 0: l = n + 1"
      ]
    }
  ]
}