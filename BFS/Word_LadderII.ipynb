{
  "nbformat": 4,
  "nbformat_minor": 0,
  "metadata": {
    "colab": {
      "provenance": [],
      "collapsed_sections": [],
      "authorship_tag": "ABX9TyMSmX0vONS7s/oE4Q0Nl2q1",
      "include_colab_link": true
    },
    "kernelspec": {
      "name": "python3",
      "display_name": "Python 3"
    },
    "language_info": {
      "name": "python"
    }
  },
  "cells": [
    {
      "cell_type": "markdown",
      "metadata": {
        "id": "view-in-github",
        "colab_type": "text"
      },
      "source": [
        "<a href=\"https://colab.research.google.com/github/HanzhouLiu/python_fromzero/blob/main/Word_LadderII.ipynb\" target=\"_parent\"><img src=\"https://colab.research.google.com/assets/colab-badge.svg\" alt=\"Open In Colab\"/></a>"
      ]
    },
    {
      "cell_type": "markdown",
      "source": [
        "# 126. Word Ladder II\n",
        "\n",
        "```\n",
        "Input: beginWord = \"hit\", endWord = \"cog\", wordList = [\"hot\",\"dot\",\"dog\",\"lot\",\"log\",\"cog\"]\n",
        "Output: [[\"hit\",\"hot\",\"dot\",\"dog\",\"cog\"],[\"hit\",\"hot\",\"lot\",\"log\",\"cog\"]]\n",
        "Explanation: There are 2 shortest transformation sequences:\n",
        "\"hit\" -> \"hot\" -> \"dot\" -> \"dog\" -> \"cog\"\n",
        "\"hit\" -> \"hot\" -> \"lot\" -> \"log\" -> \"cog\"\n",
        "```\n",
        "\n"
      ],
      "metadata": {
        "id": "lnShHB_1Vpa-"
      }
    },
    {
      "cell_type": "code",
      "execution_count": 1,
      "metadata": {
        "id": "kbHDA3vMVn7j"
      },
      "outputs": [],
      "source": [
        "class Solution(object):\n",
        "    def findLadders(self, beginWord, endWord, wordList):\n",
        "\n",
        "        wordList = set(wordList)\n",
        "        res = []\n",
        "        layer = {}\n",
        "        layer[beginWord] = [[beginWord]]\n",
        "\n",
        "        while layer:\n",
        "            newlayer = collections.defaultdict(list)\n",
        "            for w in layer:\n",
        "                if w == endWord: \n",
        "                    res.extend(k for k in layer[w])\n",
        "                else:\n",
        "                    for i in range(len(w)):\n",
        "                        for c in 'abcdefghijklmnopqrstuvwxyz':\n",
        "                            neww = w[:i]+c+w[i+1:]\n",
        "                            if neww in wordList:\n",
        "                                newlayer[neww]+=[j+[neww] for j in layer[w]]\n",
        "\n",
        "            wordList -= set(newlayer.keys())\n",
        "            layer = newlayer\n",
        "\n",
        "        return res"
      ]
    },
    {
      "cell_type": "code",
      "source": [
        "from collections import deque \n",
        "import collections\n",
        "class Solution(object):\n",
        "    def findLadders(self, beginWord, endWord, wordList):\n",
        "        \"\"\"\n",
        "        :type beginWord: str\n",
        "        :type endWord: str\n",
        "        :type wordList: List[str]\n",
        "        :rtype: List[List[str]]\n",
        "        \"\"\"\n",
        "        if endWord not in wordList:\n",
        "            return []\n",
        "        \n",
        "        hash = collections.defaultdict(list)\n",
        "        wordList.append(beginWord)\n",
        "        for word in wordList:\n",
        "            for i in range(len(word)):\n",
        "                ptn = word[0:i] + \"*\" + word[i+1:]\n",
        "                hash[ptn].append(word)\n",
        "\n",
        "        visited = set([beginWord])\n",
        "        q = deque()\n",
        "        path = []\n",
        "        res = []\n",
        "        path.append(beginWord)\n",
        "        q.append(path[:])\n",
        "        cnt = 1\n",
        "        while q:\n",
        "            for i in range(len(q)):\n",
        "                print(\"q\", q)\n",
        "                path = q.popleft()\n",
        "                print(path)\n",
        "                print(visited)\n",
        "                last = path[-1]\n",
        "                if last == endWord:\n",
        "                    res.append(path)\n",
        "                    continue\n",
        "                for j in range(len(last)):\n",
        "                    ptn = last[:j] + \"*\" + last[j+1:]\n",
        "                    for word in hash[ptn]:\n",
        "                        if (word not in visited) or (word == endWord):\n",
        "                            newpath = path[:]\n",
        "                            visited.add(word)\n",
        "                            newpath.append(word)\n",
        "                            q.append(newpath)\n",
        "            cnt += 1\n",
        "        print(res)\n",
        "        if len(res) == 0:\n",
        "            return res\n",
        "        tmp = len(res[0])\n",
        "        result = []\n",
        "        for item in res:\n",
        "            if len(item) == tmp:\n",
        "                result.append(item)\n",
        "            elif len(item) < tmp:\n",
        "                result = [item]\n",
        "                tmp = len(item)\n",
        "            \n",
        "        return result"
      ],
      "metadata": {
        "id": "ipb52T0dVpL7"
      },
      "execution_count": 5,
      "outputs": []
    },
    {
      "cell_type": "code",
      "source": [
        "beginWord = \"a\"\n",
        "endWord = \"c\"\n",
        "wordList = [\"a\",\"b\",\"c\"]"
      ],
      "metadata": {
        "id": "GIbM7CRpdRtu"
      },
      "execution_count": 3,
      "outputs": []
    },
    {
      "cell_type": "code",
      "source": [
        "Solution().findLadders(beginWord, endWord, wordList)"
      ],
      "metadata": {
        "colab": {
          "base_uri": "https://localhost:8080/"
        },
        "id": "n6xRVmJgdYFN",
        "outputId": "a518b7ce-f491-4356-8c9f-01dc6a3b5ecc"
      },
      "execution_count": 10,
      "outputs": [
        {
          "output_type": "execute_result",
          "data": {
            "text/plain": [
              "[['a', 'c']]"
            ]
          },
          "metadata": {},
          "execution_count": 10
        }
      ]
    },
    {
      "cell_type": "markdown",
      "source": [
        "https://leetcode.com/problems/word-ladder-ii/discuss/2431312/Python-3-BFS-+-DFS-BACKTRACKING-no-TLE\n",
        "\n",
        "BFS layer by layer"
      ],
      "metadata": {
        "id": "oUWJQN6wLI3F"
      }
    },
    {
      "cell_type": "code",
      "source": [
        "class Solution(object):\n",
        "    def findLadders(self, beginWord, endWord, wordList):\n",
        "            graph = collections.defaultdict(list)\n",
        "            words = set(wordList)\n",
        "            if endWord not in words: return []\n",
        "            words.discard(beginWord)\n",
        "            q = {beginWord}\n",
        "            while q:\n",
        "                nq = set()\n",
        "                for word in q:\n",
        "                    for c in \"abcdefghijklmnopqrstuvwxyz\":\n",
        "                        for i in range(len(word)):\n",
        "                            nw = word[:i] + c + word[i+1:]\n",
        "                            if nw in words:\n",
        "                                graph[nw].append(word)\n",
        "                                nq.add(nw)\n",
        "                words -= set(graph.keys())\n",
        "                q = nq\n",
        "            \n",
        "            # use DFS to reconstruct the path from end to begin\n",
        "            def dfs(word):\n",
        "                if word == beginWord:\n",
        "                    return [[beginWord]]\n",
        "                res = []\n",
        "                for w in graph[word]:\n",
        "                    res += [k + [word] for k in dfs(w)]\n",
        "                return res\n",
        "\n",
        "            return dfs(endWord)"
      ],
      "metadata": {
        "id": "A19eYaZTLL0r"
      },
      "execution_count": 9,
      "outputs": []
    }
  ]
}
