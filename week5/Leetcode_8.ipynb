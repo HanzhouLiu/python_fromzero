{
  "nbformat": 4,
  "nbformat_minor": 0,
  "metadata": {
    "colab": {
      "name": "Leetcode #8.ipynb",
      "provenance": [],
      "authorship_tag": "ABX9TyPC3uW5n3tsoMMTl/FUEqdu",
      "include_colab_link": true
    },
    "kernelspec": {
      "name": "python3",
      "display_name": "Python 3"
    },
    "language_info": {
      "name": "python"
    }
  },
  "cells": [
    {
      "cell_type": "markdown",
      "metadata": {
        "id": "view-in-github",
        "colab_type": "text"
      },
      "source": [
        "<a href=\"https://colab.research.google.com/github/HanzhouLiu/python_fromzero/blob/main/Leetcode_8.ipynb\" target=\"_parent\"><img src=\"https://colab.research.google.com/assets/colab-badge.svg\" alt=\"Open In Colab\"/></a>"
      ]
    },
    {
      "cell_type": "markdown",
      "source": [
        "This solution's test ends at \n",
        "\n",
        "Input:\n",
        "\"+-12\""
      ],
      "metadata": {
        "id": "3dQesJxSBKZi"
      }
    },
    {
      "cell_type": "code",
      "execution_count": 1,
      "metadata": {
        "id": "6unU3jx5BD6r"
      },
      "outputs": [],
      "source": [
        "class Solution(object):\n",
        "    def myAtoi(self, s):\n",
        "        \"\"\"\n",
        "        :type s: str\n",
        "        :rtype: int\n",
        "        \"\"\"\n",
        "        numStr = \"0123456789\"\n",
        "        start = 1\n",
        "        symbol = 1 # positive\n",
        "        absResult = \"\"\n",
        "        whitespace = 0\n",
        "        \n",
        "        for i in range(len(s)):\n",
        "            if s[i] == \" \" and whitespace == 0:\n",
        "                whitespace = 1\n",
        "                print(\"leading\")\n",
        "            if whitespace ==1:\n",
        "                if not (s[i] in numStr or s[i] in \"+\" or s[i] in \"-\" or s[i] in \" \"):\n",
        "                    print(\"white\")\n",
        "                    return 0\n",
        "            if s[i] in numStr:\n",
        "                absResult += s[i]\n",
        "                if start == 1:\n",
        "                    start = 0\n",
        "                    if i >= 1 and s[i-1] == \"-\":\n",
        "                        symbol = -1\n",
        "                if i==len(s)-1 or s[i+1] not in numStr:\n",
        "                    result = int(absResult) * symbol\n",
        "        \n",
        "                    if result < -2**31:\n",
        "                        result = -2**31\n",
        "                    if result > 2**31 - 1:\n",
        "                        result = 2**31 - 1\n",
        "            \n",
        "                    return result\n",
        "            if s[i] == \".\":\n",
        "                return 0\n",
        "            #if s[i] in \"+-\" and s[i+1] in \"+-\" and i <= len(s)-2:\n",
        "            #    return 0"
      ]
    }
  ]
}
