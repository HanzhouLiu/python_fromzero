{
  "nbformat": 4,
  "nbformat_minor": 0,
  "metadata": {
    "colab": {
      "name": "Leetcode #39 & #40.ipynb",
      "provenance": [],
      "authorship_tag": "ABX9TyP0dqzZxnxbvHns50+Q+9hl",
      "include_colab_link": true
    },
    "kernelspec": {
      "name": "python3",
      "display_name": "Python 3"
    },
    "language_info": {
      "name": "python"
    }
  },
  "cells": [
    {
      "cell_type": "markdown",
      "metadata": {
        "id": "view-in-github",
        "colab_type": "text"
      },
      "source": [
        "<a href=\"https://colab.research.google.com/github/HanzhouLiu/python_fromzero/blob/main/Leetcode_39_%26_40.ipynb\" target=\"_parent\"><img src=\"https://colab.research.google.com/assets/colab-badge.svg\" alt=\"Open In Colab\"/></a>"
      ]
    },
    {
      "cell_type": "markdown",
      "source": [
        "# 39. Combination Sum I (disctinct numbers)\n",
        "\n",
        "# 40. Combination Sum II (numbers are not unique)"
      ],
      "metadata": {
        "id": "lITqhqafV5f0"
      }
    },
    {
      "cell_type": "markdown",
      "source": [
        "Backtracking method is hard to understand.\n",
        "\n",
        "The best way to figure it out is to form a top-down tree and observe each node from top to down or from down to top."
      ],
      "metadata": {
        "id": "G5v3Jod_WPOe"
      }
    },
    {
      "cell_type": "code",
      "source": [
        "class Solution(object):\n",
        "    def combinationSum(self, candidates, target):\n",
        "        \"\"\"\n",
        "        :type candidates: List[int]\n",
        "        :type target: int\n",
        "        :rtype: List[List[int]]\n",
        "        \"\"\"\n",
        "        res = []\n",
        "        \n",
        "        def dfs(i, cur, total):\n",
        "            if total == target:\n",
        "                res.append(cur[:])\n",
        "                return\n",
        "            if i >= len(candidates) or total > target:\n",
        "                return\n",
        "            \n",
        "            cur.append(candidates[i])\n",
        "            dfs(i, cur, total + candidates[i])\n",
        "            cur.pop()\n",
        "            dfs(i + 1, cur, total)\n",
        "            \n",
        "        \n",
        "        dfs(0, [], 0)\n",
        "        return res"
      ],
      "metadata": {
        "id": "DM7a2ao0V116"
      },
      "execution_count": null,
      "outputs": []
    },
    {
      "cell_type": "code",
      "execution_count": null,
      "metadata": {
        "id": "YC_rb9VYVwVq"
      },
      "outputs": [],
      "source": [
        "class Solution(object):\n",
        "    def combinationSum2(self, candidates, target):\n",
        "        \"\"\"\n",
        "        :type candidates: List[int]\n",
        "        :type target: int\n",
        "        :rtype: List[List[int]]\n",
        "        \"\"\"\n",
        "        res = []\n",
        "        candidates.sort()\n",
        "        \n",
        "        def dfs(i, cur, total):\n",
        "            if total == target:\n",
        "                res.append(cur[:])\n",
        "                return\n",
        "            if i >= len(candidates) or total > target:\n",
        "                return\n",
        "            \n",
        "            cur.append(candidates[i])\n",
        "            dfs(i + 1, cur, total + candidates[i])\n",
        "            cur.pop()\n",
        "            while(i + 1 < len(candidates) and candidates[i] == candidates[i + 1]):\n",
        "                i += 1\n",
        "            dfs(i + 1, cur, total)\n",
        "            \n",
        "        \n",
        "        dfs(0, [], 0)\n",
        "        return res"
      ]
    }
  ]
}
