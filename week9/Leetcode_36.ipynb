{
  "nbformat": 4,
  "nbformat_minor": 0,
  "metadata": {
    "colab": {
      "name": "Leetcode #36.ipynb",
      "provenance": [],
      "authorship_tag": "ABX9TyPgD+l2fMgiPT5yCPUKLpWa",
      "include_colab_link": true
    },
    "kernelspec": {
      "name": "python3",
      "display_name": "Python 3"
    },
    "language_info": {
      "name": "python"
    }
  },
  "cells": [
    {
      "cell_type": "markdown",
      "metadata": {
        "id": "view-in-github",
        "colab_type": "text"
      },
      "source": [
        "<a href=\"https://colab.research.google.com/github/HanzhouLiu/python_fromzero/blob/main/Leetcode_36.ipynb\" target=\"_parent\"><img src=\"https://colab.research.google.com/assets/colab-badge.svg\" alt=\"Open In Colab\"/></a>"
      ]
    },
    {
      "cell_type": "markdown",
      "source": [
        "\n",
        "\n",
        "```\n",
        "This method creates four hash tables first.\n",
        "```\n",
        "\n",
        "\n",
        "[Reference link](https://www.youtube.com/watch?v=TjFXEUCMqI8)"
      ],
      "metadata": {
        "id": "TZtKRxyauNQj"
      }
    },
    {
      "cell_type": "code",
      "execution_count": null,
      "metadata": {
        "id": "yww7yoGpuG7n"
      },
      "outputs": [],
      "source": [
        "class Solution(object):\n",
        "    def isValidSudoku(self, board):\n",
        "        \"\"\"\n",
        "        :type board: List[List[str]]\n",
        "        :rtype: bool\n",
        "        \"\"\"\n",
        "        cols = collections.defaultdict(set)\n",
        "        rows = collections.defaultdict(set)\n",
        "        squares = collections.defaultdict(set)\n",
        "        \n",
        "        for r in range(9):\n",
        "            for c in range(9):\n",
        "                if board[r][c] == \".\":\n",
        "                    continue\n",
        "                if (board[r][c] in rows[r] or\n",
        "                    board[r][c] in cols[c] or\n",
        "                    board[r][c] in squares[(r // 3, c // 3)]):\n",
        "                    return False\n",
        "                cols[c].add(board[r][c])\n",
        "                rows[r].add(board[r][c])\n",
        "                squares[(r // 3, c // 3)].add(board[r][c])\n",
        "        return True"
      ]
    }
  ]
}
