{
  "nbformat": 4,
  "nbformat_minor": 0,
  "metadata": {
    "colab": {
      "provenance": [],
      "collapsed_sections": [],
      "authorship_tag": "ABX9TyNxmONKIE7khFCpmynSqXCi",
      "include_colab_link": true
    },
    "kernelspec": {
      "name": "python3",
      "display_name": "Python 3"
    },
    "language_info": {
      "name": "python"
    }
  },
  "cells": [
    {
      "cell_type": "markdown",
      "metadata": {
        "id": "view-in-github",
        "colab_type": "text"
      },
      "source": [
        "<a href=\"https://colab.research.google.com/github/HanzhouLiu/python_fromzero/blob/main/1640_Check_Array_Formation_Through_Concatenation.ipynb\" target=\"_parent\"><img src=\"https://colab.research.google.com/assets/colab-badge.svg\" alt=\"Open In Colab\"/></a>"
      ]
    },
    {
      "cell_type": "markdown",
      "source": [
        "\n",
        "# 1640. Check Array Formation Through Concatenation\n",
        "```\n",
        "a[start:stop]  # items start through stop-1\n",
        "a[start:]      # items start through the rest of the array\n",
        "a[:stop]       # items from the beginning through stop-1\n",
        "a[:]           # a copy of the whole array\n",
        "```\n",
        "\n",
        "\n",
        "---\n",
        "\n",
        "This problem isn't hard at all. However, still be careful when accessing the list."
      ],
      "metadata": {
        "id": "dOEQ0UT0YQCD"
      }
    },
    {
      "cell_type": "markdown",
      "source": [
        "Solution1:  Hashmap\n",
        "\n",
        "Time complexity: O(m+n) ?\n",
        "\n",
        "First Element in Each Piece ---> Piece"
      ],
      "metadata": {
        "id": "ZtKFaOoZYdwV"
      }
    },
    {
      "cell_type": "code",
      "source": [
        "if 15 in [15, 16]:\n",
        "  print(1)"
      ],
      "metadata": {
        "colab": {
          "base_uri": "https://localhost:8080/"
        },
        "id": "qM7qSypoYbQs",
        "outputId": "d3ebd1e9-8e89-49cd-b935-9b766c2eb5bc"
      },
      "execution_count": 3,
      "outputs": [
        {
          "output_type": "stream",
          "name": "stdout",
          "text": [
            "1\n"
          ]
        }
      ]
    },
    {
      "cell_type": "code",
      "source": [],
      "metadata": {
        "id": "eITWzftjpuv5"
      },
      "execution_count": null,
      "outputs": []
    },
    {
      "cell_type": "code",
      "source": [
        "class Solution(object):\n",
        "    def canFormArray(self, arr, pieces):\n",
        "        \"\"\"\n",
        "        :type arr: List[int]\n",
        "        :type pieces: List[List[int]]\n",
        "        :rtype: bool\n",
        "        \"\"\"\n",
        "        hashMap = {}\n",
        "        for piece in pieces:\n",
        "            hashMap[piece[0]] = piece\n",
        "        \n",
        "        i = 0\n",
        "        while i < len(arr):\n",
        "            print(hashMap)\n",
        "            if arr[i] in hashMap: PIECE = hashMap[arr[i]]\n",
        "            else: return False\n",
        "            if PIECE != arr[i:i+len(hashMap[arr[i]])]:    # since their elements are distinct\n",
        "                return False\n",
        "            i = i + len(PIECE)\n",
        "        return True"
      ],
      "metadata": {
        "id": "4J6Ju5QSe92J"
      },
      "execution_count": 15,
      "outputs": []
    },
    {
      "cell_type": "code",
      "source": [
        "arr1 = [49,18,16]\n",
        "arrs = [[16,18,49]]\n",
        "Solution().canFormArray(arr1, arrs)"
      ],
      "metadata": {
        "colab": {
          "base_uri": "https://localhost:8080/"
        },
        "id": "2JnqdgfUe_Rx",
        "outputId": "ab1fb92a-969f-42e4-df49-e716287d5938"
      },
      "execution_count": 16,
      "outputs": [
        {
          "output_type": "stream",
          "name": "stdout",
          "text": [
            "{16: [16, 18, 49]}\n"
          ]
        },
        {
          "output_type": "execute_result",
          "data": {
            "text/plain": [
              "False"
            ]
          },
          "metadata": {},
          "execution_count": 16
        }
      ]
    }
  ]
}