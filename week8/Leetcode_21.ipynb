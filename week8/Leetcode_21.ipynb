{
  "nbformat": 4,
  "nbformat_minor": 0,
  "metadata": {
    "colab": {
      "name": "Leetcode #21.ipynb",
      "provenance": [],
      "authorship_tag": "ABX9TyO8177gHsFIQv7uS9EelJtj",
      "include_colab_link": true
    },
    "kernelspec": {
      "name": "python3",
      "display_name": "Python 3"
    },
    "language_info": {
      "name": "python"
    }
  },
  "cells": [
    {
      "cell_type": "markdown",
      "metadata": {
        "id": "view-in-github",
        "colab_type": "text"
      },
      "source": [
        "<a href=\"https://colab.research.google.com/github/HanzhouLiu/python_fromzero/blob/main/Leetcode_21.ipynb\" target=\"_parent\"><img src=\"https://colab.research.google.com/assets/colab-badge.svg\" alt=\"Open In Colab\"/></a>"
      ]
    },
    {
      "cell_type": "markdown",
      "source": [
        "\n",
        "MERGING\n"
      ],
      "metadata": {
        "id": "Arg2Z8xuQqGd"
      }
    },
    {
      "cell_type": "markdown",
      "source": [
        "[ref]https://leetcode.com/problems/merge-two-sorted-lists/discuss/1826693/Python3-MERGING-Explained"
      ],
      "metadata": {
        "id": "qNlE-QFCQkL7"
      }
    },
    {
      "cell_type": "code",
      "execution_count": null,
      "metadata": {
        "id": "hjbVPII3Hsk_"
      },
      "outputs": [],
      "source": [
        "class Solution:\n",
        "    def mergeTwoLists(self, list1: Optional[ListNode], list2: Optional[ListNode]) -> Optional[ListNode]:\n",
        "        cur = dummy = ListNode()\n",
        "        while list1 and list2:               \n",
        "            if list1.val < list2.val:\n",
        "                cur.next = list1\n",
        "                list1, cur = list1.next, list1\n",
        "            else:\n",
        "                cur.next = list2\n",
        "                list2, cur = list2.next, list2\n",
        "                \n",
        "        if list1 or list2:\n",
        "            cur.next = list1 if list1 else list2\n",
        "            \n",
        "        return dummy.next"
      ]
    }
  ]
}
