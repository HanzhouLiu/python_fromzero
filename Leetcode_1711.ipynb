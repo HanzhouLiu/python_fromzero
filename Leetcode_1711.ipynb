{
  "nbformat": 4,
  "nbformat_minor": 0,
  "metadata": {
    "colab": {
      "provenance": [],
      "collapsed_sections": [],
      "authorship_tag": "ABX9TyO/jlleDghtDgsy0cyXFFYU",
      "include_colab_link": true
    },
    "kernelspec": {
      "name": "python3",
      "display_name": "Python 3"
    },
    "language_info": {
      "name": "python"
    }
  },
  "cells": [
    {
      "cell_type": "markdown",
      "metadata": {
        "id": "view-in-github",
        "colab_type": "text"
      },
      "source": [
        "<a href=\"https://colab.research.google.com/github/HanzhouLiu/python_fromzero/blob/main/Leetcode_1711.ipynb\" target=\"_parent\"><img src=\"https://colab.research.google.com/assets/colab-badge.svg\" alt=\"Open In Colab\"/></a>"
      ]
    },
    {
      "cell_type": "markdown",
      "source": [
        "# A good meal\n",
        "A good meal is a meal that contains exactly two different food items with a sum of deliciousness equal to a power of two.\n",
        "\n",
        "You can pick any two different foods to make a good meal.\n",
        "\n",
        "Given an array of integers deliciousness where deliciousness[i] is the deliciousness of the i​​​​​​th​​​​​​​​ item of food, return the number of different good meals you can make from this list modulo 109 + 7.\n",
        "\n",
        "Note that items with different indices are considered different even if they have the same deliciousness value.\n",
        "\n",
        " \n",
        "\n",
        "---\n",
        "\n",
        "\n",
        "\n",
        "```\n",
        "Input: deliciousness = [1,3,5,7,9]\n",
        "Output: 4\n",
        "Explanation: The good meals are (1,3), (1,7), (3,5) and, (7,9).\n",
        "Their respective sums are 4, 8, 8, and 16, all of which are powers of 2.\n",
        "```\n",
        "\n"
      ],
      "metadata": {
        "id": "-mcGbNZ0OwzP"
      }
    },
    {
      "cell_type": "code",
      "execution_count": null,
      "metadata": {
        "id": "yZ6_x8XCN-bz"
      },
      "outputs": [],
      "source": [
        "class Solution(object):\n",
        "    def countPairs(self, deliciousness):\n",
        "        \"\"\"\n",
        "        :type deliciousness: List[int]\n",
        "        :rtype: int\n",
        "        \"\"\"\n",
        "        pows = [2 ** i for i in range(22)]\n",
        "        freqDic = {}\n",
        "        for num in deliciousness:\n",
        "            if num in freqDic: freqDic[num] += 1\n",
        "            else: freqDic[num] = 1\n",
        "        ans = 0\n",
        "\n",
        "        for pow in pows:\n",
        "            uniqDic = {}\n",
        "            for num in freqDic.keys():\n",
        "                if num not in uniqDic and pow - num in freqDic: \n",
        "                    if pow - num == num:\n",
        "                        ans += freqDic[num] * (freqDic[num] - 1) / 2\n",
        "                    else:\n",
        "                        ans += freqDic[num] * freqDic[pow - num]\n",
        "                    uniqDic[num] = 1\n",
        "                    uniqDic[pow - num] = 1\n",
        "        \n",
        "        return ans % (10 ** 9 + 7)"
      ]
    }
  ]
}