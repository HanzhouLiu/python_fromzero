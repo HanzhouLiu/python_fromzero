{
  "nbformat": 4,
  "nbformat_minor": 0,
  "metadata": {
    "colab": {
      "provenance": [],
      "collapsed_sections": [],
      "authorship_tag": "ABX9TyPmmAhiDLXR9pLATQ98T3Bu",
      "include_colab_link": true
    },
    "kernelspec": {
      "name": "python3",
      "display_name": "Python 3"
    },
    "language_info": {
      "name": "python"
    }
  },
  "cells": [
    {
      "cell_type": "markdown",
      "metadata": {
        "id": "view-in-github",
        "colab_type": "text"
      },
      "source": [
        "<a href=\"https://colab.research.google.com/github/HanzhouLiu/python_fromzero/blob/main/Leetcode_140.ipynb\" target=\"_parent\"><img src=\"https://colab.research.google.com/assets/colab-badge.svg\" alt=\"Open In Colab\"/></a>"
      ]
    },
    {
      "cell_type": "markdown",
      "source": [
        "# 140. Word Break II\n",
        "\n",
        "\n",
        "\n",
        "```\n",
        "Input: s = \"pineapplepenapple\", wordDict = [\"apple\",\"pen\",\"applepen\",\"pine\",\"pineapple\"]\n",
        "Output: [\"pine apple pen apple\",\"pineapple pen apple\",\"pine applepen apple\"]\n",
        "Explanation: Note that you are allowed to reuse a dictionary word.\n",
        "```\n",
        "\n",
        "\n",
        "---\n",
        "This question is labeled as hard. However, it's not that hard. The tricky part is that a couple of special cases should be considered. eg, with a single letter or with words composed of the same letters.\n"
      ],
      "metadata": {
        "id": "sDTAhdnbbkdK"
      }
    },
    {
      "cell_type": "markdown",
      "source": [
        "Version 1:\n",
        "\n",
        "Failed with the multiple \"a\" tescase."
      ],
      "metadata": {
        "id": "wti1LbXlb5hP"
      }
    },
    {
      "cell_type": "code",
      "execution_count": 14,
      "metadata": {
        "id": "cCjy6e5PU7xI"
      },
      "outputs": [],
      "source": [
        "class Solution(object):\n",
        "    def wordBreak(self, s, wordDict):\n",
        "        \"\"\"\n",
        "        :type s: str\n",
        "        :type wordDict: List[str]\n",
        "        :rtype: List[str]\n",
        "        \"\"\"\n",
        "        res = []\n",
        "        \n",
        "        def helper(curPtr, comb):\n",
        "            # base case\n",
        "            if len(\"\".join(comb.split())) == len(s):\n",
        "                res.append(comb[:-1])\n",
        "                return\n",
        "            # early stopping\n",
        "            for word in wordDict:\n",
        "                nextPtr = curPtr+len(word)\n",
        "                if s[curPtr:nextPtr] == word:\n",
        "                    break\n",
        "                if nextPtr == len(s) + 1 and s[curPtr:nextPtr] != wordDict[-1]:\n",
        "                    return\n",
        "            # base case\n",
        "            if len(\"\".join(comb.split())) == len(s):\n",
        "                res.append(comb[:-1])\n",
        "                return\n",
        "            \n",
        "            # 1st choice\n",
        "            for word in wordDict:\n",
        "                nextPtr = curPtr+len(word)\n",
        "                if s[curPtr:nextPtr] == word:\n",
        "                    helper(nextPtr, comb + word + \" \")\n",
        "        \n",
        "        helper(0, \"\")\n",
        "        return res"
      ]
    },
    {
      "cell_type": "code",
      "source": [
        "print(Solution().wordBreak(\"a\", [\"a\"]))"
      ],
      "metadata": {
        "colab": {
          "base_uri": "https://localhost:8080/"
        },
        "id": "OMC5UbNXU81r",
        "outputId": "2b69b17b-c0a8-4776-cbcd-94d6407f92c6"
      },
      "execution_count": 15,
      "outputs": [
        {
          "output_type": "stream",
          "name": "stdout",
          "text": [
            "['a']\n"
          ]
        }
      ]
    },
    {
      "cell_type": "markdown",
      "source": [
        "Correct Version:\n",
        "\n",
        "\n",
        "\n",
        "```\n",
        "if: break else: return \n",
        "```\n",
        "\n",
        "to early stop"
      ],
      "metadata": {
        "id": "UjtubLXdcCJT"
      }
    },
    {
      "cell_type": "code",
      "source": [
        "class Solution(object):\n",
        "    def wordBreak(self, s, wordDict):\n",
        "        \"\"\"\n",
        "        :type s: str\n",
        "        :type wordDict: List[str]\n",
        "        :rtype: List[str]\n",
        "        \"\"\"\n",
        "        res = []\n",
        "        \n",
        "        def helper(curPtr, comb):\n",
        "            # base case\n",
        "            if len(\"\".join(comb.split())) == len(s):\n",
        "                res.append(comb[:-1])\n",
        "                return\n",
        "            \n",
        "            # early stopping\n",
        "            for i in range(curPtr, len(s) + 1):\n",
        "                if s[curPtr:i] in wordDict: break\n",
        "                if i == len(s): return\n",
        "            \n",
        "            # multiple choices\n",
        "            for word in wordDict:\n",
        "                end = curPtr+len(word)\n",
        "                if s[curPtr:end] == word:\n",
        "                    helper(end, comb + word + \" \")\n",
        "        \n",
        "        helper(0, \"\")\n",
        "        return res"
      ],
      "metadata": {
        "id": "EE67tw3dbgpn"
      },
      "execution_count": null,
      "outputs": []
    }
  ]
}
