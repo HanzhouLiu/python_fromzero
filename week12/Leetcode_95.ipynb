{
  "nbformat": 4,
  "nbformat_minor": 0,
  "metadata": {
    "colab": {
      "name": "Leetcode #95.ipynb",
      "provenance": [],
      "collapsed_sections": [],
      "authorship_tag": "ABX9TyMVs7qIcfx8R1Ae08S+fRDH",
      "include_colab_link": true
    },
    "kernelspec": {
      "name": "python3",
      "display_name": "Python 3"
    },
    "language_info": {
      "name": "python"
    }
  },
  "cells": [
    {
      "cell_type": "markdown",
      "metadata": {
        "id": "view-in-github",
        "colab_type": "text"
      },
      "source": [
        "<a href=\"https://colab.research.google.com/github/HanzhouLiu/python_fromzero/blob/main/Leetcode_95.ipynb\" target=\"_parent\"><img src=\"https://colab.research.google.com/assets/colab-badge.svg\" alt=\"Open In Colab\"/></a>"
      ]
    },
    {
      "cell_type": "markdown",
      "source": [
        "# 95. Unique Binary Search Trees II\n"
      ],
      "metadata": {
        "id": "l_zJiYIfqfiX"
      }
    },
    {
      "cell_type": "markdown",
      "source": [
        "My solution"
      ],
      "metadata": {
        "id": "YAHRI1IRqrjc"
      }
    },
    {
      "cell_type": "code",
      "execution_count": null,
      "metadata": {
        "id": "lOlXsOYSpuaU"
      },
      "outputs": [],
      "source": [
        "class Solution(object):\n",
        "    def generateTrees(self, n):\n",
        "        \"\"\"\n",
        "        :type n: int\n",
        "        :rtype: List[TreeNode]\n",
        "        \"\"\"\n",
        "        res = []\n",
        "        \n",
        "        def dfs(nodes, i, cur):\n",
        "            # base case\n",
        "            if nodes == n:\n",
        "                res.append(cur[:])\n",
        "                return\n",
        "            \n",
        "            # first choice\n",
        "            for l in range(1, i):\n",
        "                if l in cur:\n",
        "                    cur.append(None)\n",
        "                else:\n",
        "                    cur.append(l)\n",
        "                dfs(nodes + 1, i + 1, cur)\n",
        "                \n",
        "            # second choise\n",
        "            for r in range(i + 1, n + 1)"
      ]
    },
    {
      "cell_type": "markdown",
      "source": [
        "[Youtube Link](https://www.youtube.com/watch?v=GEerqsfLBZc)\n",
        "\n",
        "[Leetcode Post Link](https://leetcode.com/problems/unique-binary-search-trees-ii/discuss/1440128/Python-DFS-with-Memoization-Clean-and-Concise)\n",
        "\n",
        "\n",
        "\n",
        "---\n",
        "LeftNodes is smaller BSTS;\n",
        "\n",
        "\n",
        "\n",
        "RightNodes is larger BSTS.\n",
        "\n",
        "**ans is a list of TreeNodes.**\n"
      ],
      "metadata": {
        "id": "yvlVE3W1quhB"
      }
    },
    {
      "cell_type": "code",
      "source": [
        "class Solution:\n",
        "    def generateTrees(self, n: int) -> List[Optional[TreeNode]]:\n",
        "        @lru_cache(None)\n",
        "        def dfs(left, right):\n",
        "            if left > right: return [None]\n",
        "            if left == right: return [TreeNode(left)]\n",
        "            ans = []\n",
        "            for root in range(left, right+1):\n",
        "                leftNodes = dfs(left, root - 1)\n",
        "                rightNodes = dfs(root+1, right)\n",
        "                for leftNode in leftNodes:\n",
        "                    for rightNode in rightNodes:\n",
        "                        rootNode = TreeNode(root, leftNode, rightNode)\n",
        "                        ans.append(rootNode)\n",
        "            return ans\n",
        "        \n",
        "        return dfs(1, n)"
      ],
      "metadata": {
        "id": "suiijVzPqowG"
      },
      "execution_count": null,
      "outputs": []
    }
  ]
}
