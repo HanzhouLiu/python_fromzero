{
  "nbformat": 4,
  "nbformat_minor": 0,
  "metadata": {
    "colab": {
      "name": "Leetcode #54.ipynb",
      "provenance": [],
      "authorship_tag": "ABX9TyPONZmDuTuQUwaz4PzP3xEN",
      "include_colab_link": true
    },
    "kernelspec": {
      "name": "python3",
      "display_name": "Python 3"
    },
    "language_info": {
      "name": "python"
    }
  },
  "cells": [
    {
      "cell_type": "markdown",
      "metadata": {
        "id": "view-in-github",
        "colab_type": "text"
      },
      "source": [
        "<a href=\"https://colab.research.google.com/github/HanzhouLiu/python_fromzero/blob/main/Leetcode_54.ipynb\" target=\"_parent\"><img src=\"https://colab.research.google.com/assets/colab-badge.svg\" alt=\"Open In Colab\"/></a>"
      ]
    },
    {
      "cell_type": "markdown",
      "source": [
        "# Spriral Matrix"
      ],
      "metadata": {
        "id": "nB9MdLjOAwjp"
      }
    },
    {
      "cell_type": "code",
      "execution_count": null,
      "metadata": {
        "id": "R7_6bghUAvCb"
      },
      "outputs": [],
      "source": [
        "class Solution(object):\n",
        "    def spiralOrder(self, matrix):\n",
        "        \"\"\"\n",
        "        :type matrix: List[List[int]]\n",
        "        :rtype: List[int]\n",
        "        \"\"\"\n",
        "        l, r, t, b = 0, len(matrix[0]), 0, len(matrix)\n",
        "        res = []\n",
        "        \n",
        "        while l < r and t < b:\n",
        "            \n",
        "            for i in range(l, r):\n",
        "                res.append(matrix[t][i])\n",
        "            t += 1\n",
        "            \n",
        "            for i in range(t, b):\n",
        "                res.append(matrix[i][r - 1])\n",
        "            r -= 1\n",
        "            \n",
        "            if not(l < r and t < b):\n",
        "                break\n",
        "            \n",
        "            for i in range(r - 1, l - 1, -1):\n",
        "                res.append(matrix[b - 1][i])\n",
        "            b -= 1\n",
        "            \n",
        "            for i in range(b - 1, t - 1, -1):\n",
        "                res.append(matrix[i][l])\n",
        "            l += 1\n",
        "            \n",
        "        return res"
      ]
    }
  ]
}
