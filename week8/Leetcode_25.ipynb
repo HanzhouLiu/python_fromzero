{
  "nbformat": 4,
  "nbformat_minor": 0,
  "metadata": {
    "colab": {
      "name": "Leetcode #25.ipynb",
      "provenance": [],
      "authorship_tag": "ABX9TyMUdlcSPLRxKyzo307dxWJx",
      "include_colab_link": true
    },
    "kernelspec": {
      "name": "python3",
      "display_name": "Python 3"
    },
    "language_info": {
      "name": "python"
    }
  },
  "cells": [
    {
      "cell_type": "markdown",
      "metadata": {
        "id": "view-in-github",
        "colab_type": "text"
      },
      "source": [
        "<a href=\"https://colab.research.google.com/github/HanzhouLiu/python_fromzero/blob/main/Leetcode_25.ipynb\" target=\"_parent\"><img src=\"https://colab.research.google.com/assets/colab-badge.svg\" alt=\"Open In Colab\"/></a>"
      ]
    },
    {
      "cell_type": "markdown",
      "source": [
        "Reverse node in kth group\n",
        "\n",
        "https://www.youtube.com/watch?v=1UOPsfP85V4"
      ],
      "metadata": {
        "id": "TyJbhupgTjK8"
      }
    },
    {
      "cell_type": "code",
      "execution_count": null,
      "metadata": {
        "id": "beyEhjXoTipe"
      },
      "outputs": [],
      "source": [
        "# Definition for singly-linked list.\n",
        "# class ListNode(object):\n",
        "#     def __init__(self, val=0, next=None):\n",
        "#         self.val = val\n",
        "#         self.next = next\n",
        "class Solution(object):\n",
        "    def reverseKGroup(self, headNode, k):\n",
        "        dummy = ListNode(0, headNode)\n",
        "        groupPrev = dummy\n",
        "        \n",
        "        while True:\n",
        "            kth = self.getKth(groupPrev, k)\n",
        "            if not kth:\n",
        "                break\n",
        "            groupNext = kth.next\n",
        "            \n",
        "            # reverse group\n",
        "            prev, curr = kth.next, groupPrev.next\n",
        "            \n",
        "            while curr != groupNext:\n",
        "                tmp = curr.next\n",
        "                curr.next = prev\n",
        "                prev = curr\n",
        "                curr = tmp\n",
        "            \n",
        "            tmp = groupPrev.next\n",
        "            groupPrev.next = kth\n",
        "            groupPrev = tmp\n",
        "        return dummy.next\n",
        "            \n",
        "    def getKth(self, curr, k):\n",
        "        while curr and k > 0:\n",
        "            curr = curr.next\n",
        "            k -= 1\n",
        "        return curr"
      ]
    }
  ]
}
