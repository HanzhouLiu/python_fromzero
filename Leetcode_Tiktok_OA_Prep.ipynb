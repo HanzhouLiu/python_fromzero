{
  "nbformat": 4,
  "nbformat_minor": 0,
  "metadata": {
    "colab": {
      "provenance": [],
      "collapsed_sections": [],
      "authorship_tag": "ABX9TyMnswP0VhU6nojMw2Mun5++",
      "include_colab_link": true
    },
    "kernelspec": {
      "name": "python3",
      "display_name": "Python 3"
    },
    "language_info": {
      "name": "python"
    }
  },
  "cells": [
    {
      "cell_type": "markdown",
      "metadata": {
        "id": "view-in-github",
        "colab_type": "text"
      },
      "source": [
        "<a href=\"https://colab.research.google.com/github/HanzhouLiu/python_fromzero/blob/main/Leetcode_Tiktok_OA_Prep.ipynb\" target=\"_parent\"><img src=\"https://colab.research.google.com/assets/colab-badge.svg\" alt=\"Open In Colab\"/></a>"
      ]
    },
    {
      "cell_type": "markdown",
      "source": [
        "# Union Find Leetcode 323\n",
        "Given n nodes labeled from 0 to n - 1 and a list of undirected edges (each edge is a pair of nodes), write a function to find the number of connected components in an undirected graph.\n",
        "\n",
        "Example 1:\n",
        "     0          3\n",
        "     |          |\n",
        "     1 --- 2    4\n",
        "Given n = 5 and edges = [[0, 1], [1, 2], [3, 4]], return 2.\n",
        "\n",
        "Example 2:\n",
        "     0           4\n",
        "     |           |\n",
        "     1 --- 2 --- 3\n",
        "Given n = 5 and edges = [[0, 1], [1, 2], [2, 3], [3, 4]], return 1.\n",
        "\n",
        "Note:\n",
        "You can assume that no duplicate edges will appear in edges. Since all edges are undirected, [0, 1] is the same as [1, 0] and thus will not appear together in edges."
      ],
      "metadata": {
        "id": "YH67p5kUOa2r"
      }
    },
    {
      "cell_type": "code",
      "execution_count": null,
      "metadata": {
        "id": "NnTDp0fkOTpE"
      },
      "outputs": [],
      "source": [
        "class Solution:\n",
        "    def countComponents(self, n, edges):\n",
        "        par = [i for i in range(n)]\n",
        "        rank = [1] * n\n",
        "\n",
        "        def find(n1):\n",
        "            res = n1\n",
        "\n",
        "            while res != par[res]:\n",
        "                par[res] = par[par[res]]\n",
        "                res = par[res]\n",
        "            return res\n",
        "        \n",
        "        def union(n1, n2):\n",
        "            p1, p2 = find(n1), find(n2)\n",
        "\n",
        "            if p1 == p2:\n",
        "                return 0\n",
        "            \n",
        "            if rank[p2] > rank[p1]:\n",
        "                par[p1] = p2\n",
        "                rank[p2] += rank[p1]\n",
        "            else:\n",
        "                par[p2] = p1\n",
        "                rank[p1] += rank[p2]\n",
        "            return 1\n",
        "        \n",
        "        res = n\n",
        "        for n1, n2 in edges:\n",
        "            res -= union(n1, n2)\n",
        "        return res"
      ]
    },
    {
      "cell_type": "markdown",
      "source": [
        "# Dynamic Programming Leetcode 62\n",
        "62. Unique Paths\n",
        "\n",
        "There is a robot on an m x n grid. The robot is initially located at the top-left corner (i.e., grid[0][0]). The robot tries to move to the bottom-right corner (i.e., grid[m - 1][n - 1]). The robot can only move either down or right at any point in time.\n",
        "\n",
        "Given the two integers m and n, return the number of possible unique paths that the robot can take to reach the bottom-right corner.\n",
        "\n",
        "The test cases are generated so that the answer will be less than or equal to 2 * 109."
      ],
      "metadata": {
        "id": "ZMqBESpfhfzu"
      }
    },
    {
      "cell_type": "code",
      "source": [
        "class Solution(object):\n",
        "    def uniquePaths(self, m, n):\n",
        "        \"\"\"\n",
        "        :type m: int\n",
        "        :type n: int\n",
        "        :rtype: int\n",
        "        \"\"\"\n",
        "        dp = [[0] * (n + 1)] * (m + 1)\n",
        "        dp[1][1] = 1\n",
        "        for row in range(1, m + 1):\n",
        "            for col in range(1, n + 1):\n",
        "                dp[row][col] = dp[row - 1][col] + dp[row][col - 1]\n",
        "        return dp[-1][-1]"
      ],
      "metadata": {
        "colab": {
          "base_uri": "https://localhost:8080/"
        },
        "id": "l9eRa_mze4Gd",
        "outputId": "8c304bae-2b38-49f9-a849-5a8274bb748a"
      },
      "execution_count": 4,
      "outputs": [
        {
          "output_type": "stream",
          "name": "stdout",
          "text": [
            "[[0, 0, 0, 0, 0], [0, 0, 0, 0, 0], [0, 0, 0, 0, 0], [0, 0, 0, 0, 0], [0, 0, 0, 0, 0]]\n"
          ]
        }
      ]
    },
    {
      "cell_type": "markdown",
      "source": [
        "# 945. Minimum Increment to Make Array Unique\n",
        "\n",
        "You are given an integer array nums. In one move, you can pick an index i where 0 <= i < nums.length and increment nums[i] by 1.\n",
        "\n",
        "Return the minimum number of moves to make every value in nums unique.\n",
        "\n",
        "The test cases are generated so that the answer fits in a 32-bit integer.\n"
      ],
      "metadata": {
        "id": "kDaStAOEjYrc"
      }
    },
    {
      "cell_type": "code",
      "source": [
        "class Solution(object):\n",
        "    def minIncrementForUnique(self, nums):\n",
        "        \"\"\"\n",
        "        :type nums: List[int]\n",
        "        :rtype: int\n",
        "        \"\"\"\n",
        "        cnt = 0\n",
        "        nums.sort()\n",
        "        tmp = nums[0]\n",
        "        myhash = {}\n",
        "        for n in nums:\n",
        "            if n not in myhash:\n",
        "                myhash[n] = 1\n",
        "            else:\n",
        "                myhash[n] += 1\n",
        "        for key, val in myhash.items():\n",
        "            cnt = cnt + max(0, tmp - key) * val + val * (val - 1) / 2\n",
        "            tmp = key + max(0, tmp - key) + val\n",
        "        return cnt"
      ],
      "metadata": {
        "id": "VQ3yToPhsRiK"
      },
      "execution_count": null,
      "outputs": []
    }
  ]
}