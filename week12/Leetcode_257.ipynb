{
  "nbformat": 4,
  "nbformat_minor": 0,
  "metadata": {
    "colab": {
      "provenance": [],
      "collapsed_sections": [],
      "authorship_tag": "ABX9TyPye/5Dn9yCF/C8rczegiFM",
      "include_colab_link": true
    },
    "kernelspec": {
      "name": "python3",
      "display_name": "Python 3"
    },
    "language_info": {
      "name": "python"
    }
  },
  "cells": [
    {
      "cell_type": "markdown",
      "metadata": {
        "id": "view-in-github",
        "colab_type": "text"
      },
      "source": [
        "<a href=\"https://colab.research.google.com/github/HanzhouLiu/python_fromzero/blob/main/Leetcode_257.ipynb\" target=\"_parent\"><img src=\"https://colab.research.google.com/assets/colab-badge.svg\" alt=\"Open In Colab\"/></a>"
      ]
    },
    {
      "cell_type": "markdown",
      "source": [
        "# 257. Binary Tree Paths"
      ],
      "metadata": {
        "id": "lY9ra8ZSU4XU"
      }
    },
    {
      "cell_type": "code",
      "execution_count": null,
      "metadata": {
        "id": "oHfbsX1sNyIw"
      },
      "outputs": [],
      "source": [
        "# Definition for a binary tree node.\n",
        "# class TreeNode(object):\n",
        "#     def __init__(self, val=0, left=None, right=None):\n",
        "#         self.val = val\n",
        "#         self.left = left\n",
        "#         self.right = right\n",
        "class Solution(object):\n",
        "    def binaryTreePaths(self, root):\n",
        "        \"\"\"\n",
        "        :type root: TreeNode\n",
        "        :rtype: List[str]\n",
        "        \"\"\"\n",
        "        res = []\n",
        "        \n",
        "        def helper(curNode, comb):\n",
        "            # base case\n",
        "            if not curNode: return\n",
        "            comb += \"->\" + str(curNode.val)\n",
        "            if (curNode.left or curNode.right) is None:\n",
        "                res.append(comb[2:])\n",
        "                return\n",
        "            \n",
        "            # 1st choice\n",
        "            helper(curNode.left, comb)\n",
        "            \n",
        "            # 2nd choice\n",
        "            helper(curNode.right, comb)\n",
        "            \n",
        "        helper(root, \"\")\n",
        "        return res"
      ]
    }
  ]
}
