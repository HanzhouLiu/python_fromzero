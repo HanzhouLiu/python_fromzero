{
  "nbformat": 4,
  "nbformat_minor": 0,
  "metadata": {
    "colab": {
      "name": "Leetcode #10.ipynb",
      "provenance": [],
      "authorship_tag": "ABX9TyOAAkewrErFh5TTOXp9EC9h",
      "include_colab_link": true
    },
    "kernelspec": {
      "name": "python3",
      "display_name": "Python 3"
    },
    "language_info": {
      "name": "python"
    }
  },
  "cells": [
    {
      "cell_type": "markdown",
      "metadata": {
        "id": "view-in-github",
        "colab_type": "text"
      },
      "source": [
        "<a href=\"https://colab.research.google.com/github/HanzhouLiu/python_fromzero/blob/main/Leetcode_10.ipynb\" target=\"_parent\"><img src=\"https://colab.research.google.com/assets/colab-badge.svg\" alt=\"Open In Colab\"/></a>"
      ]
    },
    {
      "cell_type": "markdown",
      "source": [
        "Regualr Expression Matching\n",
        "\n",
        "Dynamic Programming\n",
        "\n",
        "Ref:\n",
        "\n",
        "https://leetcode.com/problems/regular-expression-matching/discuss/5723/My-DP-approach-in-Python-with-comments-and-unittest"
      ],
      "metadata": {
        "id": "81fYsNd7Gln3"
      }
    },
    {
      "cell_type": "code",
      "execution_count": null,
      "metadata": {
        "id": "PdE4W0riGgju"
      },
      "outputs": [],
      "source": [
        "class Solution(object):\n",
        "    def isMatch(self, s, p):\n",
        "        # The DP table and the string s and p use the same indexes i and j, but\n",
        "        # table[i][j] means the match status between p[:i] and s[:j], i.e.\n",
        "        # table[0][0] means the match status of two empty strings, and\n",
        "        # table[1][1] means the match status of p[0] and s[0]. Therefore, when\n",
        "        # refering to the i-th and the j-th characters of p and s for updating\n",
        "        # table[i][j], we use p[i - 1] and s[j - 1].\n",
        "\n",
        "        # Initialize the table with False. The first row is satisfied.\n",
        "        table = [[False] * (len(s) + 1) for _ in range(len(p) + 1)]\n",
        "\n",
        "        # Update the corner case of matching two empty strings.\n",
        "        table[0][0] = True\n",
        "\n",
        "        # Update the corner case of when s is an empty string but p is not.\n",
        "        # Since each '*' can eliminate the charter before it, the table is\n",
        "        # vertically updated by the one before previous. [test_symbol_0]\n",
        "        for i in range(2, len(p) + 1):\n",
        "            table[i][0] = table[i - 2][0] and p[i - 1] == '*'\n",
        "\n",
        "        for i in range(1, len(p) + 1):\n",
        "            for j in range(1, len(s) + 1):\n",
        "                if p[i - 1] != \"*\":\n",
        "                    # Update the table by referring the diagonal element.\n",
        "                    table[i][j] = table[i - 1][j - 1] and \\\n",
        "                                  (p[i - 1] == s[j - 1] or p[i - 1] == '.')\n",
        "                else:\n",
        "                    # Eliminations (referring to the vertical element)\n",
        "                    # Either refer to the one before previous or the previous.\n",
        "                    # I.e. * eliminate the previous or count the previous.\n",
        "                    # [test_symbol_1]\n",
        "                    table[i][j] = table[i - 2][j] or table[i - 1][j]\n",
        "\n",
        "                    # Propagations (referring to the horizontal element)\n",
        "                    # If p's previous one is equal to the current s, with\n",
        "                    # helps of *, the status can be propagated from the left.\n",
        "                    # [test_symbol_2]\n",
        "                    if p[i - 2] == s[j - 1] or p[i - 2] == '.':\n",
        "                        table[i][j] |= table[i][j - 1]\n",
        "\n",
        "        return table[-1][-1]"
      ]
    },
    {
      "cell_type": "code",
      "source": [
        "class TestSolution(unittest.TestCase):\n",
        "    def test_none_0(self):\n",
        "        s = \"\"\n",
        "        p = \"\"\n",
        "        self.assertTrue(Solution().isMatch(s, p))\n",
        "\n",
        "    def test_none_1(self):\n",
        "        s = \"\"\n",
        "        p = \"a\"\n",
        "        self.assertFalse(Solution().isMatch(s, p))\n",
        "\n",
        "    def test_no_symbol_equal(self):\n",
        "        s = \"abcd\"\n",
        "        p = \"abcd\"\n",
        "        self.assertTrue(Solution().isMatch(s, p))\n",
        "\n",
        "    def test_no_symbol_not_equal_0(self):\n",
        "        s = \"abcd\"\n",
        "        p = \"efgh\"\n",
        "        self.assertFalse(Solution().isMatch(s, p))\n",
        "\n",
        "    def test_no_symbol_not_equal_1(self):\n",
        "        s = \"ab\"\n",
        "        p = \"abb\"\n",
        "        self.assertFalse(Solution().isMatch(s, p))\n",
        "\n",
        "    def test_symbol_0(self):\n",
        "        s = \"\"\n",
        "        p = \"a*\"\n",
        "        self.assertTrue(Solution().isMatch(s, p))\n",
        "\n",
        "    def test_symbol_1(self):\n",
        "        s = \"a\"\n",
        "        p = \"ab*\"\n",
        "        self.assertTrue(Solution().isMatch(s, p))\n",
        "\n",
        "    def test_symbol_2(self):\n",
        "        # E.g.\n",
        "        #   s a b b\n",
        "        # p 1 0 0 0\n",
        "        # a 0 1 0 0\n",
        "        # b 0 0 1 0\n",
        "        # * 0 1 1 1\n",
        "        s = \"abb\"\n",
        "        p = \"ab*\"\n",
        "        self.assertTrue(Solution().isMatch(s, p))\n",
        "\n",
        "\n",
        "if __name__ == \"__main__\":\n",
        "    unittest.main()"
      ],
      "metadata": {
        "id": "-Dq3QNxfG1Tn"
      },
      "execution_count": null,
      "outputs": []
    }
  ]
}
