{
  "nbformat": 4,
  "nbformat_minor": 0,
  "metadata": {
    "colab": {
      "name": "Leetcode #44.ipynb",
      "provenance": [],
      "authorship_tag": "ABX9TyOl6obrFssebVVWXa4YfsDh",
      "include_colab_link": true
    },
    "kernelspec": {
      "name": "python3",
      "display_name": "Python 3"
    },
    "language_info": {
      "name": "python"
    }
  },
  "cells": [
    {
      "cell_type": "markdown",
      "metadata": {
        "id": "view-in-github",
        "colab_type": "text"
      },
      "source": [
        "<a href=\"https://colab.research.google.com/github/HanzhouLiu/python_fromzero/blob/main/Leetcode_44.ipynb\" target=\"_parent\"><img src=\"https://colab.research.google.com/assets/colab-badge.svg\" alt=\"Open In Colab\"/></a>"
      ]
    },
    {
      "cell_type": "markdown",
      "source": [
        "# Wildcard matching\n",
        "Given an input string (s) and a pattern (p), implement wildcard pattern matching with support for '?' and '*' where:\n",
        "\n",
        "*   '?' Matches any single character.\n",
        "*   '*' Matches any sequence of characters (including the empty sequence).\n",
        "\n",
        "\n",
        "The matching should cover the entire input string (not partial)."
      ],
      "metadata": {
        "id": "t--On1FgQOZH"
      }
    },
    {
      "cell_type": "markdown",
      "source": [
        "Solution: Dynamic Programming (DP Table)\n",
        "\n",
        "\n",
        "\n",
        "```\n",
        "        p[0] p[1] p[2] p[3] (containg \"?\" and \"*\")\n",
        "    T   T        \n",
        "s[0]F\n",
        "s[1]F\n",
        "s[2]F\n",
        "s[3]F\n",
        "```\n",
        "\n"
      ],
      "metadata": {
        "id": "n_zRKSFOQfBb"
      }
    },
    {
      "cell_type": "code",
      "execution_count": null,
      "metadata": {
        "id": "I4h_lyBDQNyA"
      },
      "outputs": [],
      "source": [
        "class Solution(object):\n",
        "    def isMatch(self, s, p):\n",
        "        \"\"\"\n",
        "        :type s: str\n",
        "        :type p: str\n",
        "        :rtype: bool\n",
        "        \"\"\"\n",
        "        dp = [[False for i in range(len(p)+1)] for j in range(len(s)+1)]\n",
        "        dp[0][0] = True\n",
        "        \n",
        "        # fill in the first row of dp table\n",
        "        for j in range(1, len(p)+1):\n",
        "            if p[j-1] != \"*\":\n",
        "                break\n",
        "            else:\n",
        "                dp[0][j] = True\n",
        "        \n",
        "        # fill in the first column of dp table, no code here\n",
        "        \n",
        "        # fill in the remaining part of dp table\n",
        "        for i in range(1, len(s)+1):\n",
        "            for j in range(1, len(p)+1):\n",
        "                if p[j-1] == s[i-1] or p[j-1] == \"?\":\n",
        "                    dp[i][j] = dp[i-1][j-1]\n",
        "                if p[j-1] == \"*\":\n",
        "                    dp[i][j] = dp[i-1][j] or dp[i][j-1]\n",
        "        \n",
        "        return dp[-1][-1]"
      ]
    }
  ]
}
