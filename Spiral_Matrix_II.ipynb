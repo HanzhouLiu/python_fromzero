{
  "nbformat": 4,
  "nbformat_minor": 0,
  "metadata": {
    "colab": {
      "provenance": [],
      "authorship_tag": "ABX9TyOGhrGY+K9pVcyP0D711HdD",
      "include_colab_link": true
    },
    "kernelspec": {
      "name": "python3",
      "display_name": "Python 3"
    },
    "language_info": {
      "name": "python"
    }
  },
  "cells": [
    {
      "cell_type": "markdown",
      "metadata": {
        "id": "view-in-github",
        "colab_type": "text"
      },
      "source": [
        "<a href=\"https://colab.research.google.com/github/HanzhouLiu/python_fromzero/blob/main/Spiral_Matrix_II.ipynb\" target=\"_parent\"><img src=\"https://colab.research.google.com/assets/colab-badge.svg\" alt=\"Open In Colab\"/></a>"
      ]
    },
    {
      "cell_type": "code",
      "execution_count": 10,
      "metadata": {
        "colab": {
          "base_uri": "https://localhost:8080/"
        },
        "id": "gE_N-Hz0Xvc4",
        "outputId": "df536ba0-cc04-4351-8a2d-93e7d3fd7edb"
      },
      "outputs": [
        {
          "output_type": "stream",
          "name": "stdout",
          "text": [
            "[[0, 0, 2, 0, 0], [0, 0, 2, 0, 0], [0, 0, 2, 0, 0], [0, 0, 2, 0, 0], [0, 0, 2, 0, 0]]\n"
          ]
        }
      ],
      "source": [
        "a = [[0] * 5] * 5\n",
        "a[2][2] = 2\n",
        "print(a)"
      ]
    },
    {
      "cell_type": "code",
      "source": [
        "a = [[0] * 5 for i in range(5)]\n",
        "print(a)"
      ],
      "metadata": {
        "colab": {
          "base_uri": "https://localhost:8080/"
        },
        "id": "HW2p0hoZooye",
        "outputId": "cd6d7a55-7c6d-450e-a07f-5a40952edc71"
      },
      "execution_count": 7,
      "outputs": [
        {
          "output_type": "stream",
          "name": "stdout",
          "text": [
            "[[0, 0, 0, 0, 0], [0, 0, 0, 0, 0], [0, 0, 0, 0, 0], [0, 0, 0, 0, 0], [0, 0, 0, 0, 0]]\n"
          ]
        }
      ]
    },
    {
      "cell_type": "code",
      "source": [
        "class Solution(object):\n",
        "    def generateMatrix(self, n):\n",
        "        \"\"\"\n",
        "        :type n: int\n",
        "        :rtype: List[List[int]]\n",
        "        \"\"\"\n",
        "        result = [[0] * n] * n # cannot do [] * n *n... Use for loop instead\n",
        "        x = y = 0\n",
        "        left = top = 0\n",
        "        right = bottom = n - 1\n",
        "        current = 1\n",
        "\n",
        "        while current <= n * n:\n",
        "            # go right\n",
        "            for i in range(left, right + 1):\n",
        "                result[top][i] = current\n",
        "                current += 1\n",
        "            top += 1\n",
        "\n",
        "            # go down\n",
        "            for i in range(top, bottom + 1):\n",
        "                result[i][right] = current\n",
        "                current += 1\n",
        "            right -= 1\n",
        "\n",
        "            # go left\n",
        "            for i in range(right, left - 1, -1):\n",
        "                result[bottom][i] = current\n",
        "                current += 1\n",
        "            bottom -= 1\n",
        "\n",
        "            # go top\n",
        "            for i in range(bottom, top - 1, -1):\n",
        "                result[i][left] = current\n",
        "                current += 1\n",
        "            left += 1\n",
        "\n",
        "        return result"
      ],
      "metadata": {
        "id": "lcTdWFlvqcvU"
      },
      "execution_count": null,
      "outputs": []
    }
  ]
}