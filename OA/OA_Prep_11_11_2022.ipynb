{
  "nbformat": 4,
  "nbformat_minor": 0,
  "metadata": {
    "colab": {
      "provenance": [],
      "collapsed_sections": [],
      "authorship_tag": "ABX9TyOkXFwRGhgOzSfmHEneaUap",
      "include_colab_link": true
    },
    "kernelspec": {
      "name": "python3",
      "display_name": "Python 3"
    },
    "language_info": {
      "name": "python"
    }
  },
  "cells": [
    {
      "cell_type": "markdown",
      "metadata": {
        "id": "view-in-github",
        "colab_type": "text"
      },
      "source": [
        "<a href=\"https://colab.research.google.com/github/HanzhouLiu/python_fromzero/blob/main/OA_Prep_11_11_2022.ipynb\" target=\"_parent\"><img src=\"https://colab.research.google.com/assets/colab-badge.svg\" alt=\"Open In Colab\"/></a>"
      ]
    },
    {
      "cell_type": "markdown",
      "source": [
        "# codeforces 1669F \n",
        "There are n candies put from left to right on a table. The candies are numbered from left to right. The i-th candy has weight wi. Alice and Bob eat candies.\n",
        "\n",
        "Alice can eat any number of candies from the left (she can't skip candies, she eats them in a row).\n",
        "\n",
        "Bob can eat any number of candies from the right (he can't skip candies, he eats them in a row).\n",
        "\n",
        "Of course, if Alice ate a candy, Bob can't eat it (and vice versa).\n",
        "\n",
        "They want to be fair. Their goal is to eat the same total weight of candies. What is the most number of candies they can eat in total?\n",
        "\n"
      ],
      "metadata": {
        "id": "0iQ4oEf-0irj"
      }
    },
    {
      "cell_type": "code",
      "execution_count": null,
      "metadata": {
        "id": "zX3Wxe880Qbe"
      },
      "outputs": [],
      "source": [
        "def eatCandy(candies):\n",
        "  l, r = 0, len(candies) - 1\n",
        "  alice, bob, res = candies[0], candies[-1], 0\n",
        "  while l < r:\n",
        "    if alice == bob:\n",
        "      res = l + 1 + len(candies) - r\n",
        "      l, r = l + 1, r - 1\n",
        "      alice, bob = alice + candies[l], bob + candies[r]\n",
        "    elif alice < bob:\n",
        "      l += 1\n",
        "      alice += candies[l]\n",
        "    elif alice > bob:\n",
        "      r -= 1\n",
        "      bob += candies[r]\n",
        "    print(\"l, r = \", l, r)\n",
        "  print(res)\n"
      ]
    },
    {
      "cell_type": "code",
      "source": [
        "candies = [7, 3, 20, 5, 15, 1, 11, 8, 10]"
      ],
      "metadata": {
        "id": "pzcXRbV746dk"
      },
      "execution_count": null,
      "outputs": []
    },
    {
      "cell_type": "code",
      "source": [
        "eatCandy(candies)"
      ],
      "metadata": {
        "colab": {
          "base_uri": "https://localhost:8080/"
        },
        "id": "frW1uycf5Oxj",
        "outputId": "f3228e37-44ff-42b8-83dc-5e284147bd49"
      },
      "execution_count": null,
      "outputs": [
        {
          "output_type": "stream",
          "name": "stdout",
          "text": [
            "l, r =  1 8\n",
            "l, r =  2 7\n",
            "l, r =  2 6\n",
            "l, r =  2 5\n",
            "l, r =  3 4\n",
            "l, r =  4 4\n",
            "7\n"
          ]
        }
      ]
    },
    {
      "cell_type": "markdown",
      "source": [
        "# Leetcode 1250\n",
        "\n",
        "Given an array nums of positive integers. Your task is to select some subset of nums, multiply each element by an integer and add all these numbers. The array is said to be good if you can obtain a sum of 1 from the array by any possible subset and multiplicand.\n",
        "\n",
        "Return True if the array is good otherwise return False.\n",
        "\n"
      ],
      "metadata": {
        "id": "bfAjrpLR9kTO"
      }
    }
  ]
}
