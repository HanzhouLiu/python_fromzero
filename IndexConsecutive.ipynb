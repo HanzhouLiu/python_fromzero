{
  "nbformat": 4,
  "nbformat_minor": 0,
  "metadata": {
    "colab": {
      "provenance": [],
      "collapsed_sections": [],
      "authorship_tag": "ABX9TyNTbhwnFsTF6+THlRfxbnXd",
      "include_colab_link": true
    },
    "kernelspec": {
      "name": "python3",
      "display_name": "Python 3"
    },
    "language_info": {
      "name": "python"
    }
  },
  "cells": [
    {
      "cell_type": "markdown",
      "metadata": {
        "id": "view-in-github",
        "colab_type": "text"
      },
      "source": [
        "<a href=\"https://colab.research.google.com/github/HanzhouLiu/python_fromzero/blob/main/IndexConsecutive.ipynb\" target=\"_parent\"><img src=\"https://colab.research.google.com/assets/colab-badge.svg\" alt=\"Open In Colab\"/></a>"
      ]
    },
    {
      "cell_type": "markdown",
      "source": [
        "Given a list of lists, return a list of start index and end index. \n",
        "\n",
        "Condition: length >= 2."
      ],
      "metadata": {
        "id": "dD-NmE-mX1nj"
      }
    },
    {
      "cell_type": "code",
      "source": [
        "def solution(mylist):\n",
        "    copy, tmp = [], []\n",
        "    for i in range(len(mylist)):\n",
        "        if len(mylist[i]) < 2:  continue\n",
        "        if tmp != mylist[i]:\n",
        "            tmp = mylist[i]\n",
        "            copy.append([i, i])\n",
        "        if tmp == mylist[i]:\n",
        "            start_intv = copy[-1][0]\n",
        "            copy.pop()\n",
        "            copy.append([start_intv, i])\n",
        "    print(copy)"
      ],
      "metadata": {
        "id": "TtLY2xuBT0RP"
      },
      "execution_count": 5,
      "outputs": []
    },
    {
      "cell_type": "code",
      "execution_count": 6,
      "metadata": {
        "colab": {
          "base_uri": "https://localhost:8080/"
        },
        "id": "lzvoQbIpTomf",
        "outputId": "d37b460b-add8-4b47-bf22-e9cc7d8d7483"
      },
      "outputs": [
        {
          "output_type": "stream",
          "name": "stdout",
          "text": [
            "[[0, 1], [7, 7]]\n"
          ]
        }
      ],
      "source": [
        "myList = [[0, 1], [0, 1], [], [], [], [], [1], [0, 1, 2], [3], [2]]\n",
        "solution(myList)"
      ]
    }
  ]
}