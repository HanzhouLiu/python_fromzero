{
  "nbformat": 4,
  "nbformat_minor": 0,
  "metadata": {
    "colab": {
      "name": "Leetcode #90.ipynb",
      "provenance": [],
      "authorship_tag": "ABX9TyPYXxc5VjFvC84oRfchJjiP",
      "include_colab_link": true
    },
    "kernelspec": {
      "name": "python3",
      "display_name": "Python 3"
    },
    "language_info": {
      "name": "python"
    }
  },
  "cells": [
    {
      "cell_type": "markdown",
      "metadata": {
        "id": "view-in-github",
        "colab_type": "text"
      },
      "source": [
        "<a href=\"https://colab.research.google.com/github/HanzhouLiu/python_fromzero/blob/main/Leetcode_90.ipynb\" target=\"_parent\"><img src=\"https://colab.research.google.com/assets/colab-badge.svg\" alt=\"Open In Colab\"/></a>"
      ]
    },
    {
      "cell_type": "markdown",
      "source": [
        "# 90. Subsets II"
      ],
      "metadata": {
        "id": "yeq6QlNWKWVW"
      }
    },
    {
      "cell_type": "markdown",
      "source": [
        "Version 1: (wrong)\n",
        "\n",
        "---\n",
        "\n",
        "\n",
        "\n",
        "1.   First, a for loop was used out side of the dfs function.\n",
        "\n",
        "2.   Second, the duplicate sets haven't been removed."
      ],
      "metadata": {
        "id": "nrzKBbR9J-t6"
      }
    },
    {
      "cell_type": "code",
      "execution_count": null,
      "metadata": {
        "id": "3_-3EyCpJ9JI"
      },
      "outputs": [],
      "source": [
        "class Solution(object):\n",
        "    def subsetsWithDup(self, nums):\n",
        "        \"\"\"\n",
        "        :type nums: List[int]\n",
        "        :rtype: List[List[int]]\n",
        "        \"\"\"\n",
        "        res = []\n",
        "        \n",
        "        def dfs(i, cur):\n",
        "            # base case\n",
        "            if i == len(nums):\n",
        "                res.append(cur[:])\n",
        "                #print(cur)\n",
        "                return \n",
        "            \n",
        "            # 1st choice\n",
        "            cur.append(nums[i])\n",
        "            dfs(i + 1, cur)\n",
        "            # 2nd choice\n",
        "            cur.pop()\n",
        "            dfs(i + 1, cur)\n",
        "            \n",
        "        \n",
        "        #for j in range(len(nums)):\n",
        "        #    dfs(j, [])\n",
        "        dfs(0, [])\n",
        "        return res"
      ]
    },
    {
      "cell_type": "markdown",
      "source": [
        "Version 2: (correct)\n",
        "\n",
        "---\n",
        "\n",
        "How to prevent deplicate subsets?\n",
        "\n",
        "\n",
        "1.   Sort the input nums first.\n",
        "2.   Use a if else in the base case\n",
        "Otherwise, as Neetcode suggested in his youtube video, [ref link](https://www.youtube.com/watch?v=Vn2v6ajA7U0), a while loop after pop() is also good.\n",
        "\n",
        "\n",
        "\n"
      ],
      "metadata": {
        "id": "NMbxQAOYKgNv"
      }
    },
    {
      "cell_type": "code",
      "source": [
        "class Solution(object):\n",
        "    def subsetsWithDup(self, nums):\n",
        "        \"\"\"\n",
        "        :type nums: List[int]\n",
        "        :rtype: List[List[int]]\n",
        "        \"\"\"\n",
        "        res = []\n",
        "        nums.sort()\n",
        "        \n",
        "        def dfs(i, cur):\n",
        "            # base case\n",
        "            if i == len(nums):\n",
        "                if cur not in res:\n",
        "                    res.append(cur[:])\n",
        "                #print(cur)\n",
        "                return \n",
        "            \n",
        "            # 1st choice\n",
        "            cur.append(nums[i])\n",
        "            dfs(i + 1, cur)\n",
        "            # 2nd choice\n",
        "            cur.pop()\n",
        "            dfs(i + 1, cur)\n",
        "            \n",
        "        \n",
        "        #for j in range(len(nums)):\n",
        "        #    dfs(j, [])\n",
        "        dfs(0, [])\n",
        "        return res"
      ],
      "metadata": {
        "id": "1tFeCmZ2Kfkc"
      },
      "execution_count": null,
      "outputs": []
    }
  ]
}