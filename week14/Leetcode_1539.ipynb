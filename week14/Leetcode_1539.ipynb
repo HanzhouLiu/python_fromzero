{
  "nbformat": 4,
  "nbformat_minor": 0,
  "metadata": {
    "colab": {
      "provenance": [],
      "collapsed_sections": [],
      "authorship_tag": "ABX9TyM2rpRyEeLH81HabCR/DTVl",
      "include_colab_link": true
    },
    "kernelspec": {
      "name": "python3",
      "display_name": "Python 3"
    },
    "language_info": {
      "name": "python"
    }
  },
  "cells": [
    {
      "cell_type": "markdown",
      "metadata": {
        "id": "view-in-github",
        "colab_type": "text"
      },
      "source": [
        "<a href=\"https://colab.research.google.com/github/HanzhouLiu/python_fromzero/blob/main/Leetcode_1539.ipynb\" target=\"_parent\"><img src=\"https://colab.research.google.com/assets/colab-badge.svg\" alt=\"Open In Colab\"/></a>"
      ]
    },
    {
      "cell_type": "markdown",
      "source": [
        "# 1539. Kth Missing Positive Number\n",
        "Given an array arr of positive integers sorted in a strictly increasing order, and an integer k.\n",
        "\n",
        "Return the kth positive integer that is missing from this array.\n",
        "\n",
        "\n",
        "\n",
        "```\n",
        "Input: arr = [2,3,4,7,11], k = 5\n",
        "Output: 9\n",
        "Explanation: The missing positive integers are [1,5,6,8,9,10,12,13,...]. The 5th missing positive integer is 9.\n",
        "```\n",
        "\n",
        "\n",
        "\n"
      ],
      "metadata": {
        "id": "8WO1ob4bB7cy"
      }
    },
    {
      "cell_type": "markdown",
      "source": [
        "Solution1: Brute Force\n",
        "\n",
        "Time Complexity: O(n)"
      ],
      "metadata": {
        "id": "n9g_B9VHCG1B"
      }
    },
    {
      "cell_type": "code",
      "execution_count": null,
      "metadata": {
        "id": "LWSra51w2Uj-"
      },
      "outputs": [],
      "source": [
        "class Solution(object):\n",
        "    def findKthPositive(self, arr, k):\n",
        "        \"\"\"\n",
        "        :type arr: List[int]\n",
        "        :type k: int\n",
        "        :rtype: int\n",
        "        \"\"\"\n",
        "        # O(n) algorithm\n",
        "        i, count = 0, 0\n",
        "        while count < k:\n",
        "            i += 1\n",
        "            if i not in arr:\n",
        "                count += 1\n",
        "        return i "
      ]
    },
    {
      "cell_type": "markdown",
      "source": [
        "Solution2: Binary Search"
      ],
      "metadata": {
        "id": "zaXIS4jVCWB9"
      }
    },
    {
      "cell_type": "code",
      "source": [
        "class Solution(object):\n",
        "    def findKthPositive(self, arr, k):\n",
        "        \"\"\"\n",
        "        :type arr: List[int]\n",
        "        :type k: int\n",
        "        :rtype: int\n",
        "        \"\"\"\n",
        "        if k < arr[0]:\n",
        "            return k\n",
        "        \n",
        "        l, r = 0, len(arr) - 1\n",
        "        \n",
        "        while l <= r:\n",
        "            mid = (l + r) // 2\n",
        "            if arr[mid] - mid <= k: l = mid + 1\n",
        "            else: r = mid - 1\n",
        "        \n",
        "        return l + k "
      ],
      "metadata": {
        "id": "M3vX9k0eCVnf"
      },
      "execution_count": null,
      "outputs": []
    }
  ]
}
