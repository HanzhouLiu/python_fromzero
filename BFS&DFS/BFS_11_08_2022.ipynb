{
  "nbformat": 4,
  "nbformat_minor": 0,
  "metadata": {
    "colab": {
      "provenance": [],
      "collapsed_sections": [],
      "authorship_tag": "ABX9TyOEvA4vtY3y4W99F1iNLbms",
      "include_colab_link": true
    },
    "kernelspec": {
      "name": "python3",
      "display_name": "Python 3"
    },
    "language_info": {
      "name": "python"
    }
  },
  "cells": [
    {
      "cell_type": "markdown",
      "metadata": {
        "id": "view-in-github",
        "colab_type": "text"
      },
      "source": [
        "<a href=\"https://colab.research.google.com/github/HanzhouLiu/python_fromzero/blob/main/BFS_11_08_2022.ipynb\" target=\"_parent\"><img src=\"https://colab.research.google.com/assets/colab-badge.svg\" alt=\"Open In Colab\"/></a>"
      ]
    },
    {
      "cell_type": "markdown",
      "source": [
        "# 127. Word Ladder\n",
        "A transformation sequence from word beginWord to word endWord using a dictionary wordList is a sequence of words beginWord -> s1 -> s2 -> ... -> sk such that:\n",
        "\n",
        "Every adjacent pair of words differs by a single letter.\n",
        "Every si for 1 <= i <= k is in wordList. Note that beginWord does not need to be in wordList.\n",
        "sk == endWord\n",
        "Given two words, beginWord and endWord, and a dictionary wordList, return the number of words in the shortest transformation sequence from beginWord to endWord, or 0 if no such sequence exists."
      ],
      "metadata": {
        "id": "pMT3PpWrMLUl"
      }
    },
    {
      "cell_type": "markdown",
      "source": [
        "My solution: Time Limit..."
      ],
      "metadata": {
        "id": "oHM4IU9RMRIM"
      }
    },
    {
      "cell_type": "code",
      "execution_count": null,
      "metadata": {
        "id": "jeN29HPjMEn-"
      },
      "outputs": [],
      "source": [
        "class Solution(object):\n",
        "    def ladderLength(self, beginWord, endWord, wordList):\n",
        "        \"\"\"\n",
        "        :type beginWord: str\n",
        "        :type endWord: str\n",
        "        :type wordList: List[str]\n",
        "        :rtype: int\n",
        "        \"\"\"\n",
        "        def check(word1, word2):\n",
        "            cnt = 0\n",
        "            for i in range(len(word1)):\n",
        "                if cnt > 1:\n",
        "                    break\n",
        "                if word1[i] == word2[i]:\n",
        "                    continue\n",
        "                cnt += 1\n",
        "            return cnt == 1\n",
        "        \n",
        "        if endWord not in wordList:\n",
        "            return 0\n",
        "        \n",
        "        res = 1\n",
        "        visited = set([beginWord])\n",
        "        q = [beginWord]\n",
        "        while q:\n",
        "            for i in range(len(q)):\n",
        "                word = q.pop(0)\n",
        "                if word == endWord:\n",
        "                    return res\n",
        "                for item in wordList:\n",
        "                    if check(word, item) and (item not in visited):\n",
        "                        visited.add(item)\n",
        "                        q.append(item)\n",
        "            res +"
      ]
    },
    {
      "cell_type": "markdown",
      "source": [
        "From Neetcode\n",
        "https://www.youtube.com/watch?v=h9iTnkgv05E"
      ],
      "metadata": {
        "id": "EuLodwwcMZW-"
      }
    },
    {
      "cell_type": "code",
      "source": [
        "class Solution(object):\n",
        "    def ladderLength(self, beginWord, endWord, wordList):\n",
        "        \"\"\"\n",
        "        :type beginWord: str\n",
        "        :type endWord: str\n",
        "        :type wordList: List[str]\n",
        "        :rtype: int\n",
        "        \"\"\"\n",
        "        \n",
        "        if endWord not in wordList:\n",
        "            return 0\n",
        "        \n",
        "        hash = collections.defaultdict(list)\n",
        "        wordList.append(beginWord)\n",
        "        for word in wordList:\n",
        "            for j in range(len(word)):\n",
        "                pattern = word[:j] + \"*\" + word[j + 1:]\n",
        "                hash[pattern].append(word)\n",
        "        res = 1\n",
        "        visited = set([beginWord])\n",
        "        q = [beginWord]\n",
        "        while q:\n",
        "            for i in range(len(q)):\n",
        "                word = q.pop(0)\n",
        "                if word == endWord:\n",
        "                    return res\n",
        "                for j in range(len(word)):\n",
        "                    pattern = word[:j] + \"*\" + word[j + 1:]\n",
        "                    for curWord in hash[pattern]:\n",
        "                        if curWord not in visited:\n",
        "                            visited.add(curWord)\n",
        "                            q.append(curWord)\n",
        "            res += 1\n",
        "        return 0"
      ],
      "metadata": {
        "id": "FeTv82PdOEmA"
      },
      "execution_count": null,
      "outputs": []
    }
  ]
}
