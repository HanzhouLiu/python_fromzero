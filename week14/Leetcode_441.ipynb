{
  "nbformat": 4,
  "nbformat_minor": 0,
  "metadata": {
    "colab": {
      "provenance": [],
      "collapsed_sections": [],
      "authorship_tag": "ABX9TyNWywmLTf/pWgefIpYxXez9",
      "include_colab_link": true
    },
    "kernelspec": {
      "name": "python3",
      "display_name": "Python 3"
    },
    "language_info": {
      "name": "python"
    }
  },
  "cells": [
    {
      "cell_type": "markdown",
      "metadata": {
        "id": "view-in-github",
        "colab_type": "text"
      },
      "source": [
        "<a href=\"https://colab.research.google.com/github/HanzhouLiu/python_fromzero/blob/main/Leetcode_441.ipynb\" target=\"_parent\"><img src=\"https://colab.research.google.com/assets/colab-badge.svg\" alt=\"Open In Colab\"/></a>"
      ]
    },
    {
      "cell_type": "markdown",
      "source": [
        "# 441. Arranging Coins\n",
        "You have n coins and you want to build a staircase with these coins. The staircase consists of k rows where the ith row has exactly i coins. The last row of the staircase may be incomplete.\n",
        "\n",
        "Given the integer n, return the number of complete rows of the staircase you will build."
      ],
      "metadata": {
        "id": "c63urvmQU1Qj"
      }
    },
    {
      "cell_type": "code",
      "execution_count": null,
      "metadata": {
        "id": "xOTbslTYU0vI"
      },
      "outputs": [],
      "source": [
        "class Solution(object):\n",
        "    def arrangeCoins(self, n):\n",
        "        \"\"\"\n",
        "        :type n: int\n",
        "        :rtype: int\n",
        "        \"\"\"\n",
        "        count = 0\n",
        "        while n >= count + 1:\n",
        "            count += 1\n",
        "            n -= count\n",
        "        \n",
        "        return count"
      ]
    },
    {
      "cell_type": "markdown",
      "source": [
        "Solution 2: Binary Search\n",
        "\n",
        "[link text](https://www.youtube.com/watch?v=5rHz_6s2Buw)"
      ],
      "metadata": {
        "id": "VBy7vMLy2MLS"
      }
    },
    {
      "cell_type": "code",
      "source": [
        "class Solution(object):\n",
        "    def arrangeCoins(self, n):\n",
        "        \"\"\"\n",
        "        :type n: int\n",
        "        :rtype: int\n",
        "        \"\"\"\n",
        "        l, r = 1, n\n",
        "        res = 0\n",
        "        \n",
        "        while l <= r:\n",
        "            mid = (l + r) // 2\n",
        "            total = mid * (mid + 1) / 2\n",
        "            if total > n: r = mid - 1\n",
        "            if total <= n: \n",
        "                l = mid + 1\n",
        "                res = max(res, mid)\n",
        "        \n",
        "        return res"
      ],
      "metadata": {
        "id": "vGAtI66w2LcY"
      },
      "execution_count": null,
      "outputs": []
    }
  ]
}
