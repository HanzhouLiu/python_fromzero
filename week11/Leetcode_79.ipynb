{
  "nbformat": 4,
  "nbformat_minor": 0,
  "metadata": {
    "colab": {
      "name": "Leetcode # 79.ipynb",
      "provenance": [],
      "authorship_tag": "ABX9TyPTvDmAXfronr/oQZ5IAEhH",
      "include_colab_link": true
    },
    "kernelspec": {
      "name": "python3",
      "display_name": "Python 3"
    },
    "language_info": {
      "name": "python"
    }
  },
  "cells": [
    {
      "cell_type": "markdown",
      "metadata": {
        "id": "view-in-github",
        "colab_type": "text"
      },
      "source": [
        "<a href=\"https://colab.research.google.com/github/HanzhouLiu/python_fromzero/blob/main/Leetcode_79.ipynb\" target=\"_parent\"><img src=\"https://colab.research.google.com/assets/colab-badge.svg\" alt=\"Open In Colab\"/></a>"
      ]
    },
    {
      "cell_type": "markdown",
      "source": [
        "# 79. Word Search\n",
        "[ref link](https://www.youtube.com/watch?v=pfiQ_PS1g8E)"
      ],
      "metadata": {
        "id": "SwRzfkijP1WX"
      }
    },
    {
      "cell_type": "code",
      "execution_count": null,
      "metadata": {
        "id": "d6EfJc2sP0xS"
      },
      "outputs": [],
      "source": [
        "class Solution(object):\n",
        "    def exist(self, board, word):\n",
        "        \"\"\"\n",
        "        :type board: List[List[str]]\n",
        "        :type word: str\n",
        "        :rtype: bool\n",
        "        \"\"\"\n",
        "        H, W = len(board), len(board[0])\n",
        "        \n",
        "        def bt(r, c, i):\n",
        "            # base case\n",
        "            if len(word) == i:\n",
        "                return True\n",
        "            \n",
        "            # check if the current letter is good\n",
        "            if r < 0 or c < 0 or r >= H or c >= W or board[r][c] != word[i]:\n",
        "                return False\n",
        "            \n",
        "            # good, then change the board value as USED\n",
        "            board[r][c] = \".\"\n",
        "            # backtracking\n",
        "            if (bt(r-1,c,i+1) or bt(r+1,c,i+1) or bt(r,c-1,i+1) or bt(r,c+1,i+1)):\n",
        "                return True\n",
        "            board[r][c] = word[i]\n",
        "            \n",
        "        for m in range(H):\n",
        "            for n in range(W):\n",
        "                if bt(m, n, 0):\n",
        "                    return True"
      ]
    }
  ]
}
