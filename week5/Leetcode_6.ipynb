{
  "nbformat": 4,
  "nbformat_minor": 0,
  "metadata": {
    "colab": {
      "name": "Leetcode #6.ipynb",
      "provenance": [],
      "authorship_tag": "ABX9TyMymkjkz/48ptYWdlCJNVd/",
      "include_colab_link": true
    },
    "kernelspec": {
      "name": "python3",
      "display_name": "Python 3"
    },
    "language_info": {
      "name": "python"
    }
  },
  "cells": [
    {
      "cell_type": "markdown",
      "metadata": {
        "id": "view-in-github",
        "colab_type": "text"
      },
      "source": [
        "<a href=\"https://colab.research.google.com/github/HanzhouLiu/python_fromzero/blob/main/Leetcode_6.ipynb\" target=\"_parent\"><img src=\"https://colab.research.google.com/assets/colab-badge.svg\" alt=\"Open In Colab\"/></a>"
      ]
    },
    {
      "cell_type": "markdown",
      "source": [
        "\n",
        "```\n",
        "Input: s = \"PAYPALISHIRING\", numRows = 4\n",
        "Output: \"PINALSIGYAHRPI\"\n",
        "Explanation:\n",
        "P     I    N\n",
        "A   L S  I G\n",
        "Y A   H R\n",
        "P     I\n",
        "```\n",
        "\n"
      ],
      "metadata": {
        "id": "IPZytNOPGn1G"
      }
    },
    {
      "cell_type": "markdown",
      "source": [
        "ref:\n",
        "\n",
        "https://leetcode.com/problems/zigzag-conversion/discuss/3404/Python-O(n)-Solution-in-96ms-(99.43)"
      ],
      "metadata": {
        "id": "ZtsdqV8RPTEq"
      }
    },
    {
      "cell_type": "code",
      "source": [
        "class Solution(object):\n",
        "    def convert(self, s, numRows):\n",
        "        \"\"\"\n",
        "        :type s: str\n",
        "        :type numRows: int\n",
        "        :rtype: str\n",
        "        \"\"\"\n",
        "        if numRows >= len(s) or numRows == 1:\n",
        "          return s\n",
        "\n",
        "        index = 0\n",
        "        step = 1\n",
        "        myList = []\n",
        "        for i in range(0, numRows):\n",
        "          myList.append(\"\")\n",
        "        for letter in s:\n",
        "          myList[index] += letter\n",
        "          if index == 0:\n",
        "            step = 1\n",
        "          elif index == numRows - 1:\n",
        "            step = -1\n",
        "          index += step\n",
        "        \n",
        "        print(\"\".join(myList))\n",
        "        return \"\".join(myList)"
      ],
      "metadata": {
        "id": "u3fUqM-YGnMx"
      },
      "execution_count": 7,
      "outputs": []
    },
    {
      "cell_type": "code",
      "source": [
        "Solution().convert(\"PAYPALISHIRING\", 4)"
      ],
      "metadata": {
        "colab": {
          "base_uri": "https://localhost:8080/",
          "height": 52
        },
        "id": "eO2WwiCMSqlb",
        "outputId": "0e70100f-00f2-47f7-853e-66c188d25ed4"
      },
      "execution_count": 8,
      "outputs": [
        {
          "output_type": "stream",
          "name": "stdout",
          "text": [
            "PINALSIGYAHRPI\n"
          ]
        },
        {
          "output_type": "execute_result",
          "data": {
            "text/plain": [
              "'PINALSIGYAHRPI'"
            ],
            "application/vnd.google.colaboratory.intrinsic+json": {
              "type": "string"
            }
          },
          "metadata": {},
          "execution_count": 8
        }
      ]
    }
  ]
}
