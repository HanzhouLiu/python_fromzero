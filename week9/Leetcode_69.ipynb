{
  "nbformat": 4,
  "nbformat_minor": 0,
  "metadata": {
    "colab": {
      "provenance": [],
      "authorship_tag": "ABX9TyOA3Q0+MiyBNtwJZcV+nqks",
      "include_colab_link": true
    },
    "kernelspec": {
      "name": "python3",
      "display_name": "Python 3"
    },
    "language_info": {
      "name": "python"
    }
  },
  "cells": [
    {
      "cell_type": "markdown",
      "metadata": {
        "id": "view-in-github",
        "colab_type": "text"
      },
      "source": [
        "<a href=\"https://colab.research.google.com/github/HanzhouLiu/python_fromzero/blob/main/Leetcode_69.ipynb\" target=\"_parent\"><img src=\"https://colab.research.google.com/assets/colab-badge.svg\" alt=\"Open In Colab\"/></a>"
      ]
    },
    {
      "cell_type": "markdown",
      "source": [
        "# 69. Sqrt(x)\n",
        "\n",
        "\n",
        "```\n",
        "# This is formaInput: x = 8\n",
        "Output: 2\n",
        "Explanation: The square root of 8 is 2.82842..., and since the decimal part is truncated, 2 is returned.tted as code\n",
        "```\n",
        "\n",
        "\n",
        "---\n",
        "\n",
        "\n",
        "\n",
        "This question is labeled as easy. However, it's not that easy to to determine when to return."
      ],
      "metadata": {
        "id": "go5FCzuhE2MN"
      }
    },
    {
      "cell_type": "markdown",
      "source": [],
      "metadata": {
        "id": "uGNd3Zheufvi"
      }
    },
    {
      "cell_type": "code",
      "execution_count": null,
      "metadata": {
        "id": "jCMdLDErEwLg"
      },
      "outputs": [],
      "source": [
        "class Solution(object):\n",
        "    def mySqrt(self, x):\n",
        "        \"\"\"\n",
        "        :type x: int\n",
        "        :rtype: int\n",
        "        \"\"\"\n",
        "        # whenever a sqrt problem is given, the first idea coming into my\n",
        "        # my mind is to half divide the number.\n",
        "        \n",
        "        l, r = 0, x + 1\n",
        "        while l <= r:\n",
        "            mid = (l + r) // 2\n",
        "            if mid * mid == x or l == r - 1: return mid\n",
        "            if mid * mid > x: r = mid\n",
        "            if mid * mid < x: l = mid"
      ]
    }
  ]
}
