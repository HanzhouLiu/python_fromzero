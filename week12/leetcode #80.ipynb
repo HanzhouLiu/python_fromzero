{
  "nbformat": 4,
  "nbformat_minor": 0,
  "metadata": {
    "colab": {
      "provenance": [],
      "authorship_tag": "ABX9TyP79XajmpeH8bF/OwXgNfXY",
      "include_colab_link": true
    },
    "kernelspec": {
      "name": "python3",
      "display_name": "Python 3"
    },
    "language_info": {
      "name": "python"
    }
  },
  "cells": [
    {
      "cell_type": "markdown",
      "metadata": {
        "id": "view-in-github",
        "colab_type": "text"
      },
      "source": [
        "<a href=\"https://colab.research.google.com/github/HanzhouLiu/python_fromzero/blob/main/Untitled2.ipynb\" target=\"_parent\"><img src=\"https://colab.research.google.com/assets/colab-badge.svg\" alt=\"Open In Colab\"/></a>"
      ]
    },
    {
      "cell_type": "markdown",
      "source": [
        "# 80. Remove Duplicates from Sorted Array II\n",
        "\n",
        "I used three pointers to loop over all elements in the list.\n",
        "\n",
        "\n",
        "\n",
        "---\n",
        "\n"
      ],
      "metadata": {
        "id": "W8L0a8WHnD5A"
      }
    },
    {
      "cell_type": "code",
      "execution_count": null,
      "metadata": {
        "id": "NUtoQMHYnAvy"
      },
      "outputs": [],
      "source": [
        "class Solution(object):\n",
        "    def removeDuplicates(self, nums):\n",
        "        \"\"\"\n",
        "        :type nums: List[int]\n",
        "        :rtype: int\n",
        "        \"\"\"\n",
        "        # two pointers\n",
        "        \n",
        "        # short length case\n",
        "        if len(nums) <= 2:\n",
        "            return\n",
        "        \n",
        "        # long length case\n",
        "        ptr1, ptr2, ptr3 = 0, 1, 2\n",
        "        while ptr3 < len(nums):\n",
        "            if nums[ptr1] == nums[ptr2] == nums[ptr3]:\n",
        "                nums.pop(ptr3)\n",
        "            else:\n",
        "                ptr1 += 1\n",
        "                ptr2 += 1\n",
        "                ptr3 += 1"
      ]
    }
  ]
}
