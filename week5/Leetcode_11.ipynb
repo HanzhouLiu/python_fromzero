{
  "nbformat": 4,
  "nbformat_minor": 0,
  "metadata": {
    "colab": {
      "name": "Leetcode #11.ipynb",
      "provenance": [],
      "authorship_tag": "ABX9TyNWeVTdn6QpxaJgwebZumN6",
      "include_colab_link": true
    },
    "kernelspec": {
      "name": "python3",
      "display_name": "Python 3"
    },
    "language_info": {
      "name": "python"
    }
  },
  "cells": [
    {
      "cell_type": "markdown",
      "metadata": {
        "id": "view-in-github",
        "colab_type": "text"
      },
      "source": [
        "<a href=\"https://colab.research.google.com/github/HanzhouLiu/python_fromzero/blob/main/Leetcode_11.ipynb\" target=\"_parent\"><img src=\"https://colab.research.google.com/assets/colab-badge.svg\" alt=\"Open In Colab\"/></a>"
      ]
    },
    {
      "cell_type": "markdown",
      "source": [
        "Two endpoints.\n",
        "\n",
        "h1 and h2.\n",
        "\n",
        "if "
      ],
      "metadata": {
        "id": "gp8ngXl9DA4w"
      }
    },
    {
      "cell_type": "code",
      "execution_count": 16,
      "metadata": {
        "colab": {
          "base_uri": "https://localhost:8080/"
        },
        "id": "z0KeZeWnC93u",
        "outputId": "aada4d0c-08ca-4d88-c07d-fbf196034a20"
      },
      "outputs": [
        {
          "output_type": "stream",
          "name": "stdout",
          "text": [
            "9\n",
            "1\n",
            "1\n",
            "1\n",
            "1\n",
            "1\n",
            "1\n",
            "1\n",
            "1\n",
            "1\n",
            "2\n",
            "2\n",
            "2\n",
            "2\n",
            "2\n",
            "2\n",
            "2\n",
            "2\n",
            "3\n",
            "3\n",
            "3\n",
            "3\n",
            "3\n",
            "3\n",
            "3\n",
            "4\n",
            "4\n",
            "4\n",
            "4\n",
            "4\n",
            "4\n",
            "5\n",
            "5\n",
            "5\n",
            "5\n",
            "5\n",
            "6\n",
            "6\n",
            "6\n",
            "6\n",
            "7\n",
            "7\n",
            "7\n"
          ]
        },
        {
          "output_type": "execute_result",
          "data": {
            "text/plain": [
              "49"
            ]
          },
          "metadata": {},
          "execution_count": 16
        }
      ],
      "source": [
        "class Solution(object):\n",
        "    def maxArea(self, height):\n",
        "        \"\"\"\n",
        "        :type height: List[int]\n",
        "        :rtype: int\n",
        "        \"\"\"\n",
        "        result = 0\n",
        "        print(len(height))\n",
        "        for width in range(1, len(height)-1):\n",
        "            print(width)\n",
        "            for left_idx in range(0, len(height)-width):\n",
        "                print(width)\n",
        "                if min(height[left_idx], height[left_idx+width])*width > result:\n",
        "                    result = min(height[left_idx], height[left_idx+width])*width\n",
        "                # return result\n",
        "        return result\n",
        "Solution().maxArea([1,8,6,2,5,4,8,3,7])"
      ]
    },
    {
      "cell_type": "code",
      "source": [
        "class Solution(object):\n",
        "    def maxArea(self, height):\n",
        "        \"\"\"\n",
        "        :type height: List[int]\n",
        "        :rtype: int\n",
        "        \"\"\"\n",
        "        maxArea = 0\n",
        "        left = 0\n",
        "        right = len(height)-1\n",
        "        while left < right:\n",
        "            maxArea = max(maxArea, min(height[left], height[right]) * (right-left))\n",
        "            if height[left] < height[right]:\n",
        "                left += 1\n",
        "            else:\n",
        "                right -= 1\n",
        "            \n",
        "        return maxArea"
      ],
      "metadata": {
        "id": "dlq2nBItiLZp"
      },
      "execution_count": null,
      "outputs": []
    }
  ]
}
