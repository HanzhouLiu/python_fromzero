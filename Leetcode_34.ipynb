{
  "nbformat": 4,
  "nbformat_minor": 0,
  "metadata": {
    "colab": {
      "name": "Leetcode #34.ipynb",
      "provenance": [],
      "authorship_tag": "ABX9TyMkw3LimoDoG4dF3tqq4Cos",
      "include_colab_link": true
    },
    "kernelspec": {
      "name": "python3",
      "display_name": "Python 3"
    },
    "language_info": {
      "name": "python"
    }
  },
  "cells": [
    {
      "cell_type": "markdown",
      "metadata": {
        "id": "view-in-github",
        "colab_type": "text"
      },
      "source": [
        "<a href=\"https://colab.research.google.com/github/HanzhouLiu/python_fromzero/blob/main/Leetcode_34.ipynb\" target=\"_parent\"><img src=\"https://colab.research.google.com/assets/colab-badge.svg\" alt=\"Open In Colab\"/></a>"
      ]
    },
    {
      "cell_type": "markdown",
      "source": [
        "Given an array of integers nums sorted in non-decreasing order, find the starting and ending position of a given target value.\n",
        "\n",
        "If target is not found in the array, return [-1, -1].\n",
        "\n",
        "You must write an algorithm with O(log n) runtime complexity.\n",
        "\n",
        "[Reference link](https://www.youtube.com/watch?v=U8XENwh8Oy8)\n",
        "\n"
      ],
      "metadata": {
        "id": "DTY10fklqWss"
      }
    },
    {
      "cell_type": "code",
      "execution_count": null,
      "metadata": {
        "id": "LEpgl0m9qUbA"
      },
      "outputs": [],
      "source": [
        "class Solution(object):\n",
        "    def searchRange(self, nums, target):\n",
        "        \"\"\"\n",
        "        :type nums: List[int]\n",
        "        :type target: int\n",
        "        :rtype: List[int]\n",
        "        \"\"\"\n",
        "        # two pointer algo.: O(n)   (x)\n",
        "        \n",
        "        # binary search: O(log(n))  (v)\n",
        "        left = self.binSearch(nums, target, True)\n",
        "        right = self.binSearch(nums, target, False)\n",
        "        return [left, right]\n",
        "        \n",
        "        \n",
        "    def binSearch(self, nums, target, leftBias):\n",
        "        l, r = 0, len(nums) - 1\n",
        "        i = -1\n",
        "        \n",
        "        while l <= r:\n",
        "            mid = (l + r) // 2\n",
        "            if nums[mid] > target:\n",
        "                r = mid - 1\n",
        "            elif nums[mid] < target:\n",
        "                l = mid + 1\n",
        "            elif nums[mid] == target:\n",
        "                i = mid\n",
        "                if leftBias == True:\n",
        "                    r = mid - 1\n",
        "                if leftBias == False:\n",
        "                    l = mid + 1\n",
        "        return i"
      ]
    }
  ]
}