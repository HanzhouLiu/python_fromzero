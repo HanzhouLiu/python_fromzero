{
  "nbformat": 4,
  "nbformat_minor": 0,
  "metadata": {
    "colab": {
      "name": "Leetcode #198.ipynb",
      "provenance": [],
      "authorship_tag": "ABX9TyNHaceoG06GS/3pr9NKo1rz",
      "include_colab_link": true
    },
    "kernelspec": {
      "name": "python3",
      "display_name": "Python 3"
    },
    "language_info": {
      "name": "python"
    }
  },
  "cells": [
    {
      "cell_type": "markdown",
      "metadata": {
        "id": "view-in-github",
        "colab_type": "text"
      },
      "source": [
        "<a href=\"https://colab.research.google.com/github/HanzhouLiu/python_fromzero/blob/main/Leetcode_198.ipynb\" target=\"_parent\"><img src=\"https://colab.research.google.com/assets/colab-badge.svg\" alt=\"Open In Colab\"/></a>"
      ]
    },
    {
      "cell_type": "markdown",
      "source": [
        "# House Robber\n",
        "\n",
        "You are a professional robber planning to rob houses along a street. Each house has a certain amount of money stashed, the only constraint stopping you from robbing each of them is that adjacent houses have security systems connected and it will automatically contact the police if two adjacent houses were broken into on the same night.\n",
        "\n",
        "Given an integer array nums representing the amount of money of each house, return the maximum amount of money you can rob tonight without alerting the police."
      ],
      "metadata": {
        "id": "TTf8T8soS--2"
      }
    },
    {
      "cell_type": "markdown",
      "source": [
        "Solution 1: Top-Down Recursion + Memo"
      ],
      "metadata": {
        "id": "HGirvgE-sJe9"
      }
    },
    {
      "cell_type": "code",
      "execution_count": null,
      "metadata": {
        "id": "M3FNzV_US-fm"
      },
      "outputs": [],
      "source": [
        "class Solution(object):\n",
        "    def rob(self, nums):\n",
        "        \"\"\"\n",
        "        :type nums: List[int]\n",
        "        :rtype: int\n",
        "        \"\"\"\n",
        "        memo = [-1] * len(nums)\n",
        "        def helper(nums, i):\n",
        "            if i < 0:\n",
        "                return 0\n",
        "            \n",
        "            if memo[i] >= 0:\n",
        "                return memo[i]\n",
        "            \n",
        "            res = max(helper(nums, i - 1), helper(nums, i - 2) + nums[i])\n",
        "            memo[i] = res\n",
        "            return res\n",
        "        \n",
        "        return helper(nums, len(nums) - 1)"
      ]
    },
    {
      "cell_type": "markdown",
      "source": [
        "Solution 2: Bottom-Up Iteration"
      ],
      "metadata": {
        "id": "3PQrPoQavmM_"
      }
    },
    {
      "cell_type": "code",
      "source": [
        "class Solution(object):\n",
        "    def rob(self, nums):\n",
        "        \"\"\"\n",
        "        :type nums: List[int]\n",
        "        :rtype: int\n",
        "        \"\"\"\n",
        "        tmp1, tmp2 = 0, 0\n",
        "        \n",
        "        for n in nums:\n",
        "            res = max(tmp1 + n, tmp2)\n",
        "            tmp1 = tmp2\n",
        "            tmp2 = res\n",
        "        \n",
        "        return tmp2"
      ],
      "metadata": {
        "id": "YZauEvykvxZP"
      },
      "execution_count": null,
      "outputs": []
    }
  ]
}
