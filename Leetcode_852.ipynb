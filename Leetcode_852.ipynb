{
  "nbformat": 4,
  "nbformat_minor": 0,
  "metadata": {
    "colab": {
      "provenance": [],
      "collapsed_sections": [],
      "authorship_tag": "ABX9TyPG7DTcckT/uUhQUXxen5dY",
      "include_colab_link": true
    },
    "kernelspec": {
      "name": "python3",
      "display_name": "Python 3"
    },
    "language_info": {
      "name": "python"
    }
  },
  "cells": [
    {
      "cell_type": "markdown",
      "metadata": {
        "id": "view-in-github",
        "colab_type": "text"
      },
      "source": [
        "<a href=\"https://colab.research.google.com/github/HanzhouLiu/python_fromzero/blob/main/Leetcode_852.ipynb\" target=\"_parent\"><img src=\"https://colab.research.google.com/assets/colab-badge.svg\" alt=\"Open In Colab\"/></a>"
      ]
    },
    {
      "cell_type": "markdown",
      "source": [
        "# 852. Peak Index in a Mountain Array\n",
        "\n",
        "An array arr a mountain if the following properties hold:\n",
        "\n",
        "arr.length >= 3\n",
        "There exists some i with 0 < i < arr.length - 1 such that:\n",
        "arr[0] < arr[1] < ... < arr[i - 1] < arr[i]\n",
        "arr[i] > arr[i + 1] > ... > arr[arr.length - 1]\n",
        "Given a mountain array arr, return the index i such that arr[0] < arr[1] < ... < arr[i - 1] < arr[i] > arr[i + 1] > ... > arr[arr.length - 1].\n",
        "\n",
        "You must solve it in O(log(arr.length)) time complexity.\n",
        "\n",
        "\n",
        "---\n",
        "\n",
        "This problem isn't hard. However, each time the current element needs to be compared with adjacent items and the time complexity is still O(log_n)."
      ],
      "metadata": {
        "id": "f-fE67cz1rqA"
      }
    },
    {
      "cell_type": "code",
      "execution_count": null,
      "metadata": {
        "id": "fblg_196YLZY"
      },
      "outputs": [],
      "source": [
        "class Solution(object):\n",
        "    def peakIndexInMountainArray(self, arr):\n",
        "        \"\"\"\n",
        "        :type arr: List[int]\n",
        "        :rtype: int\n",
        "        \"\"\"\n",
        "        l, r = 0, len(arr) - 1\n",
        "        \n",
        "        while l <= r:\n",
        "            m = (l + r) / 2\n",
        "            if arr[m] > arr[m-1] and arr[m] > arr[m+1]:\n",
        "                return m\n",
        "            if arr[m] > arr[m-1] and arr[m+1] > arr[m] :\n",
        "                l = m\n",
        "            if arr[m] < arr[m-1] and arr[m] > arr[m+1]:\n",
        "                r = m"
      ]
    },
    {
      "cell_type": "markdown",
      "source": [
        "# 367. Valid Perfect Square\n",
        "\n",
        "Given a positive integer num, write a function which returns True if num is a perfect square else False.\n",
        "\n",
        "Follow up: Do not use any built-in library function such as sqrt.\n",
        "\n",
        "\n",
        "---\n",
        "This problem is labeled as easy. However, the first time to touch this problem, it's not easy to propose a O(log_n) algorithm without using the sqrt function.\n"
      ],
      "metadata": {
        "id": "GG2Z8H8CO1PN"
      }
    },
    {
      "cell_type": "code",
      "source": [
        "class Solution(object):\n",
        "    def isPerfectSquare(self, num):\n",
        "        \"\"\"\n",
        "        :type num: int\n",
        "        :rtype: bool\n",
        "        \"\"\"\n",
        "        l, r = 0, num\n",
        "        \n",
        "        while l < r:\n",
        "            m = (l + r) // 2\n",
        "            if m * m == num: print(m)\n",
        "            if m * m > num: r = m\n",
        "            if m * m < num: l = m\n",
        "        return False"
      ],
      "metadata": {
        "id": "8qeUTEFFKzNe"
      },
      "execution_count": 9,
      "outputs": []
    },
    {
      "cell_type": "markdown",
      "source": [
        "Correct version:\n",
        "\n",
        "Consider num == 1 and set the condition as l < r - 1."
      ],
      "metadata": {
        "id": "LAFcIQ9qRIKN"
      }
    },
    {
      "cell_type": "code",
      "source": [
        "class Solution(object):\n",
        "    def isPerfectSquare(self, num):\n",
        "        \"\"\"\n",
        "        :type num: int\n",
        "        :rtype: bool\n",
        "        \"\"\"\n",
        "        l, r = 0, num\n",
        "        # 0, 14; 0, 7; 3, 7; 3, 5; 3, 4\n",
        "        while l < r - 1:\n",
        "            m = (l + r) // 2\n",
        "            if m * m == num: return True\n",
        "            if m * m > num: r = m\n",
        "            if m * m < num: l = m\n",
        "        return False or num == 1"
      ],
      "metadata": {
        "colab": {
          "base_uri": "https://localhost:8080/",
          "height": 287
        },
        "id": "q41lpO_iK0Vk",
        "outputId": "62316306-29df-4172-d506-e30d8ff3f3b1"
      },
      "execution_count": 10,
      "outputs": [
        {
          "output_type": "error",
          "ename": "KeyboardInterrupt",
          "evalue": "ignored",
          "traceback": [
            "\u001b[0;31m---------------------------------------------------------------------------\u001b[0m",
            "\u001b[0;31mKeyboardInterrupt\u001b[0m                         Traceback (most recent call last)",
            "\u001b[0;32m<ipython-input-10-f1a89129b22a>\u001b[0m in \u001b[0;36m<module>\u001b[0;34m\u001b[0m\n\u001b[0;32m----> 1\u001b[0;31m \u001b[0mSolution\u001b[0m\u001b[0;34m(\u001b[0m\u001b[0;34m)\u001b[0m\u001b[0;34m.\u001b[0m\u001b[0misPerfectSquare\u001b[0m\u001b[0;34m(\u001b[0m\u001b[0;36m14\u001b[0m\u001b[0;34m)\u001b[0m\u001b[0;34m\u001b[0m\u001b[0;34m\u001b[0m\u001b[0m\n\u001b[0m",
            "\u001b[0;32m<ipython-input-9-8674a8d34b9d>\u001b[0m in \u001b[0;36misPerfectSquare\u001b[0;34m(self, num)\u001b[0m\n\u001b[1;32m      9\u001b[0m         \u001b[0;32mwhile\u001b[0m \u001b[0ml\u001b[0m \u001b[0;34m<\u001b[0m \u001b[0mr\u001b[0m\u001b[0;34m:\u001b[0m\u001b[0;34m\u001b[0m\u001b[0;34m\u001b[0m\u001b[0m\n\u001b[1;32m     10\u001b[0m             \u001b[0mm\u001b[0m \u001b[0;34m=\u001b[0m \u001b[0;34m(\u001b[0m\u001b[0ml\u001b[0m \u001b[0;34m+\u001b[0m \u001b[0mr\u001b[0m\u001b[0;34m)\u001b[0m \u001b[0;34m//\u001b[0m \u001b[0;36m2\u001b[0m\u001b[0;34m\u001b[0m\u001b[0;34m\u001b[0m\u001b[0m\n\u001b[0;32m---> 11\u001b[0;31m             \u001b[0;32mif\u001b[0m \u001b[0mm\u001b[0m \u001b[0;34m*\u001b[0m \u001b[0mm\u001b[0m \u001b[0;34m==\u001b[0m \u001b[0mnum\u001b[0m\u001b[0;34m:\u001b[0m \u001b[0mprint\u001b[0m\u001b[0;34m(\u001b[0m\u001b[0mm\u001b[0m\u001b[0;34m)\u001b[0m\u001b[0;34m\u001b[0m\u001b[0;34m\u001b[0m\u001b[0m\n\u001b[0m\u001b[1;32m     12\u001b[0m             \u001b[0;32mif\u001b[0m \u001b[0mm\u001b[0m \u001b[0;34m*\u001b[0m \u001b[0mm\u001b[0m \u001b[0;34m>\u001b[0m \u001b[0mnum\u001b[0m\u001b[0;34m:\u001b[0m \u001b[0mr\u001b[0m \u001b[0;34m=\u001b[0m \u001b[0mm\u001b[0m\u001b[0;34m\u001b[0m\u001b[0;34m\u001b[0m\u001b[0m\n\u001b[1;32m     13\u001b[0m             \u001b[0;32mif\u001b[0m \u001b[0mm\u001b[0m \u001b[0;34m*\u001b[0m \u001b[0mm\u001b[0m \u001b[0;34m<\u001b[0m \u001b[0mnum\u001b[0m\u001b[0;34m:\u001b[0m \u001b[0ml\u001b[0m \u001b[0;34m=\u001b[0m \u001b[0mm\u001b[0m\u001b[0;34m\u001b[0m\u001b[0;34m\u001b[0m\u001b[0m\n",
            "\u001b[0;31mKeyboardInterrupt\u001b[0m: "
          ]
        }
      ]
    },
    {
      "cell_type": "code",
      "source": [
        "print(9 // 2)"
      ],
      "metadata": {
        "colab": {
          "base_uri": "https://localhost:8080/"
        },
        "id": "r3a96XP9LiGJ",
        "outputId": "5b2f8050-322f-4bf0-ecc4-6b26d8eae759"
      },
      "execution_count": 6,
      "outputs": [
        {
          "output_type": "stream",
          "name": "stdout",
          "text": [
            "4\n"
          ]
        }
      ]
    }
  ]
}