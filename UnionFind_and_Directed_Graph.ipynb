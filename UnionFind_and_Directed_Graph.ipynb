{
  "nbformat": 4,
  "nbformat_minor": 0,
  "metadata": {
    "colab": {
      "provenance": [],
      "collapsed_sections": [],
      "authorship_tag": "ABX9TyMnAJ8998w6JO1cvGjaF4Dl",
      "include_colab_link": true
    },
    "kernelspec": {
      "name": "python3",
      "display_name": "Python 3"
    },
    "language_info": {
      "name": "python"
    }
  },
  "cells": [
    {
      "cell_type": "markdown",
      "metadata": {
        "id": "view-in-github",
        "colab_type": "text"
      },
      "source": [
        "<a href=\"https://colab.research.google.com/github/HanzhouLiu/python_fromzero/blob/main/UnionFind_and_Directed_Graph.ipynb\" target=\"_parent\"><img src=\"https://colab.research.google.com/assets/colab-badge.svg\" alt=\"Open In Colab\"/></a>"
      ]
    },
    {
      "cell_type": "markdown",
      "source": [
        "#  684. Redundant Connection\n",
        "\n",
        "In this problem, a tree is an undirected graph that is connected and has no cycles.\n",
        "\n",
        "You are given a graph that started as a tree with n nodes labeled from 1 to n, with one additional edge added. The added edge has two different vertices chosen from 1 to n, and was not an edge that already existed. The graph is represented as an array edges of length n where edges[i] = [ai, bi] indicates that there is an edge between nodes ai and bi in the graph.\n",
        "\n",
        "Return an edge that can be removed so that the resulting graph is a tree of n nodes. If there are multiple answers, return the answer that occurs last in the input."
      ],
      "metadata": {
        "id": "0-oPv-q8IpUv"
      }
    },
    {
      "cell_type": "markdown",
      "source": [
        "Solution1: UnionFind"
      ],
      "metadata": {
        "id": "XmdybkYtIu9S"
      }
    },
    {
      "cell_type": "code",
      "execution_count": null,
      "metadata": {
        "id": "zBmhRoDFIoBb"
      },
      "outputs": [],
      "source": [
        "class Solution(object):\n",
        "    def findRedundantConnection(self, edges):\n",
        "        \"\"\"\n",
        "        :type edges: List[List[int]]\n",
        "        :rtype: List[int]\n",
        "        \"\"\"\n",
        "        n = len(edges)\n",
        "        rank = [1] * (n + 1)\n",
        "        par = [_ for _ in range(0, n + 1)]\n",
        "        \n",
        "        def find(n1):\n",
        "            res = par[n1]\n",
        "            while res != par[res]:\n",
        "                par[res] = par[par[res]]\n",
        "                res = par[res]\n",
        "            return res\n",
        "        \n",
        "        def union(n1, n2):\n",
        "            root1, root2 = find(n1), find(n2)\n",
        "            \n",
        "            if root1 == root2:\n",
        "                return False\n",
        "            \n",
        "            if rank[root1] > rank[root2]:\n",
        "                rank[root1] += rank[root2]\n",
        "                par[root2] = root1\n",
        "            else:\n",
        "                rank[root2] += rank[root1]\n",
        "                par[root1] = root2\n",
        "            return True\n",
        "        \n",
        "        for n1, n2 in edges:\n",
        "            if not union(n1, n2):\n",
        "                return [n1, n2]"
      ]
    },
    {
      "cell_type": "markdown",
      "source": [
        "#  399. Evaluate Division\n",
        "\n",
        "\n",
        "You are given an array of variable pairs equations and an array of real numbers values, where equations[i] = [Ai, Bi] and values[i] represent the equation Ai / Bi = values[i]. Each Ai or Bi is a string that represents a single variable.\n",
        "\n",
        "You are also given some queries, where queries[j] = [Cj, Dj] represents the jth query where you must find the answer for Cj / Dj = ?.\n",
        "\n",
        "Return the answers to all queries. If a single answer cannot be determined, return -1.0.\n",
        "\n",
        "Note: The input is always valid. You may assume that evaluating the queries will not result in division by zero and that there is no contradiction."
      ],
      "metadata": {
        "id": "Hp33QuqIJIfR"
      }
    },
    {
      "cell_type": "code",
      "source": [
        "from collections import defaultdict, deque\n",
        "class Solution:\n",
        "    def calcEquation(self, equations, values, queries):\n",
        "        graph = defaultdict(dict)\n",
        "        # graph = {}\n",
        "        for ([x,y],value) in zip(equations, values):\n",
        "            graph[x][y] = value\n",
        "            graph[y][x] = 1/value\n",
        "        print(graph)\n",
        "        \n",
        "        def find_prod(s,e):\n",
        "            if s not in graph or e not in graph:\n",
        "                return -1.0\n",
        "            if s==e: return 1.0\n",
        "            q = deque([(s, 1.0)])\n",
        "            visited = {s}\n",
        "            while q:\n",
        "                n, curr = q.popleft()\n",
        "                for child,value in graph[n].items():\n",
        "                    if child in visited:\n",
        "                        continue\n",
        "                    nc = curr*value\n",
        "                    if child == e:\n",
        "                        return nc\n",
        "                    graph[s][child] = nc\n",
        "                    graph[child][s] = 1/nc\n",
        "                    visited.add(child)\n",
        "                    q.append((child, nc))\n",
        "            return -1.0\n",
        "        \n",
        "        return [find_prod(s,e) for [s,e] in queries]"
      ],
      "metadata": {
        "id": "eyWuFm0JJOiD"
      },
      "execution_count": null,
      "outputs": []
    }
  ]
}