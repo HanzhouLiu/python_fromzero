{
  "nbformat": 4,
  "nbformat_minor": 0,
  "metadata": {
    "colab": {
      "name": "Divide and Conquer.ipynb",
      "provenance": [],
      "authorship_tag": "ABX9TyOdEREHlllN3uV8YnYS0KJd",
      "include_colab_link": true
    },
    "kernelspec": {
      "name": "python3",
      "display_name": "Python 3"
    },
    "language_info": {
      "name": "python"
    }
  },
  "cells": [
    {
      "cell_type": "markdown",
      "metadata": {
        "id": "view-in-github",
        "colab_type": "text"
      },
      "source": [
        "<a href=\"https://colab.research.google.com/github/HanzhouLiu/python_fromzero/blob/main/Divide_and_Conquer.ipynb\" target=\"_parent\"><img src=\"https://colab.research.google.com/assets/colab-badge.svg\" alt=\"Open In Colab\"/></a>"
      ]
    },
    {
      "cell_type": "markdown",
      "source": [
        "# 169. Majority Element\n",
        "Given an array nums of size n, return the majority element.\n",
        "\n",
        "The majority element is the element that appears **more than ⌊n / 2⌋ times**. You may assume that the majority element always exists in the array.\n",
        "\n",
        "\n",
        "```\n",
        "Input: nums = [3,2,3]\n",
        "Output: 3\n",
        "```\n",
        "\n"
      ],
      "metadata": {
        "id": "71I1ipPmNfSU"
      }
    },
    {
      "cell_type": "markdown",
      "source": [
        "Solution 1: Space complexity is O(n)"
      ],
      "metadata": {
        "id": "Ts3bzLcagWHs"
      }
    },
    {
      "cell_type": "code",
      "execution_count": null,
      "metadata": {
        "id": "58fWtMhONcGJ"
      },
      "outputs": [],
      "source": [
        "class Solution(object):\n",
        "    def majorityElement(self, nums):\n",
        "        \"\"\"\n",
        "        :type nums: List[int]\n",
        "        :rtype: int\n",
        "        \"\"\"\n",
        "        hash = {}\n",
        "        res, count = 1, 0\n",
        "        for n in nums:\n",
        "            if n not in hash:\n",
        "                hash[n] = 1\n",
        "            else:\n",
        "                hash[n] += 1\n",
        "            if hash[n] > count:\n",
        "                res = n\n",
        "                count = hash[n]\n",
        "            else:\n",
        "                res = res\n",
        "        return res"
      ]
    },
    {
      "cell_type": "markdown",
      "source": [
        "Solution 2: "
      ],
      "metadata": {
        "id": "pRoaei1Hgy_z"
      }
    },
    {
      "cell_type": "code",
      "source": [
        "class Solution(object):\n",
        "    def majorityElement(self, nums):\n",
        "        \"\"\"\n",
        "        :type nums: List[int]\n",
        "        :rtype: int\n",
        "        \"\"\"\n",
        "        nums.sort()\n",
        "        return nums[len(nums) // 2]"
      ],
      "metadata": {
        "id": "mN4xaQ1ug2MS"
      },
      "execution_count": null,
      "outputs": []
    },
    {
      "cell_type": "markdown",
      "source": [
        "Solution 3: Boyer and Moore's Algorithm\n",
        "\n",
        "[Ref link](https://www.youtube.com/watch?v=7pnhv842keE)"
      ],
      "metadata": {
        "id": "39AJkH2Boekv"
      }
    },
    {
      "cell_type": "code",
      "source": [
        "class Solution:\n",
        "    def majorityElement(self, nums):\n",
        "        res, count = 0, 0\n",
        "\n",
        "        for n in nums:\n",
        "            if count == 0:\n",
        "                res = n\n",
        "            count += (1 if n == res else -1)\n",
        "        return res"
      ],
      "metadata": {
        "id": "c-7ShkbeqPU1"
      },
      "execution_count": null,
      "outputs": []
    },
    {
      "cell_type": "markdown",
      "source": [
        "Solution 4: DAC\n",
        "\n",
        "Ref: from leetcode solutions"
      ],
      "metadata": {
        "id": "27RMC7CoqP3O"
      }
    },
    {
      "cell_type": "code",
      "source": [
        "class Solution(object):\n",
        "    def majorityElement(self, nums):\n",
        "        \"\"\"\n",
        "        :type nums: List[int]\n",
        "        :rtype: int\n",
        "        \"\"\"\n",
        "        def majority_element_rec(lo, hi):\n",
        "            # base case; the only element in an array of size 1 is the majority\n",
        "            # element.\n",
        "            if lo == hi:\n",
        "                return nums[lo]\n",
        "\n",
        "            # recurse on left and right halves of this slice.\n",
        "            mid = (hi-lo)//2 + lo\n",
        "            left = majority_element_rec(lo, mid)\n",
        "            right = majority_element_rec(mid+1, hi)\n",
        "\n",
        "            # if the two halves agree on the majority element, return it.\n",
        "            if left == right:\n",
        "                return left\n",
        "\n",
        "            # otherwise, count each element and return the \"winner\".\n",
        "            left_count = sum(1 for i in range(lo, hi+1) if nums[i] == left)\n",
        "            right_count = sum(1 for i in range(lo, hi+1) if nums[i] == right)\n",
        "\n",
        "            return left if left_count > right_count else right\n",
        "\n",
        "        return majority_element_rec(0, len(nums)-1)"
      ],
      "metadata": {
        "id": "hqkoNezjqSxc"
      },
      "execution_count": null,
      "outputs": []
    }
  ]
}
