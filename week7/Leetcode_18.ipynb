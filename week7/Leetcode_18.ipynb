{
  "nbformat": 4,
  "nbformat_minor": 0,
  "metadata": {
    "colab": {
      "name": "Leetcode #18.ipynb",
      "provenance": [],
      "authorship_tag": "ABX9TyMwrBc79Uxh7KLq75zc+DCY",
      "include_colab_link": true
    },
    "kernelspec": {
      "name": "python3",
      "display_name": "Python 3"
    },
    "language_info": {
      "name": "python"
    }
  },
  "cells": [
    {
      "cell_type": "markdown",
      "metadata": {
        "id": "view-in-github",
        "colab_type": "text"
      },
      "source": [
        "<a href=\"https://colab.research.google.com/github/HanzhouLiu/python_fromzero/blob/main/Leetcode_18.ipynb\" target=\"_parent\"><img src=\"https://colab.research.google.com/assets/colab-badge.svg\" alt=\"Open In Colab\"/></a>"
      ]
    },
    {
      "cell_type": "markdown",
      "source": [
        "Given an array nums of n integers, return an array of all the unique quadruplets [nums[a], nums[b], nums[c], nums[d]] such that:\n",
        "\n",
        "0 <= a, b, c, d < n\n",
        "\n",
        "*   0 <= a, b, c, d < n\n",
        "*   a, b, c, and d are distinct.\n",
        "*   nums[a] + nums[b] + nums[c] + nums[d] == target\n",
        "\n",
        "You may return the answer in any order."
      ],
      "metadata": {
        "id": "Iy-tlmR1TTBd"
      }
    },
    {
      "cell_type": "markdown",
      "source": [
        "Solution1: Two Pointers Algorithms"
      ],
      "metadata": {
        "id": "eJYt0nqfTfbi"
      }
    },
    {
      "cell_type": "code",
      "execution_count": 58,
      "metadata": {
        "id": "6Pe2tfbeTR2U"
      },
      "outputs": [],
      "source": [
        "class Solution(object):\n",
        "    def fourSum(self, nums, target):\n",
        "        \"\"\"\n",
        "        :type nums: List[int]\n",
        "        :type target: int\n",
        "        :rtype: List[List[int]]\n",
        "        \"\"\"\n",
        "        NUMS = sorted(nums)\n",
        "        res = ()\n",
        "        \n",
        "        for i in range(len(nums)-3):\n",
        "            print(\"i=\", i)\n",
        "            for j in range(i+1, len(nums)-2):\n",
        "                print(\"j=\", j)\n",
        "                TARGET = target-NUMS[i]-NUMS[j]\n",
        "                ptr1 = j+1  # the num right after the second num in quadruplet\n",
        "                ptr2 = len(nums)-1  # the last num in nums\n",
        "                while ptr1 < ptr2:\n",
        "                    print(\"ptr1=\", ptr1, \"ptr2=\", ptr2)\n",
        "                    TWOSUM = NUMS[ptr1]+NUMS[ptr2]\n",
        "                    #if TWOSUM > TARGET or (ptr2<len(nums)-1 and NUMS[ptr2+1]==NUMS[ptr2]):\n",
        "                    if TWOSUM > TARGET:\n",
        "                        ptr2 -= 1\n",
        "                        continue\n",
        "                    #if TWOSUM < TARGET or (ptr1>j+1 and NUMS[ptr1-1]==NUMS[ptr1]):\n",
        "                    if TWOSUM < TARGET:\n",
        "                        ptr1 += 1\n",
        "                        continue\n",
        "                    if TWOSUM == TARGET:\n",
        "                        res += ((NUMS[i],NUMS[j],NUMS[ptr1],NUMS[ptr2]),)\n",
        "                        print(res)\n",
        "                        ptr2 -= 1\n",
        "                        ptr1 += 1\n",
        "                        continue\n",
        "                    \n",
        "        return set(res) # return a set of tuples to eliminate duplicates"
      ]
    },
    {
      "cell_type": "code",
      "source": [
        "Solution().fourSum([2,2,2,2,2], 8)"
      ],
      "metadata": {
        "colab": {
          "base_uri": "https://localhost:8080/"
        },
        "id": "CuHAU3h6YiO2",
        "outputId": "f4f53e15-7a20-42b2-e1f6-88115cc4d488"
      },
      "execution_count": 59,
      "outputs": [
        {
          "output_type": "stream",
          "name": "stdout",
          "text": [
            "i= 0\n",
            "j= 1\n",
            "ptr1= 2 ptr2= 4\n",
            "((2, 2, 2, 2),)\n",
            "j= 2\n",
            "ptr1= 3 ptr2= 4\n",
            "((2, 2, 2, 2), (2, 2, 2, 2))\n",
            "i= 1\n",
            "j= 2\n",
            "ptr1= 3 ptr2= 4\n",
            "((2, 2, 2, 2), (2, 2, 2, 2), (2, 2, 2, 2))\n"
          ]
        },
        {
          "output_type": "execute_result",
          "data": {
            "text/plain": [
              "{(2, 2, 2, 2)}"
            ]
          },
          "metadata": {},
          "execution_count": 59
        }
      ]
    },
    {
      "cell_type": "markdown",
      "source": [
        "Solution2:"
      ],
      "metadata": {
        "id": "yxNt_i_9TlWG"
      }
    },
    {
      "cell_type": "code",
      "source": [
        "-2, -1, 0, 0, 1, 2"
      ],
      "metadata": {
        "id": "ZlVQQDv6TnDc"
      },
      "execution_count": null,
      "outputs": []
    }
  ]
}
