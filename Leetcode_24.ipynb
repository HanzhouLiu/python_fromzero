{
  "nbformat": 4,
  "nbformat_minor": 0,
  "metadata": {
    "colab": {
      "name": "Leetcode #24.ipynb",
      "provenance": [],
      "authorship_tag": "ABX9TyMvap5a+55ZJajF9Mr8fqFw",
      "include_colab_link": true
    },
    "kernelspec": {
      "name": "python3",
      "display_name": "Python 3"
    },
    "language_info": {
      "name": "python"
    }
  },
  "cells": [
    {
      "cell_type": "markdown",
      "metadata": {
        "id": "view-in-github",
        "colab_type": "text"
      },
      "source": [
        "<a href=\"https://colab.research.google.com/github/HanzhouLiu/python_fromzero/blob/main/Leetcode_24.ipynb\" target=\"_parent\"><img src=\"https://colab.research.google.com/assets/colab-badge.svg\" alt=\"Open In Colab\"/></a>"
      ]
    },
    {
      "cell_type": "markdown",
      "source": [
        "Swap Nodes in Pairs\n",
        "\n",
        "Input: head = [1,2,3,4]\n",
        "\n",
        "Output: [2,1,4,3]"
      ],
      "metadata": {
        "id": "0qEyw5BbB64k"
      }
    },
    {
      "cell_type": "markdown",
      "source": [
        "Illustrations:\n",
        "\n",
        "[link text](https://leetcode.com/problems/swap-nodes-in-pairs/discuss/1775033/swapping-nodes-not-just-the-values-visual-explanation-well-explained-*c*)"
      ],
      "metadata": {
        "id": "7AdvfLlZCGC2"
      }
    },
    {
      "cell_type": "code",
      "execution_count": null,
      "metadata": {
        "id": "dV-XwvBhB6By"
      },
      "outputs": [],
      "source": [
        "# Definition for singly-linked list.\n",
        "# class ListNode(object):\n",
        "#     def __init__(self, val=0, next=None):\n",
        "#         self.val = val\n",
        "#         self.next = next\n",
        "class Solution(object):\n",
        "    def swapPairs(self, head):\n",
        "        \"\"\"\n",
        "        :type head: ListNode\n",
        "        :rtype: ListNode\n",
        "        \"\"\"\n",
        "        dummy = ListNode(0, head)\n",
        "        prev, curr = dummy, head\n",
        "        while curr and curr.next:\n",
        "            # update the connections\n",
        "            prev.next = curr.next\n",
        "            curr.next = prev.next.next\n",
        "            prev.next.next = curr\n",
        "            \n",
        "            # update the prev and curr\n",
        "            prev = curr\n",
        "            curr = curr.next\n",
        "        \n",
        "        return dummy.next"
      ]
    }
  ]
}