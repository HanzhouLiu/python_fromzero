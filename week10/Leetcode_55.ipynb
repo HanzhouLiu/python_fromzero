{
  "nbformat": 4,
  "nbformat_minor": 0,
  "metadata": {
    "colab": {
      "name": "Leetcode #55.ipynb",
      "provenance": [],
      "authorship_tag": "ABX9TyMMUOGLH/3a2ubQmrQCLyHZ",
      "include_colab_link": true
    },
    "kernelspec": {
      "name": "python3",
      "display_name": "Python 3"
    },
    "language_info": {
      "name": "python"
    }
  },
  "cells": [
    {
      "cell_type": "markdown",
      "metadata": {
        "id": "view-in-github",
        "colab_type": "text"
      },
      "source": [
        "<a href=\"https://colab.research.google.com/github/HanzhouLiu/python_fromzero/blob/main/Leetcode_55.ipynb\" target=\"_parent\"><img src=\"https://colab.research.google.com/assets/colab-badge.svg\" alt=\"Open In Colab\"/></a>"
      ]
    },
    {
      "cell_type": "markdown",
      "source": [
        "You are given an integer array nums. You are initially positioned at the array's first index, and each element in the array represents your maximum jump length at that position.\n",
        "\n",
        "Return true if you can reach the last index, or false otherwise."
      ],
      "metadata": {
        "id": "nq7houLdUY_r"
      }
    },
    {
      "cell_type": "markdown",
      "source": [
        "Solution 1: O(N) time complexity"
      ],
      "metadata": {
        "id": "3B5rx8nnUfKv"
      }
    },
    {
      "cell_type": "code",
      "execution_count": null,
      "metadata": {
        "id": "m8NVryZhUU1X"
      },
      "outputs": [],
      "source": [
        "class Solution(object):\n",
        "    def canJump(self, nums):\n",
        "        \"\"\"\n",
        "        :type nums: List[int]\n",
        "        :rtype: bool\n",
        "        \"\"\"\n",
        "        \n",
        "        r = len(nums) - 1\n",
        "        for i in range(len(nums) - 1, 0, -1):\n",
        "            if r <= nums[i - 1] + i - 1:\n",
        "                r = i - 1\n",
        "        \n",
        "        return r == 0"
      ]
    }
  ]
}
