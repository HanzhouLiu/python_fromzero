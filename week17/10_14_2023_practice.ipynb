{
  "nbformat": 4,
  "nbformat_minor": 0,
  "metadata": {
    "colab": {
      "provenance": [],
      "collapsed_sections": [],
      "authorship_tag": "ABX9TyOSwGK06OVolDzCkdlLmxpK",
      "include_colab_link": true
    },
    "kernelspec": {
      "name": "python3",
      "display_name": "Python 3"
    },
    "language_info": {
      "name": "python"
    }
  },
  "cells": [
    {
      "cell_type": "markdown",
      "metadata": {
        "id": "view-in-github",
        "colab_type": "text"
      },
      "source": [
        "<a href=\"https://colab.research.google.com/github/HanzhouLiu/python_fromzero/blob/main/10_14_2023_practice.ipynb\" target=\"_parent\"><img src=\"https://colab.research.google.com/assets/colab-badge.svg\" alt=\"Open In Colab\"/></a>"
      ]
    },
    {
      "cell_type": "markdown",
      "source": [
        "1. 给你一组字符串，给你一组index范围，让你找出index范围内有几个字符串是以元音开头元音结尾。\n",
        "    输入：字符串组：['aba', 'c', eou', ffo']，index范围(1-based)：['1-2', '2-4', '4-4',]\n",
        "    返回：[1, 1, 0]"
      ],
      "metadata": {
        "id": "VV3dhjV2hy2Y"
      }
    },
    {
      "cell_type": "code",
      "execution_count": 3,
      "metadata": {
        "id": "51za2R9Bcg-Z"
      },
      "outputs": [],
      "source": [
        "# input: string array arr, index arr idx\n",
        "def findVowels(arr, idx):\n",
        "    # 0, 1, 1, 2, 2\n",
        "    vowels = \"AaEeIiOoUu\"\n",
        "    preSum = [0]\n",
        "    res = []\n",
        "    curSum = 0\n",
        "    for string in arr:\n",
        "        if string[0] in vowels and string[-1] in vowels:\n",
        "            curSum += 1\n",
        "        preSum.append(curSum)\n",
        "    for index in idx:\n",
        "        start, end = index.split(\"-\")\n",
        "        res.append(preSum[int(end)] - preSum[int(start)-1])\n",
        "    print(res)"
      ]
    },
    {
      "cell_type": "code",
      "source": [
        "arr = ['aba', 'c', 'eou', 'ffo', 'aca']\n",
        "idx = ['1-2', '2-4', '4-5',]\n",
        "findVowels(arr, idx)"
      ],
      "metadata": {
        "colab": {
          "base_uri": "https://localhost:8080/"
        },
        "id": "YCfNCXeiheCv",
        "outputId": "d1cd3be1-aa5a-42fe-8efe-fdd4259ecffc"
      },
      "execution_count": 12,
      "outputs": [
        {
          "output_type": "stream",
          "name": "stdout",
          "text": [
            "[1, 1, 1]\n"
          ]
        }
      ]
    },
    {
      "cell_type": "markdown",
      "source": [
        "2. 找出string中第一个unique（只出现一次）的字母的index（1-based)。\n",
        "    输入：'banana'\n",
        "    返回：'1'"
      ],
      "metadata": {
        "id": "G749BCVjiAYv"
      }
    },
    {
      "cell_type": "code",
      "source": [
        "def unique(string):\n",
        "    myhash = {}\n",
        "    for s in string:\n",
        "        if s not in myhash:\n",
        "            myhash[s] = 1\n",
        "        else:\n",
        "            myhash[s] += 1\n",
        "    print(myhash)\n",
        "    for i in range(len(string)):\n",
        "        if myhash[string[i]] == 1:\n",
        "            print(i + 1)\n",
        "            break"
      ],
      "metadata": {
        "id": "KrZt4ajXiQaB"
      },
      "execution_count": 43,
      "outputs": []
    },
    {
      "cell_type": "code",
      "source": [
        "string = 'banana'\n",
        "unique(string)"
      ],
      "metadata": {
        "colab": {
          "base_uri": "https://localhost:8080/"
        },
        "id": "PUzm97C3kVcf",
        "outputId": "05190a4a-8414-4e6f-f64e-2470210b678d"
      },
      "execution_count": 42,
      "outputs": [
        {
          "output_type": "stream",
          "name": "stdout",
          "text": [
            "{'b': 1, 'a': 3, 'n': 2}\n",
            "1\n"
          ]
        }
      ]
    },
    {
      "cell_type": "markdown",
      "source": [
        "3. 给一个distinct数组，找出minimum abs difference的所有pair，并打印出来。\n",
        "EX：{6,2,4,10} (2,4) (4,6)都满足\n",
        "\n",
        "\n",
        "---\n",
        "Leetcode #1200\n",
        "\n"
      ],
      "metadata": {
        "id": "ohgKT7pMnFgU"
      }
    },
    {
      "cell_type": "code",
      "source": [
        "class Solution(object):\n",
        "    def minimumAbsDifference(self, arr):\n",
        "        \"\"\"\n",
        "        :type arr: List[int]\n",
        "        :rtype: List[List[int]]\n",
        "        \"\"\"\n",
        "        res = []\n",
        "        arr.sort()\n",
        "        minDif = arr[1] - arr[0]\n",
        "        for i in range(0, len(arr) - 1):\n",
        "            curDif = arr[i + 1] - arr[i]\n",
        "            if curDif == minDif:\n",
        "                res.append([arr[i], arr[i + 1]])\n",
        "                continue\n",
        "            if curDif > minDif:\n",
        "                continue\n",
        "            minDif = curDif\n",
        "            res = [[arr[i], arr[i + 1]]]\n",
        "        return res"
      ],
      "metadata": {
        "id": "Gu8-yVwmnEcD"
      },
      "execution_count": null,
      "outputs": []
    },
    {
      "cell_type": "markdown",
      "source": [
        "4. 给一个int array，数组中的元素表示歌曲的长度。1 <= array[i] <= 1000。用户可以选出一对歌曲，这一对歌曲的长度之和必须是60的倍数。求这样的歌曲对的个数。\n",
        "思路是hashmap存<歌曲长度%60，出现次数>，歌曲长度%60 == 0 || 30 的情况需要特判一下。"
      ],
      "metadata": {
        "id": "UQS5D2Q3tjm3"
      }
    },
    {
      "cell_type": "code",
      "source": [],
      "metadata": {
        "id": "udB83YKUtrvu"
      },
      "execution_count": null,
      "outputs": []
    }
  ]
}
