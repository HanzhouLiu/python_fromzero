{
  "nbformat": 4,
  "nbformat_minor": 0,
  "metadata": {
    "colab": {
      "provenance": [],
      "authorship_tag": "ABX9TyMLwykRq/QeDkpnX0fAxUZa",
      "include_colab_link": true
    },
    "kernelspec": {
      "name": "python3",
      "display_name": "Python 3"
    },
    "language_info": {
      "name": "python"
    }
  },
  "cells": [
    {
      "cell_type": "markdown",
      "metadata": {
        "id": "view-in-github",
        "colab_type": "text"
      },
      "source": [
        "<a href=\"https://colab.research.google.com/github/HanzhouLiu/python_fromzero/blob/main/63_Unique_Paths_II.ipynb\" target=\"_parent\"><img src=\"https://colab.research.google.com/assets/colab-badge.svg\" alt=\"Open In Colab\"/></a>"
      ]
    },
    {
      "cell_type": "code",
      "execution_count": null,
      "metadata": {
        "id": "iD_o5ERGjQ2F"
      },
      "outputs": [],
      "source": [
        "from functools import lru_cache\n",
        "class Solution(object):\n",
        "    def uniquePathsWithObstacles(self, obstacleGrid):\n",
        "        \"\"\"\n",
        "        :type obstacleGrid: List[List[int]]\n",
        "        :rtype: int\n",
        "        \"\"\"\n",
        "        \n",
        "        m, n = len(obstacleGrid), len(obstacleGrid[0])\n",
        "        @lru_cache(maxsize=None)\n",
        "        def dfs(row, col):\n",
        "            if (row == m - 1) and (col == n - 1):\n",
        "                return 1\n",
        "            if obstacleGrid[row][col]:\n",
        "                return 0\n",
        "            cnt = 0\n",
        "            if (row + 1 < m):\n",
        "                cnt += dfs(row + 1, col)\n",
        "            elif (col + 1 < n):\n",
        "                cnt += dfs(row, col + 1)\n",
        "            return cnt\n",
        "        return dfs(0,0)"
      ]
    },
    {
      "cell_type": "code",
      "source": [
        "table = [[0] * 2 for _ in range(2)]\n",
        "print(table)"
      ],
      "metadata": {
        "colab": {
          "base_uri": "https://localhost:8080/"
        },
        "id": "1N-xNwS4p1yK",
        "outputId": "e837d1bc-110e-4de8-f2c7-fdd8439bde24"
      },
      "execution_count": 3,
      "outputs": [
        {
          "output_type": "stream",
          "name": "stdout",
          "text": [
            "[[0, 0], [0, 0]]\n"
          ]
        }
      ]
    },
    {
      "cell_type": "code",
      "source": [
        "class Solution(object):\n",
        "    def uniquePathsWithObstacles(self, obstacleGrid):\n",
        "        \"\"\"\n",
        "        :type obstacleGrid: List[List[int]]\n",
        "        :rtype: int\n",
        "        \"\"\"\n",
        "        rows, cols = len(obstacleGrid), len(obstacleGrid[0])\n",
        "        table = [[0] * (cols) for _ in range(rows)]\n",
        "        table[0][0] = 1 if obstacleGrid[0][0] == 0 else 0\n",
        "        for row in range(rows):\n",
        "            for col in range(cols):\n",
        "                if obstacleGrid[row][col]:\n",
        "                    table[row][col] = 0\n",
        "                else:\n",
        "                    if row - 1 >= 0:\n",
        "                        table[row][col] += table[row - 1][col]\n",
        "                    if col - 1 >= 0:\n",
        "                        table[row][col] += table[row][col - 1]\n",
        "        return table[-1][-1]"
      ],
      "metadata": {
        "id": "jWoUUTvmwpcD"
      },
      "execution_count": null,
      "outputs": []
    }
  ]
}
