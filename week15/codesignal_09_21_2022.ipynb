{
  "nbformat": 4,
  "nbformat_minor": 0,
  "metadata": {
    "colab": {
      "provenance": [],
      "collapsed_sections": [],
      "authorship_tag": "ABX9TyPu0W9f2dt6bJ80cyh8Gh9b",
      "include_colab_link": true
    },
    "kernelspec": {
      "name": "python3",
      "display_name": "Python 3"
    },
    "language_info": {
      "name": "python"
    }
  },
  "cells": [
    {
      "cell_type": "markdown",
      "metadata": {
        "id": "view-in-github",
        "colab_type": "text"
      },
      "source": [
        "<a href=\"https://colab.research.google.com/github/HanzhouLiu/python_fromzero/blob/main/codesignal_09_21_2022.ipynb\" target=\"_parent\"><img src=\"https://colab.research.google.com/assets/colab-badge.svg\" alt=\"Open In Colab\"/></a>"
      ]
    },
    {
      "cell_type": "markdown",
      "source": [
        "# Count the pairs in an array with distinct integers that sums up to a perfect square.\n",
        "\n",
        "\n",
        "---\n",
        "\n",
        "\n",
        "To run it within an accepted time limitation, hashmap is used.\n"
      ],
      "metadata": {
        "id": "W0zRY_DIEzUJ"
      }
    },
    {
      "cell_type": "code",
      "execution_count": null,
      "metadata": {
        "id": "tgcKUaBc_1Pn"
      },
      "outputs": [],
      "source": [
        "def solution(numbers):\n",
        "  count = 0\n",
        "  table = [i**2 for i in range(40001)]\n",
        "  hashMap = {}\n",
        "  for n in table:\n",
        "    for i in range(len(numbers)):\n",
        "      if n - numbers[i] in numbers:\n",
        "        if n not in hashMap:  \n",
        "          hashMap[n] = [numbers[i], n - numbers[i]]\n",
        "          count += 1\n",
        "        if n in hashMap and numbers[i] not in hashMap[n]:  \n",
        "          hashMap[n].append(numbers[i])\n",
        "          count += 1\n",
        "  print(count)"
      ]
    },
    {
      "cell_type": "code",
      "source": [
        "\n",
        "solution([-1, 0, 1])"
      ],
      "metadata": {
        "colab": {
          "base_uri": "https://localhost:8080/"
        },
        "id": "XPyIi1f8AqkN",
        "outputId": "a14a0c87-d328-48d5-e2a3-a544213f2821"
      },
      "execution_count": null,
      "outputs": [
        {
          "output_type": "execute_result",
          "data": {
            "text/plain": [
              "3"
            ]
          },
          "metadata": {},
          "execution_count": 4
        }
      ]
    },
    {
      "cell_type": "markdown",
      "source": [
        "Optimized solution:\n",
        "\n",
        "The ref table is size controllable. Also, a smarter method to avoid duplicates was implemented."
      ],
      "metadata": {
        "id": "rm2sH0_tAqW5"
      }
    },
    {
      "cell_type": "code",
      "source": [
        "def solution(nums):\n",
        "    n = 0\n",
        "    table = []\n",
        "    # table = [_ ** 2 for _ in range(4001)]\n",
        "    # create an input-control table\n",
        "    while n <= 2 * max(nums):\n",
        "        table.append(n ** 2)\n",
        "        n += 1\n",
        "\n",
        "    count = 0\n",
        "    myHash = {}\n",
        "    for s in table:\n",
        "        myHash[s] = []\n",
        "        for n in nums:\n",
        "            tmp = s - n\n",
        "            # because the integers in nums are distinct\n",
        "            if tmp >= n and tmp in nums:\n",
        "                count += 1\n",
        "    return count"
      ],
      "metadata": {
        "id": "4xeNwuRCZ_9a"
      },
      "execution_count": null,
      "outputs": []
    },
    {
      "cell_type": "markdown",
      "source": [
        "# Minesweeper (Not solved yet)\n",
        "\n",
        "\n",
        "\n",
        "---\n",
        "You are given a boolean matrix field representing the distribution of bombs in the rectangular field. You are also given integers x and y, representing the coordinates of the player's first clicked cell - x represents the row index, and y represents the column index, both of which are 0-based. Your task is to return an integer matrix of the same dimensions as field, representing the resulting field after applying this click. If a cell remains concealed, the corresponding element should have a value of -1."
      ],
      "metadata": {
        "id": "dhAgoeHoA8es"
      }
    },
    {
      "cell_type": "code",
      "source": [
        "a, b = True, True\n",
        "#print(a == not b)\n",
        "print(not(a == b))\n",
        "print(a == (not b))\n",
        "print(not a == b)"
      ],
      "metadata": {
        "colab": {
          "base_uri": "https://localhost:8080/"
        },
        "id": "xjsVj4wxFqCP",
        "outputId": "36c194f3-0099-4bba-972d-7adc3a146f4d"
      },
      "execution_count": null,
      "outputs": [
        {
          "output_type": "stream",
          "name": "stdout",
          "text": [
            "False\n",
            "False\n",
            "False\n"
          ]
        }
      ]
    },
    {
      "cell_type": "code",
      "source": [
        "def solution(field, x, y):\n",
        "    \"\"\"\n",
        "    field:\n",
        "    # # # ... #\n",
        "    # # # ... #\n",
        "    # # # ... #\n",
        "    . . . ... .\n",
        "    # # # ... #\n",
        "    \"\"\"\n",
        "    res = [[-1 for _ in range(len(field[0]))] for _ in range(len(field))]\n",
        "    \n",
        "    def getNebors(X, Y):\n",
        "        if field[X][Y] == False:  res"
      ],
      "metadata": {
        "id": "U0EEppGeGKS3"
      },
      "execution_count": null,
      "outputs": []
    },
    {
      "cell_type": "markdown",
      "source": [
        "# Leetcode #529 Minesweeper"
      ],
      "metadata": {
        "id": "KSJyarW5QgL4"
      }
    },
    {
      "cell_type": "code",
      "source": [],
      "metadata": {
        "id": "hqmJ2NiNRFS-"
      },
      "execution_count": null,
      "outputs": []
    },
    {
      "cell_type": "markdown",
      "source": [
        "# Find the number of pairs such that s < t (lexicographically)\n",
        "\n",
        "\n",
        "---\n",
        "Given two string, s and t.\n",
        "both consisting of lowercase letters and digits.\n",
        "now we want to make s lexicographically smaller than t.\n",
        "rules: remove only one digit from s or t.\n",
        "now return how many ways can we do this.\n",
        "\n",
        "Pay attention: digits are smaller than letter in lexicographically way.\n",
        "————————————————\n",
        "版权声明：本文为CSDN博主「Tech In Pieces」的原创文章，遵循CC 4.0 BY-SA版权协议，转载请附上原文出处链接及本声明。\n",
        "原文链接：https://blog.csdn.net/weixin_44337445/article/details/108841465\n"
      ],
      "metadata": {
        "id": "UnXwRHSCufy0"
      }
    },
    {
      "cell_type": "code",
      "source": [
        "def solution(s, t):\n",
        "    count = 0\n",
        "    for i in range(len(s)):\n",
        "        if s[i].isdigit():  # in python, isdigit function to check if it's digit or not\n",
        "            ss = s[:i] + s[i+1:]\n",
        "            if ss < t:  count += 1\n",
        "    for j in range(len(t)):\n",
        "        if t[j].isdigit():\n",
        "            tt = t[:j] + t[j+1:]\n",
        "            if s < tt:  count += 1\n",
        "    print(\"count = \", count)"
      ],
      "metadata": {
        "id": "C9wxcoPm0Hsa"
      },
      "execution_count": 1,
      "outputs": []
    }
  ]
}
