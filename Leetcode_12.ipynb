{
  "nbformat": 4,
  "nbformat_minor": 0,
  "metadata": {
    "colab": {
      "name": "Leetcode #12.ipynb",
      "provenance": [],
      "authorship_tag": "ABX9TyNQWz6nYc9551oVf2Stdu6b",
      "include_colab_link": true
    },
    "kernelspec": {
      "name": "python3",
      "display_name": "Python 3"
    },
    "language_info": {
      "name": "python"
    }
  },
  "cells": [
    {
      "cell_type": "markdown",
      "metadata": {
        "id": "view-in-github",
        "colab_type": "text"
      },
      "source": [
        "<a href=\"https://colab.research.google.com/github/HanzhouLiu/python_fromzero/blob/main/Leetcode_12.ipynb\" target=\"_parent\"><img src=\"https://colab.research.google.com/assets/colab-badge.svg\" alt=\"Open In Colab\"/></a>"
      ]
    },
    {
      "cell_type": "markdown",
      "source": [
        "https://dev.to/seanpgallivan/solution-integer-to-roman-1n3o"
      ],
      "metadata": {
        "id": "DnyKhviQm1Yt"
      }
    },
    {
      "cell_type": "code",
      "source": [
        "class Solution(object):\n",
        "    def intToRoman(self, num):\n",
        "        \"\"\"\n",
        "        :type num: int\n",
        "        :rtype: str\n",
        "        \"\"\"\n",
        "        val = [1000,900,500,400,100,90,50,40,10,9,5,4,1]\n",
        "        rom = [\"M\",\"CM\",\"D\",\"CD\",\"C\",\"XC\",\"L\",\"XL\",\"X\",\"IX\",\"V\",\"IV\",\"I\"]\n",
        "        ans = \"\"\n",
        "        for i in range(13):\n",
        "            while num >= val[i]:\n",
        "                ans += rom[i]\n",
        "                num -= val[i]\n",
        "        return ans"
      ],
      "metadata": {
        "id": "Lp7awQyAm2pm"
      },
      "execution_count": null,
      "outputs": []
    }
  ]
}