{
  "nbformat": 4,
  "nbformat_minor": 0,
  "metadata": {
    "colab": {
      "provenance": [],
      "collapsed_sections": [],
      "authorship_tag": "ABX9TyOX6NPuI44Me+KDPkPBVl5Y",
      "include_colab_link": true
    },
    "kernelspec": {
      "name": "python3",
      "display_name": "Python 3"
    },
    "language_info": {
      "name": "python"
    }
  },
  "cells": [
    {
      "cell_type": "markdown",
      "metadata": {
        "id": "view-in-github",
        "colab_type": "text"
      },
      "source": [
        "<a href=\"https://colab.research.google.com/github/HanzhouLiu/python_fromzero/blob/main/Leetcode_300.ipynb\" target=\"_parent\"><img src=\"https://colab.research.google.com/assets/colab-badge.svg\" alt=\"Open In Colab\"/></a>"
      ]
    },
    {
      "cell_type": "markdown",
      "source": [
        "# 300. Longest Increasing Subsequence\n",
        "\n",
        "\n",
        "\n",
        "\n",
        "```\n",
        "Input: nums = [10,9,2,5,3,7,101,18]\n",
        "Output: 4\n",
        "Explanation: The longest increasing subsequence is [2,3,7,101], therefore the length is 4.\n",
        "```\n",
        "\n",
        "\n",
        "---\n",
        "This is a classic problem. \n",
        "\n",
        "\n",
        "---\n",
        "\n",
        "Solution 1: Patience Sorting\n",
        "\n",
        "Time complexity: O(n^2)\n",
        "\n",
        "\n",
        "\n",
        "\n"
      ],
      "metadata": {
        "id": "Lxlodq4SHxaM"
      }
    },
    {
      "cell_type": "code",
      "execution_count": null,
      "metadata": {
        "id": "vEtQDQ9pHtpB"
      },
      "outputs": [],
      "source": [
        "class Solution(object):\n",
        "    def lengthOfLIS(self, nums):\n",
        "        \"\"\"\n",
        "        :type nums: List[int]\n",
        "        :rtype: int\n",
        "        \"\"\"\n",
        "        myList = []\n",
        "        for n in nums:\n",
        "            if myList == []:  \n",
        "                myList.append(n)\n",
        "                continue\n",
        "            if n > myList[-1]:\n",
        "                myList.append(n)\n",
        "            if n <= myList[-1]:\n",
        "                for i in range(len(myList)):\n",
        "                    if n <= myList[i]:\n",
        "                        myList[i] = n\n",
        "                        break\n",
        "        return len(myList)"
      ]
    },
    {
      "cell_type": "markdown",
      "source": [
        "Solution 2: Optimized Patience Sorting\n",
        "\n",
        "Time complexity: O(nlogn)\n",
        "\n",
        "The running time is much less mainly because binary search is implemented to get the point where to update the smallest element in that pile."
      ],
      "metadata": {
        "id": "FH8xUJd3IKa7"
      }
    },
    {
      "cell_type": "code",
      "source": [
        "class Solution(object):\n",
        "    def lengthOfLIS(self, nums):\n",
        "        \"\"\"\n",
        "        :type nums: List[int]\n",
        "        :rtype: int\n",
        "        \"\"\"\n",
        "        myList = []\n",
        "        for n in nums:\n",
        "            if myList == []:  \n",
        "                myList.append(n)\n",
        "                continue\n",
        "            if n > myList[-1]:\n",
        "                myList.append(n)\n",
        "            # binary search\n",
        "            if n <= myList[-1]:\n",
        "                l, r = 0, len(myList) - 1\n",
        "                while l < r:\n",
        "                    m = (l + r) // 2\n",
        "                    if n <= myList[m]:  r = m\n",
        "                    if n > myList[m]: l = m + 1 \n",
        "                myList[l] = n\n",
        "        return len(myList)"
      ],
      "metadata": {
        "id": "JJSiiOr0IR0Q"
      },
      "execution_count": null,
      "outputs": []
    },
    {
      "cell_type": "code",
      "source": [
        "# check if the binary search part works or not\n",
        "myList = [2, 3, 4, 5, 6]\n",
        "l, r = 0, len(myList) - 1\n",
        "n = 1\n",
        "while l < r:\n",
        "    m = (l + r) // 2\n",
        "    if n <= myList[m]:  r = m\n",
        "    if n > myList[m]: l = m + 1 \n",
        "myList[l] = n\n",
        "print(myList)"
      ],
      "metadata": {
        "colab": {
          "base_uri": "https://localhost:8080/"
        },
        "id": "E5QcIRNMLmAi",
        "outputId": "45aaa24b-5bd8-46ed-f836-97120f885517"
      },
      "execution_count": 13,
      "outputs": [
        {
          "output_type": "stream",
          "name": "stdout",
          "text": [
            "[1, 3, 4, 5, 6]\n"
          ]
        }
      ]
    },
    {
      "cell_type": "markdown",
      "source": [
        "Solution3: Dynamic Programming\n",
        "\n",
        "Time complexity: O(n^2)\n",
        "\n",
        "\n",
        "\n",
        "---\n",
        "\n",
        "In each iteration, take the max value from 1 and 1 + LIS..."
      ],
      "metadata": {
        "id": "UOrdDCFPRaOi"
      }
    },
    {
      "cell_type": "code",
      "source": [
        "myList = [0, 1, 2]\n",
        "LIS = [1] * len(myList)\n",
        "for i in range(len(myList) - 1, -1, -1):\n",
        "    # print(myList[i])\n",
        "    for j in range(i, len(myList)):\n",
        "        # print(myList[i], j)\n",
        "        if myList[i] < myList[j]:\n",
        "            LIS[i] = max(LIS[i], 1 + LIS[j])\n",
        "print(max(LIS))"
      ],
      "metadata": {
        "colab": {
          "base_uri": "https://localhost:8080/"
        },
        "id": "DKafBI66RhBS",
        "outputId": "934d17a0-0ca9-4d28-9f39-639a88c183dc"
      },
      "execution_count": 34,
      "outputs": [
        {
          "output_type": "stream",
          "name": "stdout",
          "text": [
            "3\n"
          ]
        }
      ]
    }
  ]
}