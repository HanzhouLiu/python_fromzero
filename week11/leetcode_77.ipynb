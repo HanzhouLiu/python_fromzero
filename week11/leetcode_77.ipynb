{
  "nbformat": 4,
  "nbformat_minor": 0,
  "metadata": {
    "colab": {
      "name": "leetcode #77.ipynb",
      "provenance": [],
      "authorship_tag": "ABX9TyNNxXY53W5OLkg4olUvfduv",
      "include_colab_link": true
    },
    "kernelspec": {
      "name": "python3",
      "display_name": "Python 3"
    },
    "language_info": {
      "name": "python"
    }
  },
  "cells": [
    {
      "cell_type": "markdown",
      "metadata": {
        "id": "view-in-github",
        "colab_type": "text"
      },
      "source": [
        "<a href=\"https://colab.research.google.com/github/HanzhouLiu/python_fromzero/blob/main/leetcode_77.ipynb\" target=\"_parent\"><img src=\"https://colab.research.google.com/assets/colab-badge.svg\" alt=\"Open In Colab\"/></a>"
      ]
    },
    {
      "cell_type": "markdown",
      "source": [
        "# 77. Combinations\n",
        "Given two integers n and k, return all possible combinations of k numbers chosen from the range [1, n].\n",
        "\n",
        "You may return the answer in any order."
      ],
      "metadata": {
        "id": "k8rV40udsS37"
      }
    },
    {
      "cell_type": "code",
      "execution_count": null,
      "metadata": {
        "id": "ZnWvvDWrsSQz"
      },
      "outputs": [],
      "source": [
        "class Solution(object):\n",
        "    def combine(self, n, k):\n",
        "        \"\"\"\n",
        "        :type n: int\n",
        "        :type k: int\n",
        "        :rtype: List[List[int]]\n",
        "        \"\"\"\n",
        "        res = []\n",
        "        def backtrack(start, cur):\n",
        "            # base case\n",
        "            if len(cur) == k:\n",
        "                res.append(cur[:])\n",
        "                return\n",
        "            for i in range(start, n + 1):\n",
        "                cur.append(i)\n",
        "                backtrack(i + 1, cur)\n",
        "                cur.pop()\n",
        "        backtrack(1, [])\n",
        "        return res"
      ]
    }
  ]
}
