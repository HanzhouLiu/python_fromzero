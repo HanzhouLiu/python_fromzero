{
  "nbformat": 4,
  "nbformat_minor": 0,
  "metadata": {
    "colab": {
      "name": "Leetcode #13.ipynb",
      "provenance": [],
      "authorship_tag": "ABX9TyPE8U+UmdIJPaZbJmEsPZHK",
      "include_colab_link": true
    },
    "kernelspec": {
      "name": "python3",
      "display_name": "Python 3"
    },
    "language_info": {
      "name": "python"
    }
  },
  "cells": [
    {
      "cell_type": "markdown",
      "metadata": {
        "id": "view-in-github",
        "colab_type": "text"
      },
      "source": [
        "<a href=\"https://colab.research.google.com/github/HanzhouLiu/python_fromzero/blob/main/Leetcode_13.ipynb\" target=\"_parent\"><img src=\"https://colab.research.google.com/assets/colab-badge.svg\" alt=\"Open In Colab\"/></a>"
      ]
    },
    {
      "cell_type": "markdown",
      "source": [
        "Roman numerals to integers."
      ],
      "metadata": {
        "id": "_41v84Nu_gEK"
      }
    },
    {
      "cell_type": "markdown",
      "source": [
        "Sol 1: not working for \"III\""
      ],
      "metadata": {
        "id": "YusvHVpxHSfx"
      }
    },
    {
      "cell_type": "code",
      "execution_count": 21,
      "metadata": {
        "id": "y9IeMEoE_cSX"
      },
      "outputs": [],
      "source": [
        "class Solution(object):\n",
        "    def romanToInt(self, s):\n",
        "        \"\"\"\n",
        "        :type s: str\n",
        "        :rtype: int\n",
        "        \"\"\"\n",
        "        val = [1000,900,500,400,100,90,50,40,10,9,5,4,1]\n",
        "        rom = [\"M\",\"CM\",\"D\",\"CD\",\"C\",\"XC\",\"L\",\"XL\",\"X\",\"IX\",\"V\",\"IV\",\"I\"]\n",
        "\n",
        "        ans = 0\n",
        "        j = 0\n",
        "        length = len(s)\n",
        "\n",
        "        for i in range(13):\n",
        "            print(i)\n",
        "            print(ans)\n",
        "            if i%2 == 0 and j <= length-1 and s[j] == rom[i]:\n",
        "                ans += val[i]\n",
        "                j += 1\n",
        "            if i%2 == 1 and j <= length-1 and s[j]+s[j+1] == rom[i]:\n",
        "                ans += val[i]\n",
        "                j += 2\n",
        "        print(ans)"
      ]
    },
    {
      "cell_type": "code",
      "source": [
        "Solution().romanToInt(\"MCMXCIV\")"
      ],
      "metadata": {
        "colab": {
          "base_uri": "https://localhost:8080/"
        },
        "id": "4GuJ6t2MET8n",
        "outputId": "01ee3c01-06ab-4309-863a-a559f775bae8"
      },
      "execution_count": 14,
      "outputs": [
        {
          "output_type": "stream",
          "name": "stdout",
          "text": [
            "0\n",
            "0\n",
            "1\n",
            "1000\n",
            "2\n",
            "1900\n",
            "3\n",
            "1900\n",
            "4\n",
            "1900\n",
            "5\n",
            "1900\n",
            "6\n",
            "1990\n",
            "7\n",
            "1990\n",
            "8\n",
            "1990\n",
            "9\n",
            "1990\n",
            "10\n",
            "1990\n",
            "11\n",
            "1990\n",
            "12\n",
            "1994\n",
            "1994\n"
          ]
        }
      ]
    },
    {
      "cell_type": "markdown",
      "source": [
        "Sol 2: good solution. decrementing the length of string."
      ],
      "metadata": {
        "id": "gcN39UArHXy8"
      }
    },
    {
      "cell_type": "code",
      "source": [
        "class Solution(object):\n",
        "    def romanToInt(self, s):\n",
        "        \"\"\"\n",
        "        :type s: str\n",
        "        :rtype: int\n",
        "        \"\"\"\n",
        "        val = [1000,900,500,400,100,90,50,40,10,9,5,4,1]\n",
        "        rom = [\"M\",\"CM\",\"D\",\"CD\",\"C\",\"XC\",\"L\",\"XL\",\"X\",\"IX\",\"V\",\"IV\",\"I\"]\n",
        "        rom2 = [\"CM\", \"CD\", \"XC\", \"XL\", \"IX\", \"IV\"]\n",
        "        ans = 0\n",
        "        \n",
        "        while len(s) > 0:\n",
        "            if len(s) >= 2 and (s[0:2] in rom2):\n",
        "                idx = rom2.index(s[0:2])\n",
        "                ans += val[2*idx+1]\n",
        "                s = s.replace(s[0:2], \"\", 1)\n",
        "                continue\n",
        "            else:\n",
        "                idx = rom.index(s[0])\n",
        "                ans += val[idx]\n",
        "                s = s.replace(s[0], \"\", 1)\n",
        "        return ans"
      ],
      "metadata": {
        "id": "idlhwUQAHPjw"
      },
      "execution_count": 36,
      "outputs": []
    },
    {
      "cell_type": "code",
      "source": [
        "Solution().romanToInt(\"MCMXCIV\")"
      ],
      "metadata": {
        "colab": {
          "base_uri": "https://localhost:8080/"
        },
        "id": "cH-VSbY8Zk0C",
        "outputId": "2de1c9e3-3707-4f9b-b926-61e876f4218b"
      },
      "execution_count": 37,
      "outputs": [
        {
          "output_type": "stream",
          "name": "stdout",
          "text": [
            "MC\n",
            "CM\n",
            "0\n",
            "XC\n",
            "2\n",
            "IV\n",
            "5\n"
          ]
        },
        {
          "output_type": "execute_result",
          "data": {
            "text/plain": [
              "1994"
            ]
          },
          "metadata": {},
          "execution_count": 37
        }
      ]
    }
  ]
}