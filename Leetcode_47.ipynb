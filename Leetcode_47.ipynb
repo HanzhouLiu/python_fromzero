{
  "nbformat": 4,
  "nbformat_minor": 0,
  "metadata": {
    "colab": {
      "name": "Leetcode #47.ipynb",
      "provenance": [],
      "authorship_tag": "ABX9TyNUvhG7Oju+dnCZXKqajwti",
      "include_colab_link": true
    },
    "kernelspec": {
      "name": "python3",
      "display_name": "Python 3"
    },
    "language_info": {
      "name": "python"
    }
  },
  "cells": [
    {
      "cell_type": "markdown",
      "metadata": {
        "id": "view-in-github",
        "colab_type": "text"
      },
      "source": [
        "<a href=\"https://colab.research.google.com/github/HanzhouLiu/python_fromzero/blob/main/Leetcode_47.ipynb\" target=\"_parent\"><img src=\"https://colab.research.google.com/assets/colab-badge.svg\" alt=\"Open In Colab\"/></a>"
      ]
    },
    {
      "cell_type": "markdown",
      "source": [
        "Permutations II\n",
        "\n",
        "[Ref Link](https://www.youtube.com/watch?v=qhBVWf0YafA)"
      ],
      "metadata": {
        "id": "T3LyPsUYcvqW"
      }
    },
    {
      "cell_type": "code",
      "execution_count": null,
      "metadata": {
        "id": "JV0YVgx7cm74"
      },
      "outputs": [],
      "source": [
        "class Solution(object):\n",
        "    def permuteUnique(self, nums):\n",
        "        \"\"\"\n",
        "        :type nums: List[int]\n",
        "        :rtype: List[List[int]]\n",
        "        \"\"\"\n",
        "        res = []\n",
        "        perm = []\n",
        "        count = { n:0 for n in nums }\n",
        "        for n in nums:\n",
        "            count[n] += 1\n",
        "            \n",
        "        def dfs():\n",
        "            if len(perm) == len(nums):\n",
        "                res.append(perm[:])\n",
        "                return\n",
        "            \n",
        "            for n in count:\n",
        "                if count[n] > 0:\n",
        "                    perm.append(n)\n",
        "                    count[n] -= 1\n",
        "                    \n",
        "                    dfs()\n",
        "                    \n",
        "                    count[n] += 1\n",
        "                    perm.pop()\n",
        "            \n",
        "        dfs()\n",
        "        return res"
      ]
    }
  ]
}