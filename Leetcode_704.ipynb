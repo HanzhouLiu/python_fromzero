{
  "nbformat": 4,
  "nbformat_minor": 0,
  "metadata": {
    "colab": {
      "provenance": [],
      "authorship_tag": "ABX9TyMgg4JEthLdKxUebX8NLLV/",
      "include_colab_link": true
    },
    "kernelspec": {
      "name": "python3",
      "display_name": "Python 3"
    },
    "language_info": {
      "name": "python"
    }
  },
  "cells": [
    {
      "cell_type": "markdown",
      "metadata": {
        "id": "view-in-github",
        "colab_type": "text"
      },
      "source": [
        "<a href=\"https://colab.research.google.com/github/HanzhouLiu/python_fromzero/blob/main/Leetcode_704.ipynb\" target=\"_parent\"><img src=\"https://colab.research.google.com/assets/colab-badge.svg\" alt=\"Open In Colab\"/></a>"
      ]
    },
    {
      "cell_type": "markdown",
      "source": [
        "# 704. Binary Search\n",
        "\n",
        "Given an array of integers nums which is sorted in ascending order, and an integer target, write a function to search target in nums. If target exists, then return its index. Otherwise, return -1.\n",
        "\n",
        "You must write an algorithm with O(log n) runtime complexity.\n",
        "\n",
        "\n",
        "---\n",
        "\n",
        "The only tricky part is that if no such index exists, -1 should be returned."
      ],
      "metadata": {
        "id": "2SmuqLlW1W6Q"
      }
    },
    {
      "cell_type": "code",
      "execution_count": null,
      "metadata": {
        "id": "qWZE392E1Cap"
      },
      "outputs": [],
      "source": [
        "class Solution(object):\n",
        "    def search(self, nums, target):\n",
        "        \"\"\"\n",
        "        :type nums: List[int]\n",
        "        :type target: int\n",
        "        :rtype: int\n",
        "        \"\"\"\n",
        "        # three pointers\n",
        "        # l, m, r\n",
        "        l, r = 0, len(nums) - 1\n",
        "        \n",
        "        while l <=r:\n",
        "            m = (l + r) / 2 \n",
        "            if nums[m] == target: return m\n",
        "            if nums[m] < target: l = m + 1\n",
        "            if nums[m] > target: r = m - 1\n",
        "        \n",
        "        return -1"
      ]
    }
  ]
}