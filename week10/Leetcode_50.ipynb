{
  "nbformat": 4,
  "nbformat_minor": 0,
  "metadata": {
    "colab": {
      "name": "Leetcode #50.ipynb",
      "provenance": [],
      "authorship_tag": "ABX9TyM64L8eMZ2zxahvYjnFHysy",
      "include_colab_link": true
    },
    "kernelspec": {
      "name": "python3",
      "display_name": "Python 3"
    },
    "language_info": {
      "name": "python"
    }
  },
  "cells": [
    {
      "cell_type": "markdown",
      "metadata": {
        "id": "view-in-github",
        "colab_type": "text"
      },
      "source": [
        "<a href=\"https://colab.research.google.com/github/HanzhouLiu/python_fromzero/blob/main/Leetcode_50.ipynb\" target=\"_parent\"><img src=\"https://colab.research.google.com/assets/colab-badge.svg\" alt=\"Open In Colab\"/></a>"
      ]
    },
    {
      "cell_type": "markdown",
      "source": [
        "Calculate Pow(x, n).\n",
        "\n",
        "Time complexity must be O(log_n)"
      ],
      "metadata": {
        "id": "wotsgY8WGBmg"
      }
    },
    {
      "cell_type": "code",
      "execution_count": null,
      "metadata": {
        "id": "OIpwA6njF9Fz"
      },
      "outputs": [],
      "source": [
        "class Solution(object):\n",
        "    def myPow(self, x, n):\n",
        "        \"\"\"\n",
        "        :type x: float\n",
        "        :type n: int\n",
        "        :rtype: float\n",
        "        \"\"\"\n",
        "        def helper(x, n):\n",
        "            if n == 0:\n",
        "                return 1\n",
        "            if x == 0:\n",
        "                return 0\n",
        "            \n",
        "            res = helper(x, n // 2)\n",
        "            res = res * res\n",
        "            \n",
        "            return res * x if n % 2 else res\n",
        "        \n",
        "        if n > 0:\n",
        "            return helper(x, n)\n",
        "        else:\n",
        "            return 1 / helper(x, -n)"
      ]
    }
  ]
}
