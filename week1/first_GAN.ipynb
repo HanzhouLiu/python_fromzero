{
  "nbformat": 4,
  "nbformat_minor": 0,
  "metadata": {
    "colab": {
      "name": "first_GAN.ipynb",
      "provenance": [],
      "authorship_tag": "ABX9TyMUbhVipxahRSzILhp2N+gF",
      "include_colab_link": true
    },
    "kernelspec": {
      "name": "python3",
      "display_name": "Python 3"
    },
    "language_info": {
      "name": "python"
    },
    "accelerator": "GPU"
  },
  "cells": [
    {
      "cell_type": "markdown",
      "metadata": {
        "id": "view-in-github",
        "colab_type": "text"
      },
      "source": [
        "<a href=\"https://colab.research.google.com/github/HanzhouLiu/python_fromzero/blob/main/first_GAN.ipynb\" target=\"_parent\"><img src=\"https://colab.research.google.com/assets/colab-badge.svg\" alt=\"Open In Colab\"/></a>"
      ]
    },
    {
      "cell_type": "code",
      "metadata": {
        "id": "tXo98mjbimib"
      },
      "source": [
        "import torch\n",
        "import torch.nn as nn\n",
        "import torch.optim as optim\n",
        "import torchvision\n",
        "import torchvision.datasets as datasets\n",
        "from torch.utils.data import DataLoader\n",
        "import torchvision.transforms as transforms\n",
        "from torch.utils.tensorboard import SummaryWriter"
      ],
      "execution_count": 18,
      "outputs": []
    },
    {
      "cell_type": "code",
      "metadata": {
        "colab": {
          "base_uri": "https://localhost:8080/"
        },
        "id": "BY7PUL_4jUS_",
        "outputId": "85908373-c228-4365-af52-631dfd3d487d"
      },
      "source": [
        "import torchvision.transforms as transforms\n",
        "class Discriminator(nn.Module):\n",
        "  def __init__(self, in_features):\n",
        "    super().__init__() # super.() lets you access methods in a parent class\n",
        "    self.disc = nn.Sequential(\n",
        "        nn.Linear(in_features, 128),\n",
        "        nn.LeakyReLU(0.1),\n",
        "        nn.Sigmoid(),\n",
        "    )\n",
        "\n",
        "  def forward(self, x):\n",
        "    return self.disc(x)\n",
        "\n",
        "class Generator(nn.Module):\n",
        "  def __init__(self, z_dim, img_dim):\n",
        "    super().__init__()\n",
        "    self.gen = nn.Sequential(\n",
        "        nn.Linear(z_dim, 256),\n",
        "        nn.LeakyReLU(0.1),\n",
        "        nn.Linear(256, img_dim),\n",
        "        nn.Tanh(),\n",
        "    )\n",
        "\n",
        "  def forward(self, x):\n",
        "    return self.gen(x)\n",
        "\n",
        "device = \"cuda\" if torch.cuda.is_available() else \"cpu\"\n",
        "lr = 3e-4\n",
        "z_dim = 64\n",
        "image_dim = 28*28*1\n",
        "batch_size = 32\n",
        "num_epochs = 50\n",
        "\n",
        "disc = Discriminator(image_dim).to(device)\n",
        "gen = Generator(z_dim, image_dim).to(device)\n",
        "fixed_noise = torch.randn((batch_size, z_dim)).to(device)\n",
        "transforms = transforms.Compose(\n",
        "    [transforms.ToTensor(), transforms.Normalize((0.1307,), (0.3081,))]\n",
        ")\n",
        "dataset = datasets.MNIST(root=\"dataset/\", transform=transforms, download=True)\n",
        "loader = DataLoader(dataset, batch_size=batch_size, shuffle=True)\n",
        "opt_disc = optim.Adam(disc.parameters(), lr=lr)\n",
        "opt_gen = optim.Adam(gen.parameters(), lr=lr)\n",
        "criterion = nn.BCELoss()\n",
        "writer_fake = SummaryWriter(f\"runs/GAN_MNIST/fake\")\n",
        "writer_real = SummaryWriter(f\"runs/GAN_MNIST/real\")\n",
        "step = 0\n",
        "\n",
        "for epoch in range(num_epochs):\n",
        "  for batch_idx, (real, _) in enumerate(loader):\n",
        "    real = real.view(-1, 784).to(device)\n",
        "    batch_size = real.shape[0]\n",
        "\n",
        "    # train discriminator: max_log(D(real)) + log(1-D(G(z)))\n",
        "    noise = torch.randn(batch_size, z_dim).to(device)\n",
        "    fake = gen(noise)\n",
        "    disc_real = disc(real).view(-1)\n",
        "    lossD_real = criterion(disc_real, torch.ones_like(disc_real))\n",
        "    disc_fake = disc(fake).view(-1)\n",
        "    lossD_fake = criterion(disc_fake, torch.zeros_like(disc_fake))\n",
        "    lossD = (lossD_real + lossD_fake) / 2\n",
        "    disc.zero_grad()\n",
        "    lossD.backward(retain_graph=True)\n",
        "    opt_disc.step()\n",
        "\n",
        "    ### Train Generator min log(1 - D(G(Z))) <---> max log(D(G(z)))\n",
        "    output = disc(fake).view(-1)\n",
        "    lossG = criterion(output, torch.ones_like(output))\n",
        "    gen.zero_grad()\n",
        "    lossG.backward()\n",
        "    opt_disc.step()\n",
        "\n",
        "    if batch_idx == 0:\n",
        "      print(\n",
        "          f\"Epoch [{epoch}/{num_epochs}] \\ \"\n",
        "          f\"Loss D: {lossD:.4f}, Loss G: {lossG:.4f}\"\n",
        "      )\n",
        "\n",
        "      with torch.no_grad():\n",
        "        fake = gen(fixed_noise).reshape(-1, 1, 28, 28)\n",
        "        data = real.reshape(-1, 1, 28, 28)\n",
        "        img_grid_fake = torchvision.utils.make_grid(fake, normalize=True)\n",
        "        img_grid_real = torchvision.utils.make_grid(data, normalize=True)\n",
        "\n",
        "        writer_fake.add_image(\n",
        "            \"Mnist Fake Images\", img_grid_fake, global_step=step\n",
        "        )\n",
        "\n",
        "        writer_fake.add_image(\n",
        "            \"Mnist Fake Images\", img_grid_fake, global_step=step\n",
        "        )\n"
      ],
      "execution_count": 25,
      "outputs": [
        {
          "output_type": "stream",
          "name": "stdout",
          "text": [
            "Epoch [0/50] \\ Loss D: 0.6555, Loss G: 0.6723\n",
            "Epoch [1/50] \\ Loss D: 0.3406, Loss G: 0.7054\n",
            "Epoch [2/50] \\ Loss D: 0.3423, Loss G: 0.7018\n",
            "Epoch [3/50] \\ Loss D: 0.3424, Loss G: 0.7016\n",
            "Epoch [4/50] \\ Loss D: 0.3431, Loss G: 0.7005\n",
            "Epoch [5/50] \\ Loss D: 0.3431, Loss G: 0.7003\n",
            "Epoch [6/50] \\ Loss D: 0.3432, Loss G: 0.7000\n",
            "Epoch [7/50] \\ Loss D: 0.3436, Loss G: 0.6991\n",
            "Epoch [8/50] \\ Loss D: 0.3436, Loss G: 0.6992\n",
            "Epoch [9/50] \\ Loss D: 0.3438, Loss G: 0.6989\n",
            "Epoch [10/50] \\ Loss D: 0.3437, Loss G: 0.6990\n",
            "Epoch [11/50] \\ Loss D: 0.3439, Loss G: 0.6986\n",
            "Epoch [12/50] \\ Loss D: 0.3440, Loss G: 0.6985\n",
            "Epoch [13/50] \\ Loss D: 0.3441, Loss G: 0.6982\n",
            "Epoch [14/50] \\ Loss D: 0.3442, Loss G: 0.6981\n",
            "Epoch [15/50] \\ Loss D: 0.3443, Loss G: 0.6978\n",
            "Epoch [16/50] \\ Loss D: 0.3446, Loss G: 0.6973\n",
            "Epoch [17/50] \\ Loss D: 0.3444, Loss G: 0.6976\n",
            "Epoch [18/50] \\ Loss D: 0.3447, Loss G: 0.6970\n",
            "Epoch [19/50] \\ Loss D: 0.3446, Loss G: 0.6973\n",
            "Epoch [20/50] \\ Loss D: 0.3447, Loss G: 0.6969\n",
            "Epoch [21/50] \\ Loss D: 0.3448, Loss G: 0.6968\n",
            "Epoch [22/50] \\ Loss D: 0.3448, Loss G: 0.6968\n",
            "Epoch [23/50] \\ Loss D: 0.3449, Loss G: 0.6967\n",
            "Epoch [24/50] \\ Loss D: 0.3447, Loss G: 0.6969\n",
            "Epoch [25/50] \\ Loss D: 0.3448, Loss G: 0.6968\n",
            "Epoch [26/50] \\ Loss D: 0.3449, Loss G: 0.6965\n",
            "Epoch [27/50] \\ Loss D: 0.3449, Loss G: 0.6965\n",
            "Epoch [28/50] \\ Loss D: 0.3448, Loss G: 0.6969\n",
            "Epoch [29/50] \\ Loss D: 0.3448, Loss G: 0.6967\n",
            "Epoch [30/50] \\ Loss D: 0.3450, Loss G: 0.6963\n",
            "Epoch [31/50] \\ Loss D: 0.3451, Loss G: 0.6962\n",
            "Epoch [32/50] \\ Loss D: 0.3452, Loss G: 0.6961\n",
            "Epoch [33/50] \\ Loss D: 0.3450, Loss G: 0.6963\n",
            "Epoch [34/50] \\ Loss D: 0.3450, Loss G: 0.6964\n",
            "Epoch [35/50] \\ Loss D: 0.3451, Loss G: 0.6962\n",
            "Epoch [36/50] \\ Loss D: 0.3450, Loss G: 0.6964\n",
            "Epoch [37/50] \\ Loss D: 0.3450, Loss G: 0.6963\n",
            "Epoch [38/50] \\ Loss D: 0.3451, Loss G: 0.6961\n",
            "Epoch [39/50] \\ Loss D: 0.3451, Loss G: 0.6962\n",
            "Epoch [40/50] \\ Loss D: 0.3451, Loss G: 0.6962\n",
            "Epoch [41/50] \\ Loss D: 0.3450, Loss G: 0.6963\n",
            "Epoch [42/50] \\ Loss D: 0.3450, Loss G: 0.6964\n",
            "Epoch [43/50] \\ Loss D: 0.3452, Loss G: 0.6960\n",
            "Epoch [44/50] \\ Loss D: 0.3450, Loss G: 0.6963\n",
            "Epoch [45/50] \\ Loss D: 0.3451, Loss G: 0.6961\n",
            "Epoch [46/50] \\ Loss D: 0.3452, Loss G: 0.6960\n",
            "Epoch [47/50] \\ Loss D: 0.3450, Loss G: 0.6963\n",
            "Epoch [48/50] \\ Loss D: 0.3451, Loss G: 0.6961\n",
            "Epoch [49/50] \\ Loss D: 0.3450, Loss G: 0.6964\n"
          ]
        }
      ]
    },
    {
      "cell_type": "code",
      "metadata": {
        "colab": {
          "base_uri": "https://localhost:8080/"
        },
        "id": "4rbsBiw65kOm",
        "outputId": "41b2ddd1-630a-402e-a437-74895fa63332"
      },
      "source": [
        "print(3e-4)"
      ],
      "execution_count": null,
      "outputs": [
        {
          "output_type": "stream",
          "name": "stdout",
          "text": [
            "0.0003\n"
          ]
        }
      ]
    },
    {
      "cell_type": "code",
      "metadata": {
        "id": "hpFGfx5F5be2"
      },
      "source": [
        "class CheckingAccount: # an example of class\n",
        "\tdef __init__(self, name, balance):\n",
        "\t\tself.name = name\n",
        "\t\tself.balance = balance\n",
        "\n",
        "\tdef checkBalance(self):\n",
        "\t\tprint(\"Balance: \", self.balance)"
      ],
      "execution_count": null,
      "outputs": []
    },
    {
      "cell_type": "code",
      "metadata": {
        "colab": {
          "base_uri": "https://localhost:8080/"
        },
        "id": "Xe8A1BUpgdS6",
        "outputId": "01932797-272c-4d78-8ad2-2259fa28d2ef"
      },
      "source": [
        "CheckingAccount('lily', 200).checkBalance() # print the class's attribute"
      ],
      "execution_count": null,
      "outputs": [
        {
          "output_type": "stream",
          "name": "stdout",
          "text": [
            "Balance:  200\n"
          ]
        }
      ]
    },
    {
      "cell_type": "code",
      "metadata": {
        "id": "ROZ7-oJ-r7XD"
      },
      "source": [
        "class ChildAccount(CheckingAccount):\n",
        "\tdef __init__(self, name, balance, is_child=True):\n",
        "\t\tself.is_child = is_child\n",
        "\t\tsuper().__init__(name, balance)\n",
        "\n",
        "\tdef checkBalance(self):\n",
        "\t\tprint(\"You are a child account holder!\")\n",
        "\t\tsuper().checkBalance()"
      ],
      "execution_count": null,
      "outputs": []
    },
    {
      "cell_type": "code",
      "metadata": {
        "colab": {
          "base_uri": "https://localhost:8080/"
        },
        "id": "xCUJ9orXr-wx",
        "outputId": "c7d32026-3c47-40bd-a2c4-0ece80404530"
      },
      "source": [
        "ChildAccount('bob', 100).checkBalance()"
      ],
      "execution_count": null,
      "outputs": [
        {
          "output_type": "stream",
          "name": "stdout",
          "text": [
            "You are a child account holder!\n",
            "Balance:  100\n"
          ]
        }
      ]
    },
    {
      "cell_type": "code",
      "metadata": {
        "id": "DJ97F6tbaUJP"
      },
      "source": [
        "from typing "
      ],
      "execution_count": null,
      "outputs": []
    }
  ]
}
