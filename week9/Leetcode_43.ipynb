{
  "nbformat": 4,
  "nbformat_minor": 0,
  "metadata": {
    "colab": {
      "name": "Leetcode #43.ipynb",
      "provenance": [],
      "authorship_tag": "ABX9TyNvLgFp9Tn9SNWQDxXxgg6r",
      "include_colab_link": true
    },
    "kernelspec": {
      "name": "python3",
      "display_name": "Python 3"
    },
    "language_info": {
      "name": "python"
    }
  },
  "cells": [
    {
      "cell_type": "markdown",
      "metadata": {
        "id": "view-in-github",
        "colab_type": "text"
      },
      "source": [
        "<a href=\"https://colab.research.google.com/github/HanzhouLiu/python_fromzero/blob/main/Leetcode_43.ipynb\" target=\"_parent\"><img src=\"https://colab.research.google.com/assets/colab-badge.svg\" alt=\"Open In Colab\"/></a>"
      ]
    },
    {
      "cell_type": "markdown",
      "source": [
        "Given two non-negative integers num1 and num2 represented as strings, return the product of num1 and num2, also represented as a string.\n",
        "\n",
        "Note: You must not use any built-in BigInteger library or convert the inputs to integer directly."
      ],
      "metadata": {
        "id": "QocoYjT3xlIn"
      }
    },
    {
      "cell_type": "code",
      "execution_count": null,
      "metadata": {
        "id": "v7z40RpXxiIS"
      },
      "outputs": [],
      "source": [
        "class Solution(object):\n",
        "    def multiply(self, num1, num2):\n",
        "        \"\"\"\n",
        "        :type num1: str\n",
        "        :type num2: str\n",
        "        :rtype: str\n",
        "        \"\"\"\n",
        "        if \"0\" in [num1, num2]:\n",
        "            return \"0\"\n",
        "        num1, num2 = num1[::-1], num2[::-1]\n",
        "        res = [0] * (len(num1) + len(num2))\n",
        "        \n",
        "        for i in range(len(num1)):\n",
        "            for j in range(len(num2)):\n",
        "                digit = int(num1[i]) * int(num2[j])\n",
        "                res[i + j] += digit\n",
        "                \n",
        "                res[i + j + 1] += res[i + j] // 10\n",
        "                res[i + j] = res[i + j] % 10\n",
        "        \n",
        "        res, idx = res[::-1], 0\n",
        "        while idx < len(res) and res[idx] == 0:\n",
        "            idx += 1\n",
        "        \n",
        "        res = map(str, res[idx:])\n",
        "        \n",
        "        return \"\".join(res)"
      ]
    }
  ]
}
