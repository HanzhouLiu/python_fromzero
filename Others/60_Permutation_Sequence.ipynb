{
  "nbformat": 4,
  "nbformat_minor": 0,
  "metadata": {
    "colab": {
      "provenance": [],
      "authorship_tag": "ABX9TyNQ+be3G8xF28mhSvhad6pf",
      "include_colab_link": true
    },
    "kernelspec": {
      "name": "python3",
      "display_name": "Python 3"
    },
    "language_info": {
      "name": "python"
    }
  },
  "cells": [
    {
      "cell_type": "markdown",
      "metadata": {
        "id": "view-in-github",
        "colab_type": "text"
      },
      "source": [
        "<a href=\"https://colab.research.google.com/github/HanzhouLiu/python_fromzero/blob/main/60_Permutation_Sequence.ipynb\" target=\"_parent\"><img src=\"https://colab.research.google.com/assets/colab-badge.svg\" alt=\"Open In Colab\"/></a>"
      ]
    },
    {
      "cell_type": "markdown",
      "source": [
        "This is a math problem. Don't use backtrack...\n",
        "\n",
        "Double check the index."
      ],
      "metadata": {
        "id": "Fpnn8z1q6WU0"
      }
    },
    {
      "cell_type": "code",
      "execution_count": null,
      "metadata": {
        "id": "TvK52h366UXm"
      },
      "outputs": [],
      "source": [
        "class Solution(object):\n",
        "    def getPermutation(self, n, k):\n",
        "        \"\"\"\n",
        "        :type n: int\n",
        "        :type k: int\n",
        "        :rtype: str\n",
        "        \"\"\"\n",
        "        nums = list(range(1, n + 1))\n",
        "        res = \"\"\n",
        "        while n != 1:\n",
        "            \n",
        "            # calculate the factorial of n - 1\n",
        "            fact = 1\n",
        "            for i in range(1, n):\n",
        "                fact = fact * i\n",
        "            \n",
        "            q = (k - 1) / fact\n",
        "            k = k % fact\n",
        "            res += str(nums[q])\n",
        "            del nums[q]\n",
        "            n -= 1\n",
        "        \n",
        "        return res + str(nums[0])"
      ]
    }
  ]
}
