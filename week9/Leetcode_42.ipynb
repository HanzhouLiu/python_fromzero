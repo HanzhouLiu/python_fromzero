{
  "nbformat": 4,
  "nbformat_minor": 0,
  "metadata": {
    "colab": {
      "name": "Leetcode #42.ipynb",
      "provenance": [],
      "authorship_tag": "ABX9TyMW1mdQ5nPXqGvsPnxXTu1m",
      "include_colab_link": true
    },
    "kernelspec": {
      "name": "python3",
      "display_name": "Python 3"
    },
    "language_info": {
      "name": "python"
    }
  },
  "cells": [
    {
      "cell_type": "markdown",
      "metadata": {
        "id": "view-in-github",
        "colab_type": "text"
      },
      "source": [
        "<a href=\"https://colab.research.google.com/github/HanzhouLiu/python_fromzero/blob/main/Leetcode_42.ipynb\" target=\"_parent\"><img src=\"https://colab.research.google.com/assets/colab-badge.svg\" alt=\"Open In Colab\"/></a>"
      ]
    },
    {
      "cell_type": "markdown",
      "source": [
        "# Trapping Rain Water\n",
        "Given n non-negative integers representing an elevation map where the width of each bar is 1, compute how much water it can trap after raining."
      ],
      "metadata": {
        "id": "YfI0ouVeYPAr"
      }
    },
    {
      "cell_type": "markdown",
      "source": [
        "This is a really good problem.\n",
        "\n",
        "We could solve it in O(n) or O(1) space complexity.\n",
        "\n",
        "[Ref Link](https://www.youtube.com/watch?v=ZI2z5pq0TqA)"
      ],
      "metadata": {
        "id": "Dpzkf47sYbK-"
      }
    },
    {
      "cell_type": "markdown",
      "source": [
        "Solution: Two Pointer Algorithm"
      ],
      "metadata": {
        "id": "zIuQvIrrYxJG"
      }
    },
    {
      "cell_type": "code",
      "execution_count": null,
      "metadata": {
        "id": "8KYFiskLYK_8"
      },
      "outputs": [],
      "source": [
        "class Solution(object):\n",
        "    def trap(self, height):\n",
        "        \"\"\"\n",
        "        :type height: List[int]\n",
        "        :rtype: int\n",
        "        \"\"\"\n",
        "        water = 0\n",
        "        l, r = 0, len(height) - 1 # set two pointers at end points\n",
        "        maxL, maxR = height[l], height[r] # the max height in the left or right\n",
        "        while l < r:\n",
        "            if maxL <= maxR:\n",
        "                l += 1\n",
        "                if maxL >= height[l]:\n",
        "                    water += maxL - height[l]\n",
        "                else:\n",
        "                    maxL = height[l]\n",
        "            elif maxL > maxR:\n",
        "                r -= 1\n",
        "                if maxR >= height[r]:\n",
        "                    water += maxR - height[r]\n",
        "                else:\n",
        "                    maxR = height[r]\n",
        "        return water"
      ]
    }
  ]
}
