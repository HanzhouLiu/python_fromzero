{
  "nbformat": 4,
  "nbformat_minor": 0,
  "metadata": {
    "colab": {
      "provenance": [],
      "authorship_tag": "ABX9TyPGZ7/WlFuKEOLZ4cIptruJ",
      "include_colab_link": true
    },
    "kernelspec": {
      "name": "python3",
      "display_name": "Python 3"
    },
    "language_info": {
      "name": "python"
    }
  },
  "cells": [
    {
      "cell_type": "markdown",
      "metadata": {
        "id": "view-in-github",
        "colab_type": "text"
      },
      "source": [
        "<a href=\"https://colab.research.google.com/github/HanzhouLiu/python_fromzero/blob/main/Minimum_Window_Substring_.ipynb\" target=\"_parent\"><img src=\"https://colab.research.google.com/assets/colab-badge.svg\" alt=\"Open In Colab\"/></a>"
      ]
    },
    {
      "cell_type": "markdown",
      "source": [
        "Leetcode 76\n",
        "\n",
        "Dictionary and two pointer"
      ],
      "metadata": {
        "id": "Ew5mI0a_J6jT"
      }
    },
    {
      "cell_type": "code",
      "execution_count": null,
      "metadata": {
        "id": "2vO6TtZWJ5Jj"
      },
      "outputs": [],
      "source": [
        "class Solution(object):\n",
        "    def minWindow(self, s, t):\n",
        "        \"\"\"\n",
        "        :type s: str\n",
        "        :type t: str\n",
        "        :rtype: str\n",
        "        \"\"\"\n",
        "        if t == \"\": return \"\"\n",
        "        countT, window = {}, {}\n",
        "        for c in t:\n",
        "            countT[c] = 1 + countT.get(c, 0)\n",
        "        # A value to return if the specified key does not exist. Default value None\n",
        "        have, need = 0, len(countT)\n",
        "        res, resLen = [-1, -1], float(\"infinity\")\n",
        "        l = 0\n",
        "        for r in range(len(s)):\n",
        "            c = s[r]\n",
        "            window[c] =  1 + window.get(c, 0)\n",
        "            if c in countT and window[c] == countT[c]:\n",
        "                have += 1\n",
        "            \n",
        "            while have == need:\n",
        "                if (r - l + 1) < resLen:\n",
        "                    res = [l, r]\n",
        "                    resLen = (r - l + 1)\n",
        "                window[s[l]] -= 1\n",
        "                if s[l] in countT and window[s[l]] < countT[s[l]]:\n",
        "                    have -= 1\n",
        "                l += 1\n",
        "        l, r = res\n",
        "        return s[l: r + 1] if resLen != float(\"inf\") else \"\""
      ]
    }
  ]
}