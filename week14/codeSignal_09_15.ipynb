{
  "nbformat": 4,
  "nbformat_minor": 0,
  "metadata": {
    "colab": {
      "provenance": [],
      "collapsed_sections": [],
      "authorship_tag": "ABX9TyNV3TWm8LufWRT+DI9QRqu+",
      "include_colab_link": true
    },
    "kernelspec": {
      "name": "python3",
      "display_name": "Python 3"
    },
    "language_info": {
      "name": "python"
    }
  },
  "cells": [
    {
      "cell_type": "markdown",
      "metadata": {
        "id": "view-in-github",
        "colab_type": "text"
      },
      "source": [
        "<a href=\"https://colab.research.google.com/github/HanzhouLiu/python_fromzero/blob/main/codeSignal_09_15.ipynb\" target=\"_parent\"><img src=\"https://colab.research.google.com/assets/colab-badge.svg\" alt=\"Open In Colab\"/></a>"
      ]
    },
    {
      "cell_type": "markdown",
      "source": [
        "# Count pairs in array whose sum is divisible by K\n",
        "\n",
        "https://www.geeksforgeeks.org/count-pairs-in-array-whose-sum-is-divisible-by-k/\n",
        "\n",
        "\n",
        "---\n",
        "\n",
        "\n",
        "\n",
        "\n",
        "```\n",
        "Input : A[] = {2, 2, 1, 7, 5, 3}, K = 4\n",
        "Output : 5\n",
        "Explanation : \n",
        "There are five pairs possible whose sum\n",
        "is divisible by '4' i.e., (2, 2), \n",
        "(1, 7), (7, 5), (1, 3) and (5, 3)\n",
        "\n",
        "Input : A[] = {5, 9, 36, 74, 52, 31, 42}, K = 3\n",
        "Output : 7\n",
        "```\n",
        "\n"
      ],
      "metadata": {
        "id": "H4ua_H5E-zxt"
      }
    },
    {
      "cell_type": "markdown",
      "source": [
        "Solution1: Brute Force\n",
        "\n",
        "Time complexity: O(N^2)"
      ],
      "metadata": {
        "id": "1FIv34dWb5om"
      }
    },
    {
      "cell_type": "code",
      "source": [
        "class Solution(object):\n",
        "    def countPairs(self, arr, k):\n",
        "        myList = []\n",
        "        count = 0\n",
        "        for i in range(len(arr)):\n",
        "            for j in range(i+1, len(arr)):\n",
        "                if (arr[i]+arr[j])%k == 0 and set((arr[i], arr[j])) not in myList:\n",
        "                    myList.append(set((arr[i], arr[j])))\n",
        "                    count += 1\n",
        "        return count"
      ],
      "metadata": {
        "id": "3RbDZv6c_U_R"
      },
      "execution_count": 1,
      "outputs": []
    },
    {
      "cell_type": "code",
      "execution_count": 2,
      "metadata": {
        "colab": {
          "base_uri": "https://localhost:8080/"
        },
        "id": "CJIErc-Z-yYF",
        "outputId": "43ecfb3e-ed00-4767-a152-a79360abbf89"
      },
      "outputs": [
        {
          "output_type": "execute_result",
          "data": {
            "text/plain": [
              "7"
            ]
          },
          "metadata": {},
          "execution_count": 2
        }
      ],
      "source": [
        "Solution().countPairs([5, 9, 36, 74, 52, 31, 42], 3)"
      ]
    },
    {
      "cell_type": "markdown",
      "source": [
        "Solution2: Hashmap\n",
        "\n",
        "Time complexity: O(N)\n",
        "\n",
        "\n",
        "\n",
        "---\n",
        "The idea is that each integer % k is in range [0, 1, 2, ..., k-1].\n",
        "\n"
      ],
      "metadata": {
        "id": "Pb-ewKKMcrhO"
      }
    },
    {
      "cell_type": "code",
      "source": [
        "class Solution(object):\n",
        "    def countPairs(self, arr, k):\n",
        "        myHash = {}\n",
        "        i, count = 0, 0\n",
        "        for _ in range(k):\n",
        "            myHash[_] = 0\n",
        "        for n in arr:\n",
        "            myHash[n % k] += 1\n",
        "        # let's count \"remainder == 0\"\n",
        "        count += myHash[0] * myHash\n",
        "        while i < k // 2:\n",
        "            count += myHash[k-i] * myHash[i]\n",
        "            i += 1\n",
        "        if \n",
        "        return count"
      ],
      "metadata": {
        "id": "cgTGU6SNcues"
      },
      "execution_count": null,
      "outputs": []
    },
    {
      "cell_type": "markdown",
      "source": [
        "\n",
        "\n",
        "```\n",
        "[2, 2, 4, 6], k = 2\n",
        "{0:4} ----> count = 4*3/2=6\n",
        "2,2;2,4;2,6;4,6.\n",
        "```\n",
        "\n",
        "\n"
      ],
      "metadata": {
        "id": "sz4fCicN3Fly"
      }
    }
  ]
}
