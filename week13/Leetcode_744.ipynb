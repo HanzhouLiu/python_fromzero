{
  "nbformat": 4,
  "nbformat_minor": 0,
  "metadata": {
    "colab": {
      "provenance": [],
      "collapsed_sections": [],
      "authorship_tag": "ABX9TyOSbWsUHPPiQDTepxqnOTjP",
      "include_colab_link": true
    },
    "kernelspec": {
      "name": "python3",
      "display_name": "Python 3"
    },
    "language_info": {
      "name": "python"
    }
  },
  "cells": [
    {
      "cell_type": "markdown",
      "metadata": {
        "id": "view-in-github",
        "colab_type": "text"
      },
      "source": [
        "<a href=\"https://colab.research.google.com/github/HanzhouLiu/python_fromzero/blob/main/Leetcode_744.ipynb\" target=\"_parent\"><img src=\"https://colab.research.google.com/assets/colab-badge.svg\" alt=\"Open In Colab\"/></a>"
      ]
    },
    {
      "cell_type": "markdown",
      "source": [
        "\n",
        "# 744. Find Smallest Letter Greater Than Target\n",
        "---\n",
        "\n",
        "https://leetcode.com/problems/find-smallest-letter-greater-than-target/discuss/1568523/Python-easy-solution-with-detail-explanation-(modified-binary-search)\n",
        "\n",
        "---\n",
        "\n",
        "My general idea is correct."
      ],
      "metadata": {
        "id": "wQ1Be3qwUE-t"
      }
    },
    {
      "cell_type": "code",
      "execution_count": null,
      "metadata": {
        "id": "EE-Ot8EYT2UN"
      },
      "outputs": [],
      "source": [
        "class Solution(object):\n",
        "    def nextGreatestLetter(self, letters, target):\n",
        "        \"\"\"\n",
        "        :type letters: List[str]\n",
        "        :type target: str\n",
        "        :rtype: str\n",
        "        \"\"\"\n",
        "        if letters[-1] <= target or target < letters[0]: return letters[0]\n",
        "        \n",
        "        l, r = 0, len(letters) - 1\n",
        "        \n",
        "        while l <= r:\n",
        "            mid = (l + r) // 2            \n",
        "            if letters[mid] > target: r = mid - 1\n",
        "            if letters[mid] < target: l = mid + 1\n",
        "        return letters[l]"
      ]
    }
  ]
}
