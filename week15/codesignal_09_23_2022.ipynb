{
  "nbformat": 4,
  "nbformat_minor": 0,
  "metadata": {
    "colab": {
      "provenance": [],
      "collapsed_sections": [],
      "authorship_tag": "ABX9TyOIgrzO07SySCFhdSZ/h1DJ",
      "include_colab_link": true
    },
    "kernelspec": {
      "name": "python3",
      "display_name": "Python 3"
    },
    "language_info": {
      "name": "python"
    }
  },
  "cells": [
    {
      "cell_type": "markdown",
      "metadata": {
        "id": "view-in-github",
        "colab_type": "text"
      },
      "source": [
        "<a href=\"https://colab.research.google.com/github/HanzhouLiu/python_fromzero/blob/main/codesignal_09_23_2022.ipynb\" target=\"_parent\"><img src=\"https://colab.research.google.com/assets/colab-badge.svg\" alt=\"Open In Colab\"/></a>"
      ]
    },
    {
      "cell_type": "markdown",
      "source": [
        "# Q4\n",
        "\n",
        "\n",
        "---\n",
        "\n",
        "\n",
        "Given an array of integers a, your task is to find how many of its contiguous subarrays of length m contain a pair of integers with a sum equal to k.\n",
        "\n",
        "More formally, given the array a, your task is to count the number of indices 0 ≤ i ≤ a.length - m such that a subarray [a[i], a[i + 1], ..., a[i + m - 1]] contains at least one pair (a[s], a[t]), where:\n",
        "\n",
        "s ≠ t\n",
        "a[s] + a[t] = k"
      ],
      "metadata": {
        "id": "dd-h3DiXJgMj"
      }
    },
    {
      "cell_type": "code",
      "execution_count": 11,
      "metadata": {
        "id": "u3QkEbAquJWR"
      },
      "outputs": [],
      "source": [
        "def solution(a, m, k):\n",
        "    count = 0\n",
        "    for i in range(0, len(a) - m + 1):\n",
        "        for j in range(i, i + m):\n",
        "            if k - a[j] in a[j + 1: i + m]:\n",
        "                count += 1\n",
        "                break # without this break, it counts how many pairs of indices.\n",
        "    print(count)\n"
      ]
    },
    {
      "cell_type": "code",
      "source": [
        "solution([2, 4, 7, 5, 3, 5, 8, 5, 1, 7], 4, 10)"
      ],
      "metadata": {
        "colab": {
          "base_uri": "https://localhost:8080/"
        },
        "id": "7sfoVg3Ocm9-",
        "outputId": "a4f121bc-33a8-4f9c-aa18-6e8c4878e9dc"
      },
      "execution_count": 12,
      "outputs": [
        {
          "output_type": "stream",
          "name": "stdout",
          "text": [
            "5\n"
          ]
        }
      ]
    },
    {
      "cell_type": "markdown",
      "source": [
        "# Q2\n",
        "\n",
        "\n",
        "---\n",
        "\n",
        "You are given an array of non-negative int numbers. You are allowed to choose any number from this arr and swap any two digits in it. If after the swap operation the number contains leading zeros, they can be omitted and not considered. (010 -> 10)\n",
        "\n",
        "Your task is to check whether it is possible to apply the swap operation at most once, so that the elements of the resulting array are strictly increasing.\n",
        "\n",
        "\n",
        "---\n",
        "\n",
        "This problem is sort of time-consuming. Remember that Q2 is not always the second simplest question. Take this one for example, it costs so much time to emunerate any possible case."
      ],
      "metadata": {
        "id": "I42ItYAreEb1"
      }
    },
    {
      "cell_type": "code",
      "source": [
        "from re import T\n",
        "def solution(numbers):\n",
        "    if len(numbers) == 1:   return True\n",
        "    for i in range(len(numbers) - 1):\n",
        "        if numbers[i + 1] - numbers[i] <= 0:\n",
        "            break\n",
        "    for j in range(len(numbers) - 1, 0, -1):\n",
        "        if numbers[j - 1] - numbers[j] >= 0:\n",
        "            break\n",
        "    if i != j - 1: return False\n",
        "    if numbers[j] <= numbers[i - 1]:  return False\n",
        "    def swapNum(y):\n",
        "        # y is a two-bit number\n",
        "        return (y % 10) * 10 + y // 10\n",
        "    def swapTwo(x, y, z):\n",
        "        # swap two digits in y so that x < y < z\n",
        "        # suppose x < z, y >= z, x < y\n",
        "        if y // 10 == 0:  return False\n",
        "        if y // 100 < 0:\n",
        "            y = swapNum(y)\n",
        "            return True if x < y < z else False\n",
        "        if y // 1000 < 0:\n",
        "            y01 = swapNum(y // 10) * 10 + y % 10\n",
        "            y12 = swapNum(y % 100) + 100 * y // 100\n",
        "            y02 = y // 10 * 100 + y % 100 % 10 * 10 + y // 100\n",
        "            for _ in [y01, y02, y12]:\n",
        "                if x < _ < z: return True\n",
        "            return False\n"
      ],
      "metadata": {
        "id": "PJ9g6pomeK35"
      },
      "execution_count": 15,
      "outputs": []
    },
    {
      "cell_type": "code",
      "source": [
        "numbers = [13, 31, 30]\n",
        "print(solution(numbers))"
      ],
      "metadata": {
        "colab": {
          "base_uri": "https://localhost:8080/"
        },
        "id": "btMWm948juRh",
        "outputId": "a39bcb81-3b17-49e1-81b3-01108ba92636"
      },
      "execution_count": 30,
      "outputs": [
        {
          "output_type": "stream",
          "name": "stdout",
          "text": [
            "None\n"
          ]
        }
      ]
    }
  ]
}
