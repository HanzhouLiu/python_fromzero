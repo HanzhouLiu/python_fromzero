{
  "nbformat": 4,
  "nbformat_minor": 0,
  "metadata": {
    "colab": {
      "name": "Leetcode #7.ipynb",
      "provenance": [],
      "authorship_tag": "ABX9TyMW5v9K8Slo12uQBk95Uvce",
      "include_colab_link": true
    },
    "kernelspec": {
      "name": "python3",
      "display_name": "Python 3"
    },
    "language_info": {
      "name": "python"
    }
  },
  "cells": [
    {
      "cell_type": "markdown",
      "metadata": {
        "id": "view-in-github",
        "colab_type": "text"
      },
      "source": [
        "<a href=\"https://colab.research.google.com/github/HanzhouLiu/python_fromzero/blob/main/Leetcode_7.ipynb\" target=\"_parent\"><img src=\"https://colab.research.google.com/assets/colab-badge.svg\" alt=\"Open In Colab\"/></a>"
      ]
    },
    {
      "cell_type": "markdown",
      "source": [
        "\n",
        "\n",
        "```\n",
        "Example 1:\n",
        "\n",
        "Input: x = 123\n",
        "Output: 321\n",
        "Example 2:\n",
        "\n",
        "Input: x = -123\n",
        "Output: -321\n",
        "Example 3:\n",
        "\n",
        "Input: x = 120\n",
        "Output: 21\n",
        "```\n",
        "\n"
      ],
      "metadata": {
        "id": "-G0v4x1KX9QW"
      }
    },
    {
      "cell_type": "markdown",
      "source": [
        "Sol1: integer to string"
      ],
      "metadata": {
        "id": "6i46W6aVYON7"
      }
    },
    {
      "cell_type": "code",
      "execution_count": null,
      "metadata": {
        "id": "RuNMUgeWX3t3"
      },
      "outputs": [],
      "source": [
        "class Solution(object):\n",
        "    def reverse(self, x):\n",
        "        \"\"\"\n",
        "        :type x: int\n",
        "        :rtype: int\n",
        "        \"\"\"\n",
        "        # x is in binary\n",
        "        \n",
        "        pos = abs(x)\n",
        "        string = str(pos)\n",
        "        \n",
        "        RevString = string[::-1]\n",
        "        \n",
        "        if x >= 0:\n",
        "            result = int(RevString)\n",
        "        if x <0:\n",
        "            result = -int(RevString)\n",
        "            \n",
        "        if result < -2**31 or result > 2**31 -1:\n",
        "            return 0\n",
        "        else:\n",
        "            return result"
      ]
    },
    {
      "cell_type": "markdown",
      "source": [
        "Sol2: Math method\n",
        "Ref:\n",
        "\n",
        "https://leetcode.com/problems/reverse-integer/discuss/284410/Simple-and-Fast"
      ],
      "metadata": {
        "id": "WBpNq3M1YSFj"
      }
    },
    {
      "cell_type": "code",
      "source": [
        "class Solution(object):\n",
        "    def reverse(self, x):\n",
        "        result = 0\n",
        "        symbol = 1\n",
        "        \n",
        "        if x < 0:\n",
        "            symbol = -1\n",
        "            x = -x\n",
        "\n",
        "        while x:\n",
        "            result = result * 10 + x % 10\n",
        "            x //= 10\n",
        "            \n",
        "        return 0 if result > pow(2,31) else result * symbol"
      ],
      "metadata": {
        "id": "faLs8savaBWa"
      },
      "execution_count": null,
      "outputs": []
    }
  ]
}