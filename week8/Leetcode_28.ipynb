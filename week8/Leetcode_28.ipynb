{
  "nbformat": 4,
  "nbformat_minor": 0,
  "metadata": {
    "colab": {
      "name": "Leetcode #28.ipynb",
      "provenance": [],
      "authorship_tag": "ABX9TyNWvg6HFEJEb1+N+46OrwIv",
      "include_colab_link": true
    },
    "kernelspec": {
      "name": "python3",
      "display_name": "Python 3"
    },
    "language_info": {
      "name": "python"
    }
  },
  "cells": [
    {
      "cell_type": "markdown",
      "metadata": {
        "id": "view-in-github",
        "colab_type": "text"
      },
      "source": [
        "<a href=\"https://colab.research.google.com/github/HanzhouLiu/python_fromzero/blob/main/Leetcode_28.ipynb\" target=\"_parent\"><img src=\"https://colab.research.google.com/assets/colab-badge.svg\" alt=\"Open In Colab\"/></a>"
      ]
    },
    {
      "cell_type": "markdown",
      "source": [
        "\n",
        "\n",
        "```\n",
        "Input: haystack = \"hello\", needle = \"ll\"\n",
        "Output: 2\n",
        "Input: haystack = \"aaaaa\", needle = \"bba\"\n",
        "Output: -1\n",
        "```\n",
        "\n"
      ],
      "metadata": {
        "id": "jSH3TIsvMomF"
      }
    },
    {
      "cell_type": "code",
      "execution_count": null,
      "metadata": {
        "id": "CL9PbaOhMiiT"
      },
      "outputs": [],
      "source": [
        "class Solution(object):\n",
        "    def strStr(self, haystack, needle):\n",
        "        \"\"\"\n",
        "        :type haystack: str\n",
        "        :type needle: str\n",
        "        :rtype: int\n",
        "        \"\"\"\n",
        "        if not needle:\n",
        "            return 0\n",
        "        else:\n",
        "            k = 0\n",
        "            if needle not in haystack:\n",
        "                return -1\n",
        "            else:\n",
        "                for i in range(0, len(haystack)-len(needle)+1):\n",
        "                    if haystack[i:i+len(needle)] == needle:\n",
        "                        return i"
      ]
    }
  ]
}
