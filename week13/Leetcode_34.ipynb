{
  "nbformat": 4,
  "nbformat_minor": 0,
  "metadata": {
    "colab": {
      "provenance": [],
      "collapsed_sections": [],
      "authorship_tag": "ABX9TyPtiOjZ/yZRZA69L3BMzYRU",
      "include_colab_link": true
    },
    "kernelspec": {
      "name": "python3",
      "display_name": "Python 3"
    },
    "language_info": {
      "name": "python"
    }
  },
  "cells": [
    {
      "cell_type": "markdown",
      "metadata": {
        "id": "view-in-github",
        "colab_type": "text"
      },
      "source": [
        "<a href=\"https://colab.research.google.com/github/HanzhouLiu/python_fromzero/blob/main/Leetcode_34.ipynb\" target=\"_parent\"><img src=\"https://colab.research.google.com/assets/colab-badge.svg\" alt=\"Open In Colab\"/></a>"
      ]
    },
    {
      "cell_type": "markdown",
      "source": [
        "# 34. Find First and Last Position of Element in Sorted Array\n",
        "\n",
        "Given an array of integers nums sorted in non-decreasing order, find the starting and ending position of a given target value.\n",
        "\n",
        "If target is not found in the array, return [-1, -1].\n",
        "\n",
        "You must write an algorithm with O(log n) runtime complexity.\n",
        "\n",
        "---\n",
        "This question is really good. Different from other similar questions, this one asks for a range instead of a sepecific index or value. How to get the border is tricky.\n",
        "\n",
        "---\n",
        "\n",
        "\n",
        "My Solution:\n",
        "inside each loop, increment or decrement the left and right pointers.\n",
        "\n",
        "Time complexity: O(log_n)"
      ],
      "metadata": {
        "id": "17mMmsVStGQX"
      }
    },
    {
      "cell_type": "code",
      "execution_count": null,
      "metadata": {
        "id": "Imhn7k3Ac2jB"
      },
      "outputs": [],
      "source": [
        "class Solution(object):\n",
        "    def searchRange(self, nums, target):\n",
        "        \"\"\"\n",
        "        :type nums: List[int]\n",
        "        :type target: int\n",
        "        :rtype: List[int]\n",
        "        \"\"\"\n",
        "        # if nums[0] == nums[-1] == target: return [0, len(nums)-1]\n",
        "        l, r = 0, len(nums) - 1\n",
        "        \n",
        "        while l <= r:\n",
        "            if nums[l] == nums[r] == target: return [l, r]\n",
        "            mid = (l + r) // 2\n",
        "            \n",
        "            if nums[mid] < target: l = mid + 1\n",
        "            if nums[mid] > target: r = mid - 1\n",
        "            if nums[mid] == target and nums[l] != target: l += 1\n",
        "            if nums[mid] == target and nums[r] != target: r -= 1\n",
        "        \n",
        "        return [-1, -1]"
      ]
    }
  ]
}
