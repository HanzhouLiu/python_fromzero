{
  "nbformat": 4,
  "nbformat_minor": 0,
  "metadata": {
    "colab": {
      "name": "Leetcode #49.ipynb",
      "provenance": [],
      "authorship_tag": "ABX9TyMcxGykF3o8TkvMF5VLXqJP",
      "include_colab_link": true
    },
    "kernelspec": {
      "name": "python3",
      "display_name": "Python 3"
    },
    "language_info": {
      "name": "python"
    }
  },
  "cells": [
    {
      "cell_type": "markdown",
      "metadata": {
        "id": "view-in-github",
        "colab_type": "text"
      },
      "source": [
        "<a href=\"https://colab.research.google.com/github/HanzhouLiu/python_fromzero/blob/main/Leetcode_49.ipynb\" target=\"_parent\"><img src=\"https://colab.research.google.com/assets/colab-badge.svg\" alt=\"Open In Colab\"/></a>"
      ]
    },
    {
      "cell_type": "markdown",
      "source": [
        "49. Group Anagrams"
      ],
      "metadata": {
        "id": "AOd_9hHow78a"
      }
    },
    {
      "cell_type": "code",
      "execution_count": null,
      "metadata": {
        "id": "IhUE8xqpw5yU"
      },
      "outputs": [],
      "source": [
        "class Solution(object):\n",
        "    def groupAnagrams(self, strs):\n",
        "        \"\"\"\n",
        "        :type strs: List[str]\n",
        "        :rtype: List[List[str]]\n",
        "        \"\"\"\n",
        "        hash = {}\n",
        "        \n",
        "        for item in strs:\n",
        "            sortedWord = \"\".join(sorted(item))\n",
        "            \n",
        "            if sortedWord not in hash:\n",
        "                hash[sortedWord] = [item]\n",
        "            else:\n",
        "                hash[sortedWord].append(item)\n",
        "                \n",
        "        res = []\n",
        "        for v in hash.values():\n",
        "            res.append(v)\n",
        "            \n",
        "        return res"
      ]
    }
  ]
}