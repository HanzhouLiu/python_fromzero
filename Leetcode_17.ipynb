{
  "nbformat": 4,
  "nbformat_minor": 0,
  "metadata": {
    "colab": {
      "name": "Leetcode #17.ipynb",
      "provenance": [],
      "authorship_tag": "ABX9TyOGWbw7Ax2E5hcQt5918j5r",
      "include_colab_link": true
    },
    "kernelspec": {
      "name": "python3",
      "display_name": "Python 3"
    },
    "language_info": {
      "name": "python"
    }
  },
  "cells": [
    {
      "cell_type": "markdown",
      "metadata": {
        "id": "view-in-github",
        "colab_type": "text"
      },
      "source": [
        "<a href=\"https://colab.research.google.com/github/HanzhouLiu/python_fromzero/blob/main/Leetcode_17.ipynb\" target=\"_parent\"><img src=\"https://colab.research.google.com/assets/colab-badge.svg\" alt=\"Open In Colab\"/></a>"
      ]
    },
    {
      "cell_type": "markdown",
      "source": [
        "Ref:\n",
        "\n",
        "https://leetcode.com/problems/letter-combinations-of-a-phone-number/discuss/1022553/Python-3-approaches-(iterative-DFS-BFS-recursive)-:-visuals-+-explanation"
      ],
      "metadata": {
        "id": "kvYG8lK8Woqt"
      }
    },
    {
      "cell_type": "markdown",
      "source": [
        "Solution1: LIFO (STACK) -- Depth First Search\n",
        "\n",
        "\n",
        "```\n",
        "Use a list of tuples to implement the stack structure.\n",
        "two basic functions:\n",
        "stack.pop();\n",
        "stack.append().\n",
        "```\n",
        "\n"
      ],
      "metadata": {
        "id": "2iTHAP36cxZM"
      }
    },
    {
      "cell_type": "code",
      "source": [
        "class Solution(object):\n",
        "    def letterCombinations(self, digits):\n",
        "        \"\"\"\n",
        "        :type digits: str\n",
        "        :rtype: List[str]\n",
        "        \"\"\"\n",
        "        if not digits:\n",
        "            return []\n",
        "        \n",
        "        # bulild k:v pair dict to map digit -> letters\n",
        "        d = {\n",
        "            '2': 'abc',\n",
        "            '3': 'def',\n",
        "            '4': 'ghi',\n",
        "            '5': 'jkl',\n",
        "            '6': 'mno',\n",
        "            '7': 'pqrs',\n",
        "            '8': 'tuv',\n",
        "            '9': 'wxyz'\n",
        "        }\n",
        "        \n",
        "        res = []\n",
        "        stack = [(0, \"\")] # a list of tuples\n",
        "        while stack:\n",
        "            i, combo = stack.pop() # i is an index kinda of node id\n",
        "            if i == len(digits):\n",
        "                res.append(combo)\n",
        "            else:\n",
        "                nextDigit = digits[i]\n",
        "                children = d[nextDigit]\n",
        "                for child in children:\n",
        "                    stack.append((i+1, combo+child))\n",
        "        return res"
      ],
      "metadata": {
        "id": "EKUCXX3Ocw_m"
      },
      "execution_count": null,
      "outputs": []
    },
    {
      "cell_type": "code",
      "execution_count": null,
      "metadata": {
        "id": "_GsU-FZlL70h"
      },
      "outputs": [],
      "source": [
        ""
      ]
    }
  ]
}