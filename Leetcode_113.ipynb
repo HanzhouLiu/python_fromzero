{
  "nbformat": 4,
  "nbformat_minor": 0,
  "metadata": {
    "colab": {
      "provenance": [],
      "authorship_tag": "ABX9TyNxVDLOkVWWNclSlwTZjaqd",
      "include_colab_link": true
    },
    "kernelspec": {
      "name": "python3",
      "display_name": "Python 3"
    },
    "language_info": {
      "name": "python"
    }
  },
  "cells": [
    {
      "cell_type": "markdown",
      "metadata": {
        "id": "view-in-github",
        "colab_type": "text"
      },
      "source": [
        "<a href=\"https://colab.research.google.com/github/HanzhouLiu/python_fromzero/blob/main/Leetcode_113.ipynb\" target=\"_parent\"><img src=\"https://colab.research.google.com/assets/colab-badge.svg\" alt=\"Open In Colab\"/></a>"
      ]
    },
    {
      "cell_type": "markdown",
      "source": [
        "# 113. Path Sum II\n",
        "\n",
        "A solution which returned empty values.\n",
        "\n",
        "However, I think the logic is correct."
      ],
      "metadata": {
        "id": "g0x4ByriB4qv"
      }
    },
    {
      "cell_type": "code",
      "execution_count": null,
      "metadata": {
        "id": "Qv4GBLknB2rX"
      },
      "outputs": [],
      "source": [
        "# Definition for a binary tree node.\n",
        "# class TreeNode(object):\n",
        "#     def __init__(self, val=0, left=None, right=None):\n",
        "#         self.val = val\n",
        "#         self.left = left\n",
        "#         self.right = right\n",
        "class Solution(object):\n",
        "    def pathSum(self, root, targetSum):\n",
        "        \"\"\"\n",
        "        :type root: TreeNode\n",
        "        :type targetSum: int\n",
        "        :rtype: List[List[int]]\n",
        "        \"\"\"\n",
        "        res = []\n",
        "        \n",
        "        def helper(curNode, curSum, comb):\n",
        "            # base case\n",
        "            if not curNode: return\n",
        "            #if curSum > targetSum:\n",
        "                #print(1)\n",
        "            #    return\n",
        "            if curNode.left == None and curNode.right == None:\n",
        "                if curSum == targetSum:\n",
        "                    comb.append(curNode.val)\n",
        "                    res.append(comb[:])\n",
        "                    return\n",
        "            \n",
        "            # 1st choice\n",
        "            comb.append(curNode.val)\n",
        "            helper(curNode.left, curSum + curNode.val, comb)\n",
        "            comb.pop()\n",
        "            # 2nd choice\n",
        "            helper(curNode.right, curSum + curNode.val, comb)\n",
        "            # comb.pop()\n",
        "            # return res\n",
        "        \n",
        "        #print(root.left)\n",
        "        #print(root == None)\n",
        "        helper(root, 0, [])\n",
        "        return res"
      ]
    },
    {
      "cell_type": "code",
      "source": [
        "# Definition for a binary tree node.\n",
        "# class TreeNode(object):\n",
        "#     def __init__(self, val=0, left=None, right=None):\n",
        "#         self.val = val\n",
        "#         self.left = left\n",
        "#         self.right = right\n",
        "class Solution(object):\n",
        "    def pathSum(self, root, targetSum):\n",
        "        \"\"\"\n",
        "        :type root: TreeNode\n",
        "        :type targetSum: int\n",
        "        :rtype: List[List[int]]\n",
        "        \"\"\"\n",
        "        res = []\n",
        "        \n",
        "        def helper(curNode, target, comb):\n",
        "            # base case\n",
        "            if not curNode: return\n",
        "            if (curNode.left or curNode.right) is False: \n",
        "                if target == 0: \n",
        "                    comb.append(curNode.val)\n",
        "                    res.append(comb[:])\n",
        "                return\n",
        "            \n",
        "            comb.append(curNode.val)\n",
        "            helper(curNode.left, target - curNode.val, comb)\n",
        "            comb.pop()\n",
        "            helper(curNode.right, target - curNode.val, comb)\n",
        "        \n",
        "        helper(root, targetSum, [])\n",
        "        return res"
      ],
      "metadata": {
        "id": "amwf85kTCGj5"
      },
      "execution_count": null,
      "outputs": []
    },
    {
      "cell_type": "markdown",
      "source": [
        "This version of answers is good."
      ],
      "metadata": {
        "id": "6INm5DsqHqsV"
      }
    },
    {
      "cell_type": "code",
      "source": [
        "# Definition for a binary tree node.\n",
        "# class TreeNode(object):\n",
        "#     def __init__(self, val=0, left=None, right=None):\n",
        "#         self.val = val\n",
        "#         self.left = left\n",
        "#         self.right = right\n",
        "class Solution(object):\n",
        "    def pathSum(self, root, targetSum):\n",
        "        \"\"\"\n",
        "        :type root: TreeNode\n",
        "        :type targetSum: int\n",
        "        :rtype: List[List[int]]\n",
        "        \"\"\"\n",
        "        res = []\n",
        "        \n",
        "        def helper(curNode, target, comb):\n",
        "            # base case\n",
        "            if not curNode: return \n",
        "            target -= curNode.val\n",
        "            comb.append(curNode.val)\n",
        "            if (curNode.left or curNode.right) is None: \n",
        "                if target == 0: \n",
        "                    res.append(comb[:])\n",
        "                # return\n",
        "            else:\n",
        "                helper(curNode.left, target, comb)\n",
        "                helper(curNode.right, target, comb)\n",
        "            comb.pop()\n",
        "        \n",
        "        helper(root, targetSum, [])\n",
        "        return res"
      ],
      "metadata": {
        "id": "ckjt7hKfHqDQ"
      },
      "execution_count": null,
      "outputs": []
    }
  ]
}