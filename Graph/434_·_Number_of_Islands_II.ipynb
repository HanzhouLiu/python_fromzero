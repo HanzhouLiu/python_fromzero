{
  "nbformat": 4,
  "nbformat_minor": 0,
  "metadata": {
    "colab": {
      "provenance": [],
      "collapsed_sections": [],
      "authorship_tag": "ABX9TyMHzTlX6ROnvwSq9DcHJd2v",
      "include_colab_link": true
    },
    "kernelspec": {
      "name": "python3",
      "display_name": "Python 3"
    },
    "language_info": {
      "name": "python"
    }
  },
  "cells": [
    {
      "cell_type": "markdown",
      "metadata": {
        "id": "view-in-github",
        "colab_type": "text"
      },
      "source": [
        "<a href=\"https://colab.research.google.com/github/HanzhouLiu/python_fromzero/blob/main/434_%C2%B7_Number_of_Islands_II.ipynb\" target=\"_parent\"><img src=\"https://colab.research.google.com/assets/colab-badge.svg\" alt=\"Open In Colab\"/></a>"
      ]
    },
    {
      "cell_type": "markdown",
      "source": [
        "\n",
        "\n",
        "```\n",
        "Input: n = 4, m = 5, A = [[1,1],[0,1],[3,3],[3,4]]\n",
        "Output: [1,1,2,2]\n",
        "Explanation:\n",
        "0.  00000\n",
        "    00000\n",
        "    00000\n",
        "    00000\n",
        "1.  00000\n",
        "    01000\n",
        "    00000\n",
        "    00000\n",
        "2.  01000\n",
        "    01000\n",
        "    00000\n",
        "    00000\n",
        "3.  01000\n",
        "    01000\n",
        "    00000\n",
        "    00010\n",
        "4.  01000\n",
        "    01000\n",
        "    00000\n",
        "    00011\n",
        "```\n",
        "Solution: Union Find\n"
      ],
      "metadata": {
        "id": "ROORBTV8PJyF"
      }
    },
    {
      "cell_type": "code",
      "execution_count": null,
      "metadata": {
        "id": "B3WBV9x9PHux"
      },
      "outputs": [],
      "source": [
        "from lintcode import (\n",
        "    Point,\n",
        ")\n",
        "\n",
        "\"\"\"\n",
        "Definition for a point:\n",
        "class Point:\n",
        "    def __init__(self, x=0, y=0):\n",
        "        self.x = x\n",
        "        self.y = y\n",
        "\"\"\"\n",
        "\n",
        "class Solution:\n",
        "    \"\"\"\n",
        "    @param n: An integer\n",
        "    @param m: An integer\n",
        "    @param operators: an array of point\n",
        "    @return: an integer array\n",
        "    \"\"\"\n",
        "    def num_islands2(self, n, m, operators):\n",
        "        # write your code here\n",
        "        par = {}\n",
        "        cnt = 0\n",
        "        islands = set()\n",
        "        res = []\n",
        "\n",
        "        def find(p):\n",
        "            path = []\n",
        "            while p != par[p]:\n",
        "                path.append(p)\n",
        "                p = par[p]\n",
        "            for item in path:\n",
        "                par[item] = p\n",
        "            return p\n",
        "\n",
        "        def union(p1, p2):\n",
        "            root1, root2 = find(p1), find(p2)\n",
        "            if root1 != root2:\n",
        "                par[root1] = root2\n",
        "                return True\n",
        "            return False\n",
        "\n",
        "        dirs = [[1, 0], [-1, 0], [0, 1], [0, -1]]\n",
        "        \n",
        "        for op in operators:\n",
        "            x, y = op.x, op.y\n",
        "            if (x, y) in islands:\n",
        "                res.append(cnt)\n",
        "                continue\n",
        "            islands.add((x, y))\n",
        "            par[(x, y)] = (x, y)\n",
        "            cnt += 1\n",
        "            for dir in dirs:\n",
        "                x1, y1 = x + dir[0], y + dir[1]\n",
        "                if (x1, y1) in islands:\n",
        "                    if union((x1, y1), (x, y)):\n",
        "                        cnt -= 1\n",
        "            res.append(cnt)\n",
        "        return res"
      ]
    }
  ]
}
