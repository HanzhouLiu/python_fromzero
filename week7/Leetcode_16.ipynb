{
  "nbformat": 4,
  "nbformat_minor": 0,
  "metadata": {
    "colab": {
      "name": "Leetcode #16.ipynb",
      "provenance": [],
      "authorship_tag": "ABX9TyMjZPMPTXd9DOIZUwdxW0gx",
      "include_colab_link": true
    },
    "kernelspec": {
      "name": "python3",
      "display_name": "Python 3"
    },
    "language_info": {
      "name": "python"
    }
  },
  "cells": [
    {
      "cell_type": "markdown",
      "metadata": {
        "id": "view-in-github",
        "colab_type": "text"
      },
      "source": [
        "<a href=\"https://colab.research.google.com/github/HanzhouLiu/python_fromzero/blob/main/Leetcode_16.ipynb\" target=\"_parent\"><img src=\"https://colab.research.google.com/assets/colab-badge.svg\" alt=\"Open In Colab\"/></a>"
      ]
    },
    {
      "cell_type": "markdown",
      "source": [
        "Given an integer array nums of length n and an integer target, find three integers in nums such that the sum is closest to target.\n",
        "\n",
        "Return the sum of the three integers.\n",
        "\n",
        "You may assume that each input would have exactly one solution.\n",
        "\n",
        "\n",
        "\n",
        "---\n",
        "\n",
        "\n",
        "```\n",
        "Input: nums = [-1,2,1,-4], target = 1\n",
        "Output: 2\n",
        "Explanation: The sum that is closest to the target is 2. (-1 + 2 + 1 = 2).\n",
        "```\n",
        "\n",
        "\n"
      ],
      "metadata": {
        "id": "rpGRgwDHHVnG"
      }
    },
    {
      "cell_type": "markdown",
      "source": [
        "Solution1: Two Pointer Algorithms\n",
        "\n",
        "Reference: https://www.geeksforgeeks.org/find-a-triplet-in-an-array-whose-sum-is-closest-to-a-given-number/"
      ],
      "metadata": {
        "id": "krpw2hk_Hgzj"
      }
    },
    {
      "cell_type": "code",
      "execution_count": null,
      "metadata": {
        "id": "iSIpwErUHRHP"
      },
      "outputs": [],
      "source": [
        "class Solution(object):\n",
        "    def threeSumClosest(self, nums, target):\n",
        "        \"\"\"\n",
        "        :type nums: List[int]\n",
        "        :type target: int\n",
        "        :rtype: int\n",
        "        \"\"\"\n",
        "        \"\"\"\n",
        "        Two Pointers Algo.\n",
        "        \"\"\"\n",
        "        sortedNums = sorted(nums)\n",
        "        closestSum = sortedNums[0]+sortedNums[1]+sortedNums[2]\n",
        "        \n",
        "        for i in range(len(nums)-2):\n",
        "            ptr1 = i+1  # next to the current num\n",
        "            ptr2 = len(nums)-1  # the last one\n",
        "            \n",
        "            while ptr1 < ptr2:\n",
        "                \n",
        "                SUM = sortedNums[i]+sortedNums[ptr1]+sortedNums[ptr2]\n",
        "                \n",
        "                if abs(target-SUM) < abs(target-closestSum):\n",
        "                    closestSum = SUM\n",
        "                \n",
        "                if SUM > target:\n",
        "                    ptr2 -= 1\n",
        "                else:\n",
        "                    ptr1 += 1\n",
        "        \n",
        "        return closestSum"
      ]
    }
  ]
}
