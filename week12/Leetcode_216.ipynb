{
  "nbformat": 4,
  "nbformat_minor": 0,
  "metadata": {
    "colab": {
      "provenance": [],
      "collapsed_sections": [],
      "authorship_tag": "ABX9TyN4Je8KKs+pk0oAzWLesP/N",
      "include_colab_link": true
    },
    "kernelspec": {
      "name": "python3",
      "display_name": "Python 3"
    },
    "language_info": {
      "name": "python"
    }
  },
  "cells": [
    {
      "cell_type": "markdown",
      "metadata": {
        "id": "view-in-github",
        "colab_type": "text"
      },
      "source": [
        "<a href=\"https://colab.research.google.com/github/HanzhouLiu/python_fromzero/blob/main/Leetcode_216.ipynb\" target=\"_parent\"><img src=\"https://colab.research.google.com/assets/colab-badge.svg\" alt=\"Open In Colab\"/></a>"
      ]
    },
    {
      "cell_type": "markdown",
      "source": [
        "# 216. Combination Sum III\n",
        "\n",
        "\n",
        "```\n",
        "Input: k = 3, n = 9\n",
        "Output: [[1,2,6],[1,3,5],[2,3,4]]\n",
        "Explanation:\n",
        "1 + 2 + 6 = 9\n",
        "1 + 3 + 5 = 9\n",
        "2 + 3 + 4 = 9\n",
        "There are no other valid combinations.\n",
        "```\n",
        "\n",
        "\n",
        "\n",
        "```\n",
        "Input: k = 4, n = 1\n",
        "Output: []\n",
        "Explanation: There are no valid combinations.\n",
        "Using 4 different numbers in the range [1,9], the smallest sum we can get is 1+2+3+4 = 10 and since 10 > 1, there are no valid combination.\n",
        "```\n",
        "\n",
        "\n",
        "---\n",
        "\n",
        "\n",
        "This is a really good question. Not like a binary tree, in this example, we have to loop over all elements from the current number to number 9. Also, in each loop, we have to increment the current num to avoid duplicate numbers."
      ],
      "metadata": {
        "id": "iG9dGygR7V3I"
      }
    },
    {
      "cell_type": "markdown",
      "source": [
        "Solution 1:\n",
        "wrong, because the current num in each loop not incremented."
      ],
      "metadata": {
        "id": "V0SxsQ7y8Rx-"
      }
    },
    {
      "cell_type": "code",
      "execution_count": 13,
      "metadata": {
        "id": "vW8Kb_sw2QIP"
      },
      "outputs": [],
      "source": [
        "class Solution(object):\n",
        "    def combinationSum3(self, k, n):\n",
        "        \"\"\"\n",
        "        :type k: int\n",
        "        :type n: int\n",
        "        :rtype: List[List[int]]\n",
        "        \"\"\"\n",
        "        res = []\n",
        "        \n",
        "        if n < k or n > 9 * k:\n",
        "            return res\n",
        "        \n",
        "        def helper(target, curNum, count, comb):\n",
        "            if target < 0 or count > k: return\n",
        "            # base case\n",
        "            if count == k and target ==0:\n",
        "                res.append(comb[:])\n",
        "                return\n",
        "            \n",
        "            # 1st choice\n",
        "            for num in range(curNum, 10):\n",
        "                comb.append(num)\n",
        "                helper(target - num, num + 1, count + 1, comb)\n",
        "                comb.pop()\n",
        "            \n",
        "            return\n",
        "        \n",
        "        helper(n, 1, 0, [])\n",
        "        return res"
      ]
    },
    {
      "cell_type": "code",
      "source": [
        "print(Solution().combinationSum3(1, 1))"
      ],
      "metadata": {
        "colab": {
          "base_uri": "https://localhost:8080/"
        },
        "id": "AITj_RuO2SAL",
        "outputId": "0b709dda-c109-453b-e378-a8a7dbe2081c"
      },
      "execution_count": 14,
      "outputs": [
        {
          "output_type": "stream",
          "name": "stdout",
          "text": [
            "[[1]]\n"
          ]
        }
      ]
    },
    {
      "cell_type": "markdown",
      "source": [
        "Correct Version!!!:"
      ],
      "metadata": {
        "id": "g5jvis4076Mr"
      }
    },
    {
      "cell_type": "code",
      "source": [
        "class Solution(object):\n",
        "    def combinationSum3(self, k, n):\n",
        "        \"\"\"\n",
        "        :type k: int\n",
        "        :type n: int\n",
        "        :rtype: List[List[int]]\n",
        "        \"\"\"\n",
        "        res = []\n",
        "        \n",
        "        if n < k or n > 9 * k:\n",
        "            return res\n",
        "        \n",
        "        def helper(target, curNum, count, comb):\n",
        "            if target < 0 or count > k: return\n",
        "            # base case\n",
        "            if count == k and target ==0:\n",
        "                res.append(comb[:])\n",
        "                return\n",
        "            \n",
        "            # 1st choice\n",
        "            for num in range(curNum, 10):\n",
        "                comb.append(num)\n",
        "                helper(target - num, num + 1, count + 1, comb)\n",
        "                comb.pop()\n",
        "        \n",
        "        helper(n, 1, 0, [])\n",
        "        return res"
      ],
      "metadata": {
        "id": "kuc8YoV97Ubh"
      },
      "execution_count": null,
      "outputs": []
    }
  ]
}
